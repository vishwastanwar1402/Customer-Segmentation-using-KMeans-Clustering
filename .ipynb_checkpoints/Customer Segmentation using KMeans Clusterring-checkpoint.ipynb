{
 "cells": [
  {
   "attachments": {},
   "cell_type": "markdown",
   "id": "4bec0b91",
   "metadata": {
    "execution": {
     "iopub.execute_input": "2022-07-04T04:53:09.738639Z",
     "iopub.status.busy": "2022-07-04T04:53:09.738203Z",
     "iopub.status.idle": "2022-07-04T04:53:09.751783Z",
     "shell.execute_reply": "2022-07-04T04:53:09.750274Z",
     "shell.execute_reply.started": "2022-07-04T04:53:09.738604Z"
    },
    "papermill": {
     "duration": 0.022656,
     "end_time": "2024-04-11T05:57:14.434335",
     "exception": false,
     "start_time": "2024-04-11T05:57:14.411679",
     "status": "completed"
    },
    "tags": []
   },
   "source": [
    "This notebook, based on [Online Retail II UCI](https://www.kaggle.com/datasets/mashlyn/online-retail-ii-uci) dataset, is all about sales analytics. Here, I will use Python and its libs to do the following:\n",
    "- investigate the dataset and clean the data;\n",
    "- find most and least expensive products;\n",
    "- have a deeper look at sales numbers, using different dimensions - countries, products, customers;\n",
    "- perform cohort analysis for retention rate and for average sales quantity;\n",
    "- take a look at how sales amount was changing with time.\n",
    "- Perform Kmeans Clusterring on the data based on purchasing pattern of the customers."
   ]
  },
  {
   "cell_type": "markdown",
   "id": "ecb12be7",
   "metadata": {
    "papermill": {
     "duration": 0.019349,
     "end_time": "2024-04-11T05:57:14.473151",
     "exception": false,
     "start_time": "2024-04-11T05:57:14.453802",
     "status": "completed"
    },
    "tags": []
   },
   "source": [
    "## Importing Important Libraries"
   ]
  },
  {
   "cell_type": "code",
   "execution_count": 42,
   "id": "1ca7b381",
   "metadata": {
    "_cell_guid": "b1076dfc-b9ad-4769-8c92-a6c4dae69d19",
    "_uuid": "8f2839f25d086af736a60e9eeb907d3b93b6e0e5",
    "papermill": {
     "duration": 1.793037,
     "end_time": "2024-04-11T05:57:16.285150",
     "exception": false,
     "start_time": "2024-04-11T05:57:14.492113",
     "status": "completed"
    },
    "tags": []
   },
   "outputs": [],
   "source": [
    "import numpy as np \n",
    "import pandas as pd \n",
    "import datetime as dt \n",
    "import plotly.express as px \n",
    "import plotly.graph_objects as go \n",
    "from sklearn.preprocessing import StandardScaler\n",
    "from datetime import date\n",
    "import pandas as pd\n",
    "import matplotlib.pyplot as plt\n",
    "from sklearn.cluster import KMeans\n",
    "from sklearn.metrics import silhouette_score,accuracy_score\n",
    "import operator\n",
    "import warnings\n",
    "warnings.filterwarnings('ignore')\n",
    "from sklearn.decomposition import PCA"
   ]
  },
  {
   "cell_type": "markdown",
   "id": "4f94c81e",
   "metadata": {
    "papermill": {
     "duration": 0.018394,
     "end_time": "2024-04-11T05:57:16.324415",
     "exception": false,
     "start_time": "2024-04-11T05:57:16.306021",
     "status": "completed"
    },
    "tags": []
   },
   "source": [
    "## Reading the dataset"
   ]
  },
  {
   "cell_type": "code",
   "execution_count": 43,
   "id": "79065082",
   "metadata": {
    "papermill": {
     "duration": 2.758107,
     "end_time": "2024-04-11T05:57:19.105888",
     "exception": false,
     "start_time": "2024-04-11T05:57:16.347781",
     "status": "completed"
    },
    "tags": []
   },
   "outputs": [],
   "source": [
    "retail = pd.read_excel('online_retail_II.xlsx')"
   ]
  },
  {
   "cell_type": "markdown",
   "id": "5a0c9718",
   "metadata": {
    "papermill": {
     "duration": 0.018213,
     "end_time": "2024-04-11T05:57:19.142930",
     "exception": false,
     "start_time": "2024-04-11T05:57:19.124717",
     "status": "completed"
    },
    "tags": []
   },
   "source": [
    "## Checking and Preparing the Data"
   ]
  },
  {
   "cell_type": "code",
   "execution_count": 44,
   "id": "8ce6f9c8",
   "metadata": {
    "papermill": {
     "duration": 0.053331,
     "end_time": "2024-04-11T05:57:19.214733",
     "exception": false,
     "start_time": "2024-04-11T05:57:19.161402",
     "status": "completed"
    },
    "tags": []
   },
   "outputs": [
    {
     "data": {
      "text/html": [
       "<div>\n",
       "<style scoped>\n",
       "    .dataframe tbody tr th:only-of-type {\n",
       "        vertical-align: middle;\n",
       "    }\n",
       "\n",
       "    .dataframe tbody tr th {\n",
       "        vertical-align: top;\n",
       "    }\n",
       "\n",
       "    .dataframe thead th {\n",
       "        text-align: right;\n",
       "    }\n",
       "</style>\n",
       "<table border=\"1\" class=\"dataframe\">\n",
       "  <thead>\n",
       "    <tr style=\"text-align: right;\">\n",
       "      <th></th>\n",
       "      <th>Invoice</th>\n",
       "      <th>StockCode</th>\n",
       "      <th>Description</th>\n",
       "      <th>Quantity</th>\n",
       "      <th>InvoiceDate</th>\n",
       "      <th>Price</th>\n",
       "      <th>Customer ID</th>\n",
       "      <th>Country</th>\n",
       "    </tr>\n",
       "  </thead>\n",
       "  <tbody>\n",
       "    <tr>\n",
       "      <th>0</th>\n",
       "      <td>489434</td>\n",
       "      <td>85048</td>\n",
       "      <td>15CM CHRISTMAS GLASS BALL 20 LIGHTS</td>\n",
       "      <td>12</td>\n",
       "      <td>2009-12-01 07:45:00</td>\n",
       "      <td>6.95</td>\n",
       "      <td>13085.0</td>\n",
       "      <td>United Kingdom</td>\n",
       "    </tr>\n",
       "    <tr>\n",
       "      <th>1</th>\n",
       "      <td>489434</td>\n",
       "      <td>79323P</td>\n",
       "      <td>PINK CHERRY LIGHTS</td>\n",
       "      <td>12</td>\n",
       "      <td>2009-12-01 07:45:00</td>\n",
       "      <td>6.75</td>\n",
       "      <td>13085.0</td>\n",
       "      <td>United Kingdom</td>\n",
       "    </tr>\n",
       "    <tr>\n",
       "      <th>2</th>\n",
       "      <td>489434</td>\n",
       "      <td>79323W</td>\n",
       "      <td>WHITE CHERRY LIGHTS</td>\n",
       "      <td>12</td>\n",
       "      <td>2009-12-01 07:45:00</td>\n",
       "      <td>6.75</td>\n",
       "      <td>13085.0</td>\n",
       "      <td>United Kingdom</td>\n",
       "    </tr>\n",
       "    <tr>\n",
       "      <th>3</th>\n",
       "      <td>489434</td>\n",
       "      <td>22041</td>\n",
       "      <td>RECORD FRAME 7\" SINGLE SIZE</td>\n",
       "      <td>48</td>\n",
       "      <td>2009-12-01 07:45:00</td>\n",
       "      <td>2.10</td>\n",
       "      <td>13085.0</td>\n",
       "      <td>United Kingdom</td>\n",
       "    </tr>\n",
       "    <tr>\n",
       "      <th>4</th>\n",
       "      <td>489434</td>\n",
       "      <td>21232</td>\n",
       "      <td>STRAWBERRY CERAMIC TRINKET BOX</td>\n",
       "      <td>24</td>\n",
       "      <td>2009-12-01 07:45:00</td>\n",
       "      <td>1.25</td>\n",
       "      <td>13085.0</td>\n",
       "      <td>United Kingdom</td>\n",
       "    </tr>\n",
       "  </tbody>\n",
       "</table>\n",
       "</div>"
      ],
      "text/plain": [
       "  Invoice StockCode                          Description  Quantity  \\\n",
       "0  489434     85048  15CM CHRISTMAS GLASS BALL 20 LIGHTS        12   \n",
       "1  489434    79323P                   PINK CHERRY LIGHTS        12   \n",
       "2  489434    79323W                  WHITE CHERRY LIGHTS        12   \n",
       "3  489434     22041         RECORD FRAME 7\" SINGLE SIZE         48   \n",
       "4  489434     21232       STRAWBERRY CERAMIC TRINKET BOX        24   \n",
       "\n",
       "          InvoiceDate  Price  Customer ID         Country  \n",
       "0 2009-12-01 07:45:00   6.95      13085.0  United Kingdom  \n",
       "1 2009-12-01 07:45:00   6.75      13085.0  United Kingdom  \n",
       "2 2009-12-01 07:45:00   6.75      13085.0  United Kingdom  \n",
       "3 2009-12-01 07:45:00   2.10      13085.0  United Kingdom  \n",
       "4 2009-12-01 07:45:00   1.25      13085.0  United Kingdom  "
      ]
     },
     "execution_count": 44,
     "metadata": {},
     "output_type": "execute_result"
    }
   ],
   "source": [
    "retail.head()"
   ]
  },
  {
   "cell_type": "code",
   "execution_count": 45,
   "id": "89b8d87e",
   "metadata": {
    "papermill": {
     "duration": 0.661086,
     "end_time": "2024-04-11T05:57:19.895744",
     "exception": false,
     "start_time": "2024-04-11T05:57:19.234658",
     "status": "completed"
    },
    "tags": []
   },
   "outputs": [
    {
     "name": "stdout",
     "output_type": "stream",
     "text": [
      "<class 'pandas.core.frame.DataFrame'>\n",
      "RangeIndex: 525461 entries, 0 to 525460\n",
      "Data columns (total 8 columns):\n",
      " #   Column       Non-Null Count   Dtype         \n",
      "---  ------       --------------   -----         \n",
      " 0   Invoice      525461 non-null  object        \n",
      " 1   StockCode    525461 non-null  object        \n",
      " 2   Description  522533 non-null  object        \n",
      " 3   Quantity     525461 non-null  int64         \n",
      " 4   InvoiceDate  525461 non-null  datetime64[ns]\n",
      " 5   Price        525461 non-null  float64       \n",
      " 6   Customer ID  417534 non-null  float64       \n",
      " 7   Country      525461 non-null  object        \n",
      "dtypes: datetime64[ns](1), float64(2), int64(1), object(4)\n",
      "memory usage: 32.1+ MB\n"
     ]
    }
   ],
   "source": [
    "retail.info()"
   ]
  },
  {
   "cell_type": "markdown",
   "id": "dbe30c94",
   "metadata": {
    "papermill": {
     "duration": 0.018565,
     "end_time": "2024-04-11T05:57:19.933839",
     "exception": false,
     "start_time": "2024-04-11T05:57:19.915274",
     "status": "completed"
    },
    "tags": []
   },
   "source": [
    "**First observations:**\n",
    "- 'InvoiceDate' column contains datetime information, while having type 'object' - therefore conversion will be required to perform datetime operations. I will use a separate column 'InvoiceDate_DT' for this;\n",
    "- Most columns have 1067371 rows. Exceptions are columns 'Description' with 1062989 rows and 'Customer ID' with 824364 rows. Some data is missing there. I will hardly use 'Description' during my analysis, but 'Customer ID' is a must for my analysis, so I will drop the rows with missing customer IDs;\n",
    "- 'Customer ID' column has type 'float64', while 'int64' would be absolutely sufficient - again, type conversion will be a good idea here in order to operate the data properly.\n",
    "- While we have columns for product price and quantity, it will be very helpful to get also total value of each transaction - I will calculate it in a separate column.\n",
    "- Finally, I will sort my data chronologically."
   ]
  },
  {
   "cell_type": "markdown",
   "id": "508fab30-6ef5-422b-badc-29509f015535",
   "metadata": {},
   "source": [
    "### Cleaning and Preprocessing the data"
   ]
  },
  {
   "cell_type": "code",
   "execution_count": 46,
   "id": "d5b65240",
   "metadata": {
    "papermill": {
     "duration": 0.600109,
     "end_time": "2024-04-11T05:57:20.552828",
     "exception": false,
     "start_time": "2024-04-11T05:57:19.952719",
     "status": "completed"
    },
    "tags": []
   },
   "outputs": [],
   "source": [
    "retail['InvoiceDate_DT'] = pd.to_datetime(retail['InvoiceDate'])\n",
    "retail = retail[retail['Customer ID'].notna()]\n",
    "retail['Customer ID'] = retail['Customer ID'].astype(np.int64)\n",
    "retail = retail.sort_values('InvoiceDate_DT')\n",
    "retail['Total'] = retail['Quantity'] * retail['Price']"
   ]
  },
  {
   "cell_type": "markdown",
   "id": "4c6b1b7f",
   "metadata": {
    "papermill": {
     "duration": 0.018613,
     "end_time": "2024-04-11T05:57:20.590623",
     "exception": false,
     "start_time": "2024-04-11T05:57:20.572010",
     "status": "completed"
    },
    "tags": []
   },
   "source": [
    "## General Sales Analytics\n",
    "### Most and Least Expensive Product"
   ]
  },
  {
   "cell_type": "code",
   "execution_count": 47,
   "id": "82a76fcc",
   "metadata": {
    "papermill": {
     "duration": 0.064827,
     "end_time": "2024-04-11T05:57:20.674319",
     "exception": false,
     "start_time": "2024-04-11T05:57:20.609492",
     "status": "completed"
    },
    "tags": []
   },
   "outputs": [
    {
     "data": {
      "text/html": [
       "<div>\n",
       "<style scoped>\n",
       "    .dataframe tbody tr th:only-of-type {\n",
       "        vertical-align: middle;\n",
       "    }\n",
       "\n",
       "    .dataframe tbody tr th {\n",
       "        vertical-align: top;\n",
       "    }\n",
       "\n",
       "    .dataframe thead th {\n",
       "        text-align: right;\n",
       "    }\n",
       "</style>\n",
       "<table border=\"1\" class=\"dataframe\">\n",
       "  <thead>\n",
       "    <tr style=\"text-align: right;\">\n",
       "      <th></th>\n",
       "      <th>Invoice</th>\n",
       "      <th>StockCode</th>\n",
       "      <th>Description</th>\n",
       "      <th>Quantity</th>\n",
       "      <th>InvoiceDate</th>\n",
       "      <th>Price</th>\n",
       "      <th>Customer ID</th>\n",
       "      <th>Country</th>\n",
       "      <th>InvoiceDate_DT</th>\n",
       "      <th>Total</th>\n",
       "    </tr>\n",
       "  </thead>\n",
       "  <tbody>\n",
       "    <tr>\n",
       "      <th>241824</th>\n",
       "      <td>C512770</td>\n",
       "      <td>M</td>\n",
       "      <td>Manual</td>\n",
       "      <td>-1</td>\n",
       "      <td>2010-06-17 16:52:00</td>\n",
       "      <td>25111.09</td>\n",
       "      <td>17399</td>\n",
       "      <td>United Kingdom</td>\n",
       "      <td>2010-06-17 16:52:00</td>\n",
       "      <td>-25111.09</td>\n",
       "    </tr>\n",
       "  </tbody>\n",
       "</table>\n",
       "</div>"
      ],
      "text/plain": [
       "        Invoice StockCode Description  Quantity         InvoiceDate     Price  \\\n",
       "241824  C512770         M      Manual        -1 2010-06-17 16:52:00  25111.09   \n",
       "\n",
       "        Customer ID         Country      InvoiceDate_DT     Total  \n",
       "241824        17399  United Kingdom 2010-06-17 16:52:00 -25111.09  "
      ]
     },
     "execution_count": 47,
     "metadata": {},
     "output_type": "execute_result"
    }
   ],
   "source": [
    "most_expensive = retail.loc[retail['Price'] == retail['Price'].max()]\n",
    "most_expensive "
   ]
  },
  {
   "cell_type": "code",
   "execution_count": 48,
   "id": "4f5e3f4f",
   "metadata": {
    "papermill": {
     "duration": 0.055087,
     "end_time": "2024-04-11T05:57:20.748752",
     "exception": false,
     "start_time": "2024-04-11T05:57:20.693665",
     "status": "completed"
    },
    "tags": []
   },
   "outputs": [
    {
     "data": {
      "text/html": [
       "<div>\n",
       "<style scoped>\n",
       "    .dataframe tbody tr th:only-of-type {\n",
       "        vertical-align: middle;\n",
       "    }\n",
       "\n",
       "    .dataframe tbody tr th {\n",
       "        vertical-align: top;\n",
       "    }\n",
       "\n",
       "    .dataframe thead th {\n",
       "        text-align: right;\n",
       "    }\n",
       "</style>\n",
       "<table border=\"1\" class=\"dataframe\">\n",
       "  <thead>\n",
       "    <tr style=\"text-align: right;\">\n",
       "      <th></th>\n",
       "      <th>Description</th>\n",
       "      <th>Price</th>\n",
       "      <th>Quantity</th>\n",
       "    </tr>\n",
       "  </thead>\n",
       "  <tbody>\n",
       "    <tr>\n",
       "      <th>0</th>\n",
       "      <td>FLAMINGO LIGHTS</td>\n",
       "      <td>0.0</td>\n",
       "      <td>24</td>\n",
       "    </tr>\n",
       "    <tr>\n",
       "      <th>1</th>\n",
       "      <td>6 RIBBONS EMPIRE</td>\n",
       "      <td>0.0</td>\n",
       "      <td>12</td>\n",
       "    </tr>\n",
       "    <tr>\n",
       "      <th>2</th>\n",
       "      <td>AIRLINE BAG VINTAGE JET SET WHITE</td>\n",
       "      <td>0.0</td>\n",
       "      <td>1</td>\n",
       "    </tr>\n",
       "    <tr>\n",
       "      <th>3</th>\n",
       "      <td>ANTIQUE GLASS HEART DECORATION</td>\n",
       "      <td>0.0</td>\n",
       "      <td>12</td>\n",
       "    </tr>\n",
       "    <tr>\n",
       "      <th>4</th>\n",
       "      <td>ANTIQUE LILY FAIRY LIGHTS</td>\n",
       "      <td>0.0</td>\n",
       "      <td>8</td>\n",
       "    </tr>\n",
       "    <tr>\n",
       "      <th>5</th>\n",
       "      <td>BREAD BIN DINER STYLE RED</td>\n",
       "      <td>0.0</td>\n",
       "      <td>1</td>\n",
       "    </tr>\n",
       "    <tr>\n",
       "      <th>6</th>\n",
       "      <td>CAKE STAND LACE WHITE</td>\n",
       "      <td>0.0</td>\n",
       "      <td>2</td>\n",
       "    </tr>\n",
       "    <tr>\n",
       "      <th>7</th>\n",
       "      <td>CAST IRON HOOK GARDEN FORK</td>\n",
       "      <td>0.0</td>\n",
       "      <td>8</td>\n",
       "    </tr>\n",
       "    <tr>\n",
       "      <th>8</th>\n",
       "      <td>CAST IRON HOOK GARDEN TROWEL</td>\n",
       "      <td>0.0</td>\n",
       "      <td>8</td>\n",
       "    </tr>\n",
       "    <tr>\n",
       "      <th>9</th>\n",
       "      <td>CHARLOTTE BAG , SUKI DESIGN</td>\n",
       "      <td>0.0</td>\n",
       "      <td>10</td>\n",
       "    </tr>\n",
       "    <tr>\n",
       "      <th>10</th>\n",
       "      <td>CHRISTMAS CRAFT WHITE FAIRY</td>\n",
       "      <td>0.0</td>\n",
       "      <td>12</td>\n",
       "    </tr>\n",
       "    <tr>\n",
       "      <th>11</th>\n",
       "      <td>CHRISTMAS PUDDING TRINKET POT</td>\n",
       "      <td>0.0</td>\n",
       "      <td>1</td>\n",
       "    </tr>\n",
       "    <tr>\n",
       "      <th>12</th>\n",
       "      <td>DOLLY GIRL LUNCH BOX</td>\n",
       "      <td>0.0</td>\n",
       "      <td>64</td>\n",
       "    </tr>\n",
       "    <tr>\n",
       "      <th>13</th>\n",
       "      <td>DOOR MAT FAIRY CAKE</td>\n",
       "      <td>0.0</td>\n",
       "      <td>2</td>\n",
       "    </tr>\n",
       "    <tr>\n",
       "      <th>14</th>\n",
       "      <td>DOORMAT HOME SWEET HOME BLUE</td>\n",
       "      <td>0.0</td>\n",
       "      <td>6</td>\n",
       "    </tr>\n",
       "    <tr>\n",
       "      <th>15</th>\n",
       "      <td>HANGING METAL BIRD BATH</td>\n",
       "      <td>0.0</td>\n",
       "      <td>1</td>\n",
       "    </tr>\n",
       "    <tr>\n",
       "      <th>16</th>\n",
       "      <td>IVORY KITCHEN SCALES</td>\n",
       "      <td>0.0</td>\n",
       "      <td>2</td>\n",
       "    </tr>\n",
       "    <tr>\n",
       "      <th>17</th>\n",
       "      <td>MILK PAN PINK RETROSPOT</td>\n",
       "      <td>0.0</td>\n",
       "      <td>3</td>\n",
       "    </tr>\n",
       "    <tr>\n",
       "      <th>18</th>\n",
       "      <td>Manual</td>\n",
       "      <td>0.0</td>\n",
       "      <td>1</td>\n",
       "    </tr>\n",
       "    <tr>\n",
       "      <th>19</th>\n",
       "      <td>NOEL WOODEN BLOCK LETTERS</td>\n",
       "      <td>0.0</td>\n",
       "      <td>1</td>\n",
       "    </tr>\n",
       "    <tr>\n",
       "      <th>20</th>\n",
       "      <td>POLYESTER FILLER PAD 45x45cm</td>\n",
       "      <td>0.0</td>\n",
       "      <td>648</td>\n",
       "    </tr>\n",
       "    <tr>\n",
       "      <th>21</th>\n",
       "      <td>RED RETROSPOT CAKE STAND</td>\n",
       "      <td>0.0</td>\n",
       "      <td>2</td>\n",
       "    </tr>\n",
       "    <tr>\n",
       "      <th>22</th>\n",
       "      <td>REGENCY CAKESTAND 3 TIER</td>\n",
       "      <td>0.0</td>\n",
       "      <td>5</td>\n",
       "    </tr>\n",
       "    <tr>\n",
       "      <th>23</th>\n",
       "      <td>RETRO SPOT LARGE MILK JUG</td>\n",
       "      <td>0.0</td>\n",
       "      <td>12</td>\n",
       "    </tr>\n",
       "    <tr>\n",
       "      <th>24</th>\n",
       "      <td>ROUND CAKE TIN VINTAGE GREEN</td>\n",
       "      <td>0.0</td>\n",
       "      <td>1</td>\n",
       "    </tr>\n",
       "    <tr>\n",
       "      <th>25</th>\n",
       "      <td>SET/5 RED SPOTTY LID GLASS BOWLS</td>\n",
       "      <td>0.0</td>\n",
       "      <td>2</td>\n",
       "    </tr>\n",
       "    <tr>\n",
       "      <th>26</th>\n",
       "      <td>TV DINNER TRAY DOLLY GIRL</td>\n",
       "      <td>0.0</td>\n",
       "      <td>9</td>\n",
       "    </tr>\n",
       "    <tr>\n",
       "      <th>27</th>\n",
       "      <td>This is a test product.</td>\n",
       "      <td>0.0</td>\n",
       "      <td>10</td>\n",
       "    </tr>\n",
       "    <tr>\n",
       "      <th>28</th>\n",
       "      <td>VINTAGE CREAM CAT FOOD CONTAINER</td>\n",
       "      <td>0.0</td>\n",
       "      <td>1</td>\n",
       "    </tr>\n",
       "    <tr>\n",
       "      <th>29</th>\n",
       "      <td>VINTAGE GLASS COFFEE CADDY</td>\n",
       "      <td>0.0</td>\n",
       "      <td>1</td>\n",
       "    </tr>\n",
       "  </tbody>\n",
       "</table>\n",
       "</div>"
      ],
      "text/plain": [
       "                          Description  Price  Quantity\n",
       "0                     FLAMINGO LIGHTS    0.0        24\n",
       "1                  6 RIBBONS EMPIRE      0.0        12\n",
       "2   AIRLINE BAG VINTAGE JET SET WHITE    0.0         1\n",
       "3     ANTIQUE GLASS HEART DECORATION     0.0        12\n",
       "4           ANTIQUE LILY FAIRY LIGHTS    0.0         8\n",
       "5          BREAD BIN DINER STYLE RED     0.0         1\n",
       "6               CAKE STAND LACE WHITE    0.0         2\n",
       "7          CAST IRON HOOK GARDEN FORK    0.0         8\n",
       "8        CAST IRON HOOK GARDEN TROWEL    0.0         8\n",
       "9         CHARLOTTE BAG , SUKI DESIGN    0.0        10\n",
       "10       CHRISTMAS CRAFT WHITE FAIRY     0.0        12\n",
       "11     CHRISTMAS PUDDING TRINKET POT     0.0         1\n",
       "12               DOLLY GIRL LUNCH BOX    0.0        64\n",
       "13                DOOR MAT FAIRY CAKE    0.0         2\n",
       "14      DOORMAT HOME SWEET HOME BLUE     0.0         6\n",
       "15            HANGING METAL BIRD BATH    0.0         1\n",
       "16               IVORY KITCHEN SCALES    0.0         2\n",
       "17            MILK PAN PINK RETROSPOT    0.0         3\n",
       "18                             Manual    0.0         1\n",
       "19         NOEL WOODEN BLOCK LETTERS     0.0         1\n",
       "20       POLYESTER FILLER PAD 45x45cm    0.0       648\n",
       "21           RED RETROSPOT CAKE STAND    0.0         2\n",
       "22           REGENCY CAKESTAND 3 TIER    0.0         5\n",
       "23          RETRO SPOT LARGE MILK JUG    0.0        12\n",
       "24       ROUND CAKE TIN VINTAGE GREEN    0.0         1\n",
       "25   SET/5 RED SPOTTY LID GLASS BOWLS    0.0         2\n",
       "26          TV DINNER TRAY DOLLY GIRL    0.0         9\n",
       "27            This is a test product.    0.0        10\n",
       "28   VINTAGE CREAM CAT FOOD CONTAINER    0.0         1\n",
       "29         VINTAGE GLASS COFFEE CADDY    0.0         1"
      ]
     },
     "execution_count": 48,
     "metadata": {},
     "output_type": "execute_result"
    }
   ],
   "source": [
    "least_expensive = retail.loc[retail['Price'] == retail['Price'].min()]\n",
    "least_expensive = least_expensive.groupby(['Description', 'Price'], as_index=False)['Quantity'].agg('sum')\n",
    "least_expensive "
   ]
  },
  {
   "cell_type": "markdown",
   "id": "3d5c0de3",
   "metadata": {
    "papermill": {
     "duration": 0.019279,
     "end_time": "2024-04-11T05:57:20.787900",
     "exception": false,
     "start_time": "2024-04-11T05:57:20.768621",
     "status": "completed"
    },
    "tags": []
   },
   "source": [
    "We can see that the most expensive product in the dataset has a weird description 'Manual' and is priced at **£38970.0**. It is interesting that the quantity is -1; looks like someone returned an item priced that high or did not pay for it yet.\n",
    "\n",
    "Finding the least expensive product needs one extra step, because we have 61 unique descriptions of products priced at £0.0. Now, what if we disregard zero-priced products in order to get more meaningful insights?"
   ]
  },
  {
   "cell_type": "code",
   "execution_count": 49,
   "id": "d10c01bc",
   "metadata": {
    "papermill": {
     "duration": 0.143165,
     "end_time": "2024-04-11T05:57:20.950969",
     "exception": false,
     "start_time": "2024-04-11T05:57:20.807804",
     "status": "completed"
    },
    "tags": []
   },
   "outputs": [
    {
     "data": {
      "text/html": [
       "<div>\n",
       "<style scoped>\n",
       "    .dataframe tbody tr th:only-of-type {\n",
       "        vertical-align: middle;\n",
       "    }\n",
       "\n",
       "    .dataframe tbody tr th {\n",
       "        vertical-align: top;\n",
       "    }\n",
       "\n",
       "    .dataframe thead th {\n",
       "        text-align: right;\n",
       "    }\n",
       "</style>\n",
       "<table border=\"1\" class=\"dataframe\">\n",
       "  <thead>\n",
       "    <tr style=\"text-align: right;\">\n",
       "      <th></th>\n",
       "      <th>Description</th>\n",
       "      <th>Price</th>\n",
       "      <th>Quantity</th>\n",
       "    </tr>\n",
       "  </thead>\n",
       "  <tbody>\n",
       "    <tr>\n",
       "      <th>0</th>\n",
       "      <td>PADS TO MATCH ALL CUSHIONS</td>\n",
       "      <td>0.001</td>\n",
       "      <td>14</td>\n",
       "    </tr>\n",
       "  </tbody>\n",
       "</table>\n",
       "</div>"
      ],
      "text/plain": [
       "                  Description  Price  Quantity\n",
       "0  PADS TO MATCH ALL CUSHIONS  0.001        14"
      ]
     },
     "execution_count": 49,
     "metadata": {},
     "output_type": "execute_result"
    }
   ],
   "source": [
    "retail_non_zero_price = retail.loc[retail['Price'] != 0]\n",
    "least_expensive_not_null = retail_non_zero_price.loc[retail_non_zero_price['Price'] == retail_non_zero_price['Price'].min()]\n",
    "least_expensive_not_null = least_expensive_not_null.groupby(['Description', 'Price'], as_index=False)['Quantity'].agg('sum')\n",
    "least_expensive_not_null"
   ]
  },
  {
   "cell_type": "markdown",
   "id": "d140de23",
   "metadata": {
    "papermill": {
     "duration": 0.019006,
     "end_time": "2024-04-11T05:57:20.989384",
     "exception": false,
     "start_time": "2024-04-11T05:57:20.970378",
     "status": "completed"
    },
    "tags": []
   },
   "source": [
    "So, the cheapest product is 'PADS TO MATCH ALL CUSHIONS'. It is priced at £0.001 only (so basically you get 100 of such pads for 1 penny!\n",
    "\n",
    "Also, bank charges also are priced at £0.001."
   ]
  },
  {
   "cell_type": "markdown",
   "id": "6929e781",
   "metadata": {
    "papermill": {
     "duration": 0.01917,
     "end_time": "2024-04-11T05:57:21.028069",
     "exception": false,
     "start_time": "2024-04-11T05:57:21.008899",
     "status": "completed"
    },
    "tags": []
   },
   "source": [
    "### Customers Analysis: Total Purchase Amount\n",
    "Next, I'm interested in finding out, which 10 customers have spent most in the online shop for the two years, and thus are the most valuable clients. Also, I'll define the 10 customers spending least."
   ]
  },
  {
   "cell_type": "code",
   "execution_count": 50,
   "id": "51652f11",
   "metadata": {
    "papermill": {
     "duration": 0.188449,
     "end_time": "2024-04-11T05:57:21.236391",
     "exception": false,
     "start_time": "2024-04-11T05:57:21.047942",
     "status": "completed"
    },
    "tags": []
   },
   "outputs": [],
   "source": [
    "retail_customers = retail.groupby(['Customer ID', 'Country'], as_index=False)['Total'].agg('sum')\n",
    "retail_customers_asc = retail_customers.sort_values('Total').head(10)\n",
    "retail_customers_desc = retail_customers.sort_values('Total', ascending=False).head(10)"
   ]
  },
  {
   "cell_type": "code",
   "execution_count": 51,
   "id": "d8dba0e1",
   "metadata": {
    "papermill": {
     "duration": 0.179027,
     "end_time": "2024-04-11T05:57:21.435367",
     "exception": false,
     "start_time": "2024-04-11T05:57:21.256340",
     "status": "completed"
    },
    "tags": []
   },
   "outputs": [
    {
     "data": {
      "image/svg+xml": [
       "<svg class=\"main-svg\" xmlns=\"http://www.w3.org/2000/svg\" xmlns:xlink=\"http://www.w3.org/1999/xlink\" width=\"700\" height=\"500\" style=\"\" viewBox=\"0 0 700 500\"><rect x=\"0\" y=\"0\" width=\"700\" height=\"500\" style=\"fill: rgb(255, 255, 255); fill-opacity: 1;\"/><defs id=\"defs-67d197\"><g class=\"clips\"><clipPath id=\"clip67d197xyplot\" class=\"plotclip\"><rect width=\"540\" height=\"320\"/></clipPath><clipPath class=\"axesclip\" id=\"clip67d197x\"><rect x=\"80\" y=\"0\" width=\"540\" height=\"500\"/></clipPath><clipPath class=\"axesclip\" id=\"clip67d197y\"><rect x=\"0\" y=\"100\" width=\"700\" height=\"320\"/></clipPath><clipPath class=\"axesclip\" id=\"clip67d197xy\"><rect x=\"80\" y=\"100\" width=\"540\" height=\"320\"/></clipPath></g><g class=\"gradients\"/><g class=\"patterns\"/></defs><g class=\"bglayer\"/><g class=\"layer-below\"><g class=\"imagelayer\"/><g class=\"shapelayer\"/></g><g class=\"cartesianlayer\"><g class=\"subplot xy\"><g class=\"layer-subplot\"><g class=\"shapelayer\"/><g class=\"imagelayer\"/></g><g class=\"minor-gridlayer\"><g class=\"x\"/><g class=\"y\"/></g><g class=\"gridlayer\"><g class=\"x\"/><g class=\"y\"><path class=\"ygrid crisp\" transform=\"translate(0,375.53)\" d=\"M80,0h540\" style=\"stroke: rgb(255, 255, 255); stroke-opacity: 1; stroke-width: 1px;\"/><path class=\"ygrid crisp\" transform=\"translate(0,331.05)\" d=\"M80,0h540\" style=\"stroke: rgb(255, 255, 255); stroke-opacity: 1; stroke-width: 1px;\"/><path class=\"ygrid crisp\" transform=\"translate(0,286.58000000000004)\" d=\"M80,0h540\" style=\"stroke: rgb(255, 255, 255); stroke-opacity: 1; stroke-width: 1px;\"/><path class=\"ygrid crisp\" transform=\"translate(0,242.11)\" d=\"M80,0h540\" style=\"stroke: rgb(255, 255, 255); stroke-opacity: 1; stroke-width: 1px;\"/><path class=\"ygrid crisp\" transform=\"translate(0,197.63)\" d=\"M80,0h540\" style=\"stroke: rgb(255, 255, 255); stroke-opacity: 1; stroke-width: 1px;\"/><path class=\"ygrid crisp\" transform=\"translate(0,153.16)\" d=\"M80,0h540\" style=\"stroke: rgb(255, 255, 255); stroke-opacity: 1; stroke-width: 1px;\"/><path class=\"ygrid crisp\" transform=\"translate(0,108.69)\" d=\"M80,0h540\" style=\"stroke: rgb(255, 255, 255); stroke-opacity: 1; stroke-width: 1px;\"/></g></g><g class=\"zerolinelayer\"><path class=\"yzl zl crisp\" transform=\"translate(0,420)\" d=\"M80,0h540\" style=\"stroke: rgb(255, 255, 255); stroke-opacity: 1; stroke-width: 2px;\"/></g><path class=\"xlines-below\"/><path class=\"ylines-below\"/><g class=\"overlines-below\"/><g class=\"xaxislayer-below\"/><g class=\"yaxislayer-below\"/><g class=\"overaxes-below\"/><g class=\"plot\" transform=\"translate(80,100)\" clip-path=\"url(#clip67d197xyplot)\"><g class=\"barlayer mlayer\"><g class=\"trace bars\" style=\"opacity: 1;\"><g class=\"points\"><g class=\"point\"><path d=\"M5.4,320V16H48.6V320Z\" style=\"vector-effect: non-scaling-stroke; opacity: 1; stroke-width: 0.5px; fill: rgb(255, 0, 0); fill-opacity: 1; stroke: rgb(229, 236, 246); stroke-opacity: 1;\"/><text class=\"bartext bartext-inside\" text-anchor=\"middle\" data-notex=\"1\" x=\"0\" y=\"0\" style=\"font-family: 'Open Sans', verdana, arial, sans-serif; font-size: 12px; fill: rgb(255, 255, 255); fill-opacity: 1; white-space: pre;\" transform=\"translate(27,31)\">342k</text></g><g class=\"point\"><path d=\"M59.4,320V103.1H102.6V320Z\" style=\"vector-effect: non-scaling-stroke; opacity: 1; stroke-width: 0.5px; fill: rgb(179, 249, 0); fill-opacity: 1; stroke: rgb(229, 236, 246); stroke-opacity: 1;\"/><text class=\"bartext bartext-inside\" text-anchor=\"middle\" data-notex=\"1\" x=\"0\" y=\"0\" style=\"font-family: 'Open Sans', verdana, arial, sans-serif; font-size: 12px; fill: rgb(68, 68, 68); fill-opacity: 1; white-space: pre;\" transform=\"translate(81,118.1)\">244k</text></g><g class=\"point\"><path d=\"M113.4,320V157.07H156.6V320Z\" style=\"vector-effect: non-scaling-stroke; opacity: 1; stroke-width: 0.5px; fill: rgb(26, 212, 194); fill-opacity: 1; stroke: rgb(229, 236, 246); stroke-opacity: 1;\"/><text class=\"bartext bartext-inside\" text-anchor=\"middle\" data-notex=\"1\" x=\"0\" y=\"0\" style=\"font-family: 'Open Sans', verdana, arial, sans-serif; font-size: 12px; fill: rgb(68, 68, 68); fill-opacity: 1; white-space: pre;\" transform=\"translate(135,172.07)\">183k</text></g><g class=\"point\"><path d=\"M167.4,320V197.54H210.6V320Z\" style=\"vector-effect: non-scaling-stroke; opacity: 1; stroke-width: 0.5px; fill: rgb(0, 65, 255); fill-opacity: 1; stroke: rgb(229, 236, 246); stroke-opacity: 1;\"/><text class=\"bartext bartext-inside\" text-anchor=\"middle\" data-notex=\"1\" x=\"0\" y=\"0\" style=\"font-family: 'Open Sans', verdana, arial, sans-serif; font-size: 12px; fill: rgb(255, 255, 255); fill-opacity: 1; white-space: pre;\" transform=\"translate(189,212.54)\">138k</text></g><g class=\"point\"><path d=\"M221.4,320V205.99H264.6V320Z\" style=\"vector-effect: non-scaling-stroke; opacity: 1; stroke-width: 0.5px; fill: rgb(0, 31, 255); fill-opacity: 1; stroke: rgb(229, 236, 246); stroke-opacity: 1;\"/><text class=\"bartext bartext-inside\" text-anchor=\"middle\" data-notex=\"1\" x=\"0\" y=\"0\" style=\"font-family: 'Open Sans', verdana, arial, sans-serif; font-size: 12px; fill: rgb(255, 255, 255); fill-opacity: 1; white-space: pre;\" transform=\"translate(243,220.99)\">128k</text></g><g class=\"point\"><path d=\"M275.4,320V245.5H318.6V320Z\" style=\"vector-effect: non-scaling-stroke; opacity: 1; stroke-width: 0.5px; fill: rgb(28, 0, 179); fill-opacity: 1; stroke: rgb(229, 236, 246); stroke-opacity: 1;\"/><text class=\"bartext bartext-inside\" text-anchor=\"middle\" data-notex=\"1\" x=\"0\" y=\"0\" style=\"font-family: 'Open Sans', verdana, arial, sans-serif; font-size: 12px; fill: rgb(255, 255, 255); fill-opacity: 1; white-space: pre;\" transform=\"translate(297,260.5)\">83.8k</text></g><g class=\"point\"><path d=\"M329.4,320V246.92H372.6V320Z\" style=\"vector-effect: non-scaling-stroke; opacity: 1; stroke-width: 0.5px; fill: rgb(35, 0, 175); fill-opacity: 1; stroke: rgb(229, 236, 246); stroke-opacity: 1;\"/><text class=\"bartext bartext-inside\" text-anchor=\"middle\" data-notex=\"1\" x=\"0\" y=\"0\" style=\"font-family: 'Open Sans', verdana, arial, sans-serif; font-size: 12px; fill: rgb(255, 255, 255); fill-opacity: 1; white-space: pre;\" transform=\"translate(351,261.91999999999996)\">82.2k</text></g><g class=\"point\"><path d=\"M383.4,320V252.75H426.6V320Z\" style=\"vector-effect: non-scaling-stroke; opacity: 1; stroke-width: 0.5px; fill: rgb(62, 0, 155); fill-opacity: 1; stroke: rgb(229, 236, 246); stroke-opacity: 1;\"/><text class=\"bartext bartext-inside\" text-anchor=\"middle\" data-notex=\"1\" x=\"0\" y=\"0\" style=\"font-family: 'Open Sans', verdana, arial, sans-serif; font-size: 12px; fill: rgb(255, 255, 255); fill-opacity: 1; white-space: pre;\" transform=\"translate(405,267.75)\">75.6k</text></g><g class=\"point\"><path d=\"M437.4,320V270.34H480.6V320Z\" style=\"vector-effect: non-scaling-stroke; opacity: 1; stroke-width: 0.5px; fill: rgb(145, 0, 94); fill-opacity: 1; stroke: rgb(229, 236, 246); stroke-opacity: 1;\"/><text class=\"bartext bartext-inside\" text-anchor=\"middle\" data-notex=\"1\" x=\"0\" y=\"0\" style=\"font-family: 'Open Sans', verdana, arial, sans-serif; font-size: 12px; fill: rgb(255, 255, 255); fill-opacity: 1; white-space: pre;\" transform=\"translate(459,285.34)\">55.8k</text></g><g class=\"point\"><path d=\"M491.4,320V271.47H534.6V320Z\" style=\"vector-effect: non-scaling-stroke; opacity: 1; stroke-width: 0.5px; fill: rgb(150, 0, 90); fill-opacity: 1; stroke: rgb(229, 236, 246); stroke-opacity: 1;\"/><text class=\"bartext bartext-inside\" text-anchor=\"middle\" data-notex=\"1\" x=\"0\" y=\"0\" style=\"font-family: 'Open Sans', verdana, arial, sans-serif; font-size: 12px; fill: rgb(255, 255, 255); fill-opacity: 1; white-space: pre;\" transform=\"translate(513,286.47)\">54.6k</text></g></g></g></g></g><g class=\"overplot\"/><path class=\"xlines-above crisp\" d=\"M0,0\" style=\"fill: none;\"/><path class=\"ylines-above crisp\" d=\"M0,0\" style=\"fill: none;\"/><g class=\"overlines-above\"/><g class=\"xaxislayer-above\"><g class=\"xtick\"><text text-anchor=\"middle\" x=\"0\" y=\"433\" transform=\"translate(107,0)\" style=\"font-family: 'Open Sans', verdana, arial, sans-serif; font-size: 12px; fill: rgb(42, 63, 95); fill-opacity: 1; white-space: pre; opacity: 1;\">18102</text></g><g class=\"xtick\"><text text-anchor=\"middle\" x=\"0\" y=\"433\" transform=\"translate(161,0)\" style=\"font-family: 'Open Sans', verdana, arial, sans-serif; font-size: 12px; fill: rgb(42, 63, 95); fill-opacity: 1; white-space: pre; opacity: 1;\">14646</text></g><g class=\"xtick\"><text text-anchor=\"middle\" x=\"0\" y=\"433\" transform=\"translate(215,0)\" style=\"font-family: 'Open Sans', verdana, arial, sans-serif; font-size: 12px; fill: rgb(42, 63, 95); fill-opacity: 1; white-space: pre; opacity: 1;\">14156</text></g><g class=\"xtick\"><text text-anchor=\"middle\" x=\"0\" y=\"433\" transform=\"translate(269,0)\" style=\"font-family: 'Open Sans', verdana, arial, sans-serif; font-size: 12px; fill: rgb(42, 63, 95); fill-opacity: 1; white-space: pre; opacity: 1;\">14911</text></g><g class=\"xtick\"><text text-anchor=\"middle\" x=\"0\" y=\"433\" transform=\"translate(323,0)\" style=\"font-family: 'Open Sans', verdana, arial, sans-serif; font-size: 12px; fill: rgb(42, 63, 95); fill-opacity: 1; white-space: pre; opacity: 1;\">13694</text></g><g class=\"xtick\"><text text-anchor=\"middle\" x=\"0\" y=\"433\" transform=\"translate(377,0)\" style=\"font-family: 'Open Sans', verdana, arial, sans-serif; font-size: 12px; fill: rgb(42, 63, 95); fill-opacity: 1; white-space: pre; opacity: 1;\">17511</text></g><g class=\"xtick\"><text text-anchor=\"middle\" x=\"0\" y=\"433\" transform=\"translate(431,0)\" style=\"font-family: 'Open Sans', verdana, arial, sans-serif; font-size: 12px; fill: rgb(42, 63, 95); fill-opacity: 1; white-space: pre; opacity: 1;\">15061</text></g><g class=\"xtick\"><text text-anchor=\"middle\" x=\"0\" y=\"433\" transform=\"translate(485,0)\" style=\"font-family: 'Open Sans', verdana, arial, sans-serif; font-size: 12px; fill: rgb(42, 63, 95); fill-opacity: 1; white-space: pre; opacity: 1;\">16684</text></g><g class=\"xtick\"><text text-anchor=\"middle\" x=\"0\" y=\"433\" transform=\"translate(539,0)\" style=\"font-family: 'Open Sans', verdana, arial, sans-serif; font-size: 12px; fill: rgb(42, 63, 95); fill-opacity: 1; white-space: pre; opacity: 1;\">13089</text></g><g class=\"xtick\"><text text-anchor=\"middle\" x=\"0\" y=\"433\" transform=\"translate(593,0)\" style=\"font-family: 'Open Sans', verdana, arial, sans-serif; font-size: 12px; fill: rgb(42, 63, 95); fill-opacity: 1; white-space: pre; opacity: 1;\">16754</text></g></g><g class=\"yaxislayer-above\"><g class=\"ytick\"><text text-anchor=\"end\" x=\"79\" y=\"4.199999999999999\" transform=\"translate(0,420)\" style=\"font-family: 'Open Sans', verdana, arial, sans-serif; font-size: 12px; fill: rgb(42, 63, 95); fill-opacity: 1; white-space: pre; opacity: 1;\">0</text></g><g class=\"ytick\"><text text-anchor=\"end\" x=\"79\" y=\"4.199999999999999\" style=\"font-family: 'Open Sans', verdana, arial, sans-serif; font-size: 12px; fill: rgb(42, 63, 95); fill-opacity: 1; white-space: pre; opacity: 1;\" transform=\"translate(0,375.53)\">50k</text></g><g class=\"ytick\"><text text-anchor=\"end\" x=\"79\" y=\"4.199999999999999\" style=\"font-family: 'Open Sans', verdana, arial, sans-serif; font-size: 12px; fill: rgb(42, 63, 95); fill-opacity: 1; white-space: pre; opacity: 1;\" transform=\"translate(0,331.05)\">100k</text></g><g class=\"ytick\"><text text-anchor=\"end\" x=\"79\" y=\"4.199999999999999\" style=\"font-family: 'Open Sans', verdana, arial, sans-serif; font-size: 12px; fill: rgb(42, 63, 95); fill-opacity: 1; white-space: pre; opacity: 1;\" transform=\"translate(0,286.58000000000004)\">150k</text></g><g class=\"ytick\"><text text-anchor=\"end\" x=\"79\" y=\"4.199999999999999\" style=\"font-family: 'Open Sans', verdana, arial, sans-serif; font-size: 12px; fill: rgb(42, 63, 95); fill-opacity: 1; white-space: pre; opacity: 1;\" transform=\"translate(0,242.11)\">200k</text></g><g class=\"ytick\"><text text-anchor=\"end\" x=\"79\" y=\"4.199999999999999\" style=\"font-family: 'Open Sans', verdana, arial, sans-serif; font-size: 12px; fill: rgb(42, 63, 95); fill-opacity: 1; white-space: pre; opacity: 1;\" transform=\"translate(0,197.63)\">250k</text></g><g class=\"ytick\"><text text-anchor=\"end\" x=\"79\" y=\"4.199999999999999\" style=\"font-family: 'Open Sans', verdana, arial, sans-serif; font-size: 12px; fill: rgb(42, 63, 95); fill-opacity: 1; white-space: pre; opacity: 1;\" transform=\"translate(0,153.16)\">300k</text></g><g class=\"ytick\"><text text-anchor=\"end\" x=\"79\" y=\"4.199999999999999\" style=\"font-family: 'Open Sans', verdana, arial, sans-serif; font-size: 12px; fill: rgb(42, 63, 95); fill-opacity: 1; white-space: pre; opacity: 1;\" transform=\"translate(0,108.69)\">350k</text></g></g><g class=\"overaxes-above\"/></g></g><g class=\"polarlayer\"/><g class=\"smithlayer\"/><g class=\"ternarylayer\"/><g class=\"geolayer\"/><g class=\"funnelarealayer\"/><g class=\"pielayer\"/><g class=\"iciclelayer\"/><g class=\"treemaplayer\"/><g class=\"sunburstlayer\"/><g class=\"glimages\"/><defs id=\"topdefs-67d197\"><g class=\"clips\"/></defs><g class=\"layer-above\"><g class=\"imagelayer\"/><g class=\"shapelayer\"/></g><g class=\"infolayer\"><g class=\"g-gtitle\"><text class=\"gtitle\" x=\"315\" y=\"50\" text-anchor=\"middle\" dy=\"0em\" style=\"font-family: 'Open Sans', verdana, arial, sans-serif; font-size: 17px; fill: rgb(42, 63, 95); opacity: 1; font-weight: normal; white-space: pre;\">Customers With Max Total Purchase Amount</text></g><g class=\"g-xtitle\"><text class=\"xtitle\" x=\"350\" y=\"460.3\" text-anchor=\"middle\" style=\"font-family: 'Open Sans', verdana, arial, sans-serif; font-size: 14px; fill: rgb(42, 63, 95); opacity: 1; font-weight: normal; white-space: pre;\">Customer ID</text></g><g class=\"g-ytitle\"><text class=\"ytitle\" transform=\"rotate(-90,24.200000000000003,260)\" x=\"24.200000000000003\" y=\"260\" text-anchor=\"middle\" style=\"font-family: 'Open Sans', verdana, arial, sans-serif; font-size: 14px; fill: rgb(42, 63, 95); opacity: 1; font-weight: normal; white-space: pre;\">Total Amount</text></g></g></svg>"
      ]
     },
     "metadata": {},
     "output_type": "display_data"
    }
   ],
   "source": [
    "fig = go.Figure(data=[\n",
    "    go.Bar(name='Customers With Max Total Purchase Amount', \n",
    "           x=retail_customers_desc['Customer ID'].astype(str), \n",
    "           y=retail_customers_desc['Total'],\n",
    "           marker_opacity=1,\n",
    "           hovertext=retail_customers_desc['Country'],\n",
    "           marker={'color': retail_customers_desc['Total'],\n",
    "                   'colorscale': 'Rainbow'})\n",
    "    ])\n",
    "\n",
    "fig.update_traces(texttemplate='%{y:.3s}', textposition='inside')\n",
    "\n",
    "fig.update_layout(title='Customers With Max Total Purchase Amount',\n",
    "                  title_x=0.45,\n",
    "                  xaxis_title=\"Customer ID\",\n",
    "                  yaxis_title=\"Total Amount\",\n",
    "                  plot_bgcolor='white')\n",
    "fig.show(\"svg\")"
   ]
  },
  {
   "cell_type": "code",
   "execution_count": 52,
   "id": "ba906ff4",
   "metadata": {
    "papermill": {
     "duration": 0.060841,
     "end_time": "2024-04-11T05:57:21.516530",
     "exception": false,
     "start_time": "2024-04-11T05:57:21.455689",
     "status": "completed"
    },
    "tags": []
   },
   "outputs": [
    {
     "data": {
      "image/svg+xml": [
       "<svg class=\"main-svg\" xmlns=\"http://www.w3.org/2000/svg\" xmlns:xlink=\"http://www.w3.org/1999/xlink\" width=\"700\" height=\"500\" style=\"\" viewBox=\"0 0 700 500\"><rect x=\"0\" y=\"0\" width=\"700\" height=\"500\" style=\"fill: rgb(255, 255, 255); fill-opacity: 1;\"/><defs id=\"defs-f8a4e3\"><g class=\"clips\"><clipPath id=\"clipf8a4e3xyplot\" class=\"plotclip\"><rect width=\"540\" height=\"320\"/></clipPath><clipPath class=\"axesclip\" id=\"clipf8a4e3x\"><rect x=\"80\" y=\"0\" width=\"540\" height=\"500\"/></clipPath><clipPath class=\"axesclip\" id=\"clipf8a4e3y\"><rect x=\"0\" y=\"100\" width=\"700\" height=\"320\"/></clipPath><clipPath class=\"axesclip\" id=\"clipf8a4e3xy\"><rect x=\"80\" y=\"100\" width=\"540\" height=\"320\"/></clipPath></g><g class=\"gradients\"/><g class=\"patterns\"/></defs><g class=\"bglayer\"/><g class=\"layer-below\"><g class=\"imagelayer\"/><g class=\"shapelayer\"/></g><g class=\"cartesianlayer\"><g class=\"subplot xy\"><g class=\"layer-subplot\"><g class=\"shapelayer\"/><g class=\"imagelayer\"/></g><g class=\"minor-gridlayer\"><g class=\"x\"/><g class=\"y\"/></g><g class=\"gridlayer\"><g class=\"x\"/><g class=\"y\"><path class=\"ygrid crisp\" transform=\"translate(0,402.66)\" d=\"M80,0h540\" style=\"stroke: rgb(255, 255, 255); stroke-opacity: 1; stroke-width: 1px;\"/><path class=\"ygrid crisp\" transform=\"translate(0,342.12)\" d=\"M80,0h540\" style=\"stroke: rgb(255, 255, 255); stroke-opacity: 1; stroke-width: 1px;\"/><path class=\"ygrid crisp\" transform=\"translate(0,281.59000000000003)\" d=\"M80,0h540\" style=\"stroke: rgb(255, 255, 255); stroke-opacity: 1; stroke-width: 1px;\"/><path class=\"ygrid crisp\" transform=\"translate(0,221.06)\" d=\"M80,0h540\" style=\"stroke: rgb(255, 255, 255); stroke-opacity: 1; stroke-width: 1px;\"/><path class=\"ygrid crisp\" transform=\"translate(0,160.53)\" d=\"M80,0h540\" style=\"stroke: rgb(255, 255, 255); stroke-opacity: 1; stroke-width: 1px;\"/></g></g><g class=\"zerolinelayer\"><path class=\"yzl zl crisp\" transform=\"translate(0,100)\" d=\"M80,0h540\" style=\"stroke: rgb(255, 255, 255); stroke-opacity: 1; stroke-width: 2px;\"/></g><path class=\"xlines-below\"/><path class=\"ylines-below\"/><g class=\"overlines-below\"/><g class=\"xaxislayer-below\"/><g class=\"yaxislayer-below\"/><g class=\"overaxes-below\"/><g class=\"plot\" transform=\"translate(80,100)\" clip-path=\"url(#clipf8a4e3xyplot)\"><g class=\"barlayer mlayer\"><g class=\"trace bars\" style=\"opacity: 1;\"><g class=\"points\"><g class=\"point\"><path d=\"M5.4,0V304H48.6V0Z\" style=\"vector-effect: non-scaling-stroke; opacity: 1; stroke-width: 0.5px; fill: rgb(255, 0, 0); fill-opacity: 1; stroke: rgb(229, 236, 246); stroke-opacity: 1;\"/><text class=\"bartext bartext-inside\" text-anchor=\"middle\" data-notex=\"1\" x=\"0\" y=\"0\" style=\"font-family: 'Open Sans', verdana, arial, sans-serif; font-size: 12px; fill: rgb(255, 255, 255); fill-opacity: 1; white-space: pre;\" transform=\"translate(27,285.84375)rotate(90 0 -4.75)\">-25.1k</text></g><g class=\"point\"><path d=\"M59.4,0V132.61H102.6V0Z\" style=\"vector-effect: non-scaling-stroke; opacity: 1; stroke-width: 0.5px; fill: rgb(179, 249, 0); fill-opacity: 1; stroke: rgb(229, 236, 246); stroke-opacity: 1;\"/><text class=\"bartext bartext-inside\" text-anchor=\"middle\" data-notex=\"1\" x=\"0\" y=\"0\" style=\"font-family: 'Open Sans', verdana, arial, sans-serif; font-size: 12px; fill: rgb(68, 68, 68); fill-opacity: 1; white-space: pre;\" transform=\"translate(81,114.45375000000001)rotate(90 0 -4.75)\">-11.0k</text></g><g class=\"point\"><path d=\"M113.4,0V71.14H156.6V0Z\" style=\"vector-effect: non-scaling-stroke; opacity: 1; stroke-width: 0.5px; fill: rgb(26, 212, 194); fill-opacity: 1; stroke: rgb(229, 236, 246); stroke-opacity: 1;\"/><text class=\"bartext bartext-inside\" text-anchor=\"middle\" data-notex=\"1\" x=\"0\" y=\"0\" style=\"font-family: 'Open Sans', verdana, arial, sans-serif; font-size: 12px; fill: rgb(68, 68, 68); fill-opacity: 1; white-space: pre;\" transform=\"translate(135,52.98375)rotate(90 0 -4.75)\">-5.88k</text></g><g class=\"point\"><path d=\"M167.4,0V70.17H210.6V0Z\" style=\"vector-effect: non-scaling-stroke; opacity: 1; stroke-width: 0.5px; fill: rgb(0, 65, 255); fill-opacity: 1; stroke: rgb(229, 236, 246); stroke-opacity: 1;\"/><text class=\"bartext bartext-inside\" text-anchor=\"middle\" data-notex=\"1\" x=\"0\" y=\"0\" style=\"font-family: 'Open Sans', verdana, arial, sans-serif; font-size: 12px; fill: rgb(255, 255, 255); fill-opacity: 1; white-space: pre;\" transform=\"translate(189,52.01375)rotate(90 0 -4.75)\">-5.80k</text></g><g class=\"point\"><path d=\"M221.4,0V55.94H264.6V0Z\" style=\"vector-effect: non-scaling-stroke; opacity: 1; stroke-width: 0.5px; fill: rgb(0, 31, 255); fill-opacity: 1; stroke: rgb(229, 236, 246); stroke-opacity: 1;\"/><text class=\"bartext bartext-inside\" text-anchor=\"middle\" data-notex=\"1\" x=\"0\" y=\"0\" style=\"font-family: 'Open Sans', verdana, arial, sans-serif; font-size: 12px; fill: rgb(255, 255, 255); fill-opacity: 1; white-space: pre;\" transform=\"translate(243,37.78375)rotate(90 0 -4.75)\">-4.62k</text></g><g class=\"point\"><path d=\"M275.4,0V51.06H318.6V0Z\" style=\"vector-effect: non-scaling-stroke; opacity: 1; stroke-width: 0.5px; fill: rgb(28, 0, 179); fill-opacity: 1; stroke: rgb(229, 236, 246); stroke-opacity: 1;\"/><text class=\"bartext bartext-inside\" text-anchor=\"middle\" data-notex=\"1\" x=\"0\" y=\"0\" style=\"font-family: 'Open Sans', verdana, arial, sans-serif; font-size: 12px; fill: rgb(255, 255, 255); fill-opacity: 1; white-space: pre;\" transform=\"translate(297,32.90375)rotate(90 0 -4.75)\">-4.22k</text></g><g class=\"point\"><path d=\"M329.4,0V45.61H372.6V0Z\" style=\"vector-effect: non-scaling-stroke; opacity: 1; stroke-width: 0.5px; fill: rgb(35, 0, 175); fill-opacity: 1; stroke: rgb(229, 236, 246); stroke-opacity: 1;\"/><text class=\"bartext bartext-inside\" text-anchor=\"middle\" data-notex=\"1\" x=\"0\" y=\"0\" style=\"font-family: 'Open Sans', verdana, arial, sans-serif; font-size: 12px; fill: rgb(255, 255, 255); fill-opacity: 1; white-space: pre;\" transform=\"translate(351,27.530839874411303)scale(0.9949136577708007)rotate(90 0 -4.75)\">-3.77k</text></g><g class=\"point\"><path d=\"M383.4,0V39.33H426.6V0Z\" style=\"vector-effect: non-scaling-stroke; opacity: 1; stroke-width: 0.5px; fill: rgb(62, 0, 155); fill-opacity: 1; stroke: rgb(229, 236, 246); stroke-opacity: 1;\"/><text class=\"bartext bartext-inside\" text-anchor=\"middle\" data-notex=\"1\" x=\"0\" y=\"0\" style=\"font-family: 'Open Sans', verdana, arial, sans-serif; font-size: 12px; fill: rgb(255, 255, 255); fill-opacity: 1; white-space: pre;\" transform=\"translate(405,33.9940502354788)scale(0.9343799058084784)\">-3.25k</text></g><g class=\"point\"><path d=\"M437.4,0V39.04H480.6V0Z\" style=\"vector-effect: non-scaling-stroke; opacity: 1; stroke-width: 0.5px; fill: rgb(145, 0, 94); fill-opacity: 1; stroke: rgb(229, 236, 246); stroke-opacity: 1;\"/><text class=\"bartext bartext-inside\" text-anchor=\"middle\" data-notex=\"1\" x=\"0\" y=\"0\" style=\"font-family: 'Open Sans', verdana, arial, sans-serif; font-size: 12px; fill: rgb(255, 255, 255); fill-opacity: 1; white-space: pre;\" transform=\"translate(459,33.7040502354788)scale(0.9343799058084784)\">-3.22k</text></g><g class=\"point\"><path d=\"M491.4,0V31.12H534.6V0Z\" style=\"vector-effect: non-scaling-stroke; opacity: 1; stroke-width: 0.5px; fill: rgb(150, 0, 90); fill-opacity: 1; stroke: rgb(229, 236, 246); stroke-opacity: 1;\"/><text class=\"bartext bartext-inside\" text-anchor=\"middle\" data-notex=\"1\" x=\"0\" y=\"0\" style=\"font-family: 'Open Sans', verdana, arial, sans-serif; font-size: 12px; fill: rgb(255, 255, 255); fill-opacity: 1; white-space: pre;\" transform=\"translate(513,25.784050235478805)scale(0.9343799058084784)\">-2.57k</text></g></g></g></g></g><g class=\"overplot\"/><path class=\"xlines-above crisp\" d=\"M0,0\" style=\"fill: none;\"/><path class=\"ylines-above crisp\" d=\"M0,0\" style=\"fill: none;\"/><g class=\"overlines-above\"/><g class=\"xaxislayer-above\"><g class=\"xtick\"><text text-anchor=\"middle\" x=\"0\" y=\"96.6\" transform=\"translate(107,0)\" style=\"font-family: 'Open Sans', verdana, arial, sans-serif; font-size: 12px; fill: rgb(42, 63, 95); fill-opacity: 1; white-space: pre; opacity: 1;\">17399</text></g><g class=\"xtick\"><text text-anchor=\"middle\" x=\"0\" y=\"96.6\" transform=\"translate(161,0)\" style=\"font-family: 'Open Sans', verdana, arial, sans-serif; font-size: 12px; fill: rgb(42, 63, 95); fill-opacity: 1; white-space: pre; opacity: 1;\">12918</text></g><g class=\"xtick\"><text text-anchor=\"middle\" x=\"0\" y=\"96.6\" transform=\"translate(215,0)\" style=\"font-family: 'Open Sans', verdana, arial, sans-serif; font-size: 12px; fill: rgb(42, 63, 95); fill-opacity: 1; white-space: pre; opacity: 1;\">15849</text></g><g class=\"xtick\"><text text-anchor=\"middle\" x=\"0\" y=\"96.6\" transform=\"translate(269,0)\" style=\"font-family: 'Open Sans', verdana, arial, sans-serif; font-size: 12px; fill: rgb(42, 63, 95); fill-opacity: 1; white-space: pre; opacity: 1;\">15760</text></g><g class=\"xtick\"><text text-anchor=\"middle\" x=\"0\" y=\"96.6\" transform=\"translate(323,0)\" style=\"font-family: 'Open Sans', verdana, arial, sans-serif; font-size: 12px; fill: rgb(42, 63, 95); fill-opacity: 1; white-space: pre; opacity: 1;\">16981</text></g><g class=\"xtick\"><text text-anchor=\"middle\" x=\"0\" y=\"96.6\" transform=\"translate(377,0)\" style=\"font-family: 'Open Sans', verdana, arial, sans-serif; font-size: 12px; fill: rgb(42, 63, 95); fill-opacity: 1; white-space: pre; opacity: 1;\">16151</text></g><g class=\"xtick\"><text text-anchor=\"middle\" x=\"0\" y=\"96.6\" transform=\"translate(431,0)\" style=\"font-family: 'Open Sans', verdana, arial, sans-serif; font-size: 12px; fill: rgb(42, 63, 95); fill-opacity: 1; white-space: pre; opacity: 1;\">14063</text></g><g class=\"xtick\"><text text-anchor=\"middle\" x=\"0\" y=\"96.6\" transform=\"translate(485,0)\" style=\"font-family: 'Open Sans', verdana, arial, sans-serif; font-size: 12px; fill: rgb(42, 63, 95); fill-opacity: 1; white-space: pre; opacity: 1;\">18023</text></g><g class=\"xtick\"><text text-anchor=\"middle\" x=\"0\" y=\"96.6\" transform=\"translate(539,0)\" style=\"font-family: 'Open Sans', verdana, arial, sans-serif; font-size: 12px; fill: rgb(42, 63, 95); fill-opacity: 1; white-space: pre; opacity: 1;\">17013</text></g><g class=\"xtick\"><text text-anchor=\"middle\" x=\"0\" y=\"96.6\" transform=\"translate(593,0)\" style=\"font-family: 'Open Sans', verdana, arial, sans-serif; font-size: 12px; fill: rgb(42, 63, 95); fill-opacity: 1; white-space: pre; opacity: 1;\">15202</text></g></g><g class=\"yaxislayer-above\"><g class=\"ytick\"><text text-anchor=\"end\" x=\"79\" y=\"4.199999999999999\" transform=\"translate(0,402.66)\" style=\"font-family: 'Open Sans', verdana, arial, sans-serif; font-size: 12px; fill: rgb(42, 63, 95); fill-opacity: 1; white-space: pre; opacity: 1;\">−25k</text></g><g class=\"ytick\"><text text-anchor=\"end\" x=\"79\" y=\"4.199999999999999\" style=\"font-family: 'Open Sans', verdana, arial, sans-serif; font-size: 12px; fill: rgb(42, 63, 95); fill-opacity: 1; white-space: pre; opacity: 1;\" transform=\"translate(0,342.12)\">−20k</text></g><g class=\"ytick\"><text text-anchor=\"end\" x=\"79\" y=\"4.199999999999999\" style=\"font-family: 'Open Sans', verdana, arial, sans-serif; font-size: 12px; fill: rgb(42, 63, 95); fill-opacity: 1; white-space: pre; opacity: 1;\" transform=\"translate(0,281.59000000000003)\">−15k</text></g><g class=\"ytick\"><text text-anchor=\"end\" x=\"79\" y=\"4.199999999999999\" style=\"font-family: 'Open Sans', verdana, arial, sans-serif; font-size: 12px; fill: rgb(42, 63, 95); fill-opacity: 1; white-space: pre; opacity: 1;\" transform=\"translate(0,221.06)\">−10k</text></g><g class=\"ytick\"><text text-anchor=\"end\" x=\"79\" y=\"4.199999999999999\" style=\"font-family: 'Open Sans', verdana, arial, sans-serif; font-size: 12px; fill: rgb(42, 63, 95); fill-opacity: 1; white-space: pre; opacity: 1;\" transform=\"translate(0,160.53)\">−5k</text></g><g class=\"ytick\"><text text-anchor=\"end\" x=\"79\" y=\"4.199999999999999\" style=\"font-family: 'Open Sans', verdana, arial, sans-serif; font-size: 12px; fill: rgb(42, 63, 95); fill-opacity: 1; white-space: pre; opacity: 1;\" transform=\"translate(0,100)\">0</text></g></g><g class=\"overaxes-above\"/></g></g><g class=\"polarlayer\"/><g class=\"smithlayer\"/><g class=\"ternarylayer\"/><g class=\"geolayer\"/><g class=\"funnelarealayer\"/><g class=\"pielayer\"/><g class=\"iciclelayer\"/><g class=\"treemaplayer\"/><g class=\"sunburstlayer\"/><g class=\"glimages\"/><defs id=\"topdefs-f8a4e3\"><g class=\"clips\"/></defs><g class=\"layer-above\"><g class=\"imagelayer\"/><g class=\"shapelayer\"/></g><g class=\"infolayer\"><g class=\"g-gtitle\"><text class=\"gtitle\" x=\"315\" y=\"15\" text-anchor=\"middle\" dy=\"0.7em\" style=\"font-family: 'Open Sans', verdana, arial, sans-serif; font-size: 17px; fill: rgb(42, 63, 95); opacity: 1; font-weight: normal; white-space: pre;\">Customers With Min Total Purchase Amount</text></g><g class=\"g-xtitle\"><text class=\"xtitle\" x=\"350\" y=\"59.79375\" text-anchor=\"middle\" style=\"font-family: 'Open Sans', verdana, arial, sans-serif; font-size: 14px; fill: rgb(42, 63, 95); opacity: 1; font-weight: normal; white-space: pre;\">Customer ID</text></g><g class=\"g-ytitle\"><text class=\"ytitle\" transform=\"rotate(-90,22.012500000000003,260)\" x=\"22.012500000000003\" y=\"260\" text-anchor=\"middle\" style=\"font-family: 'Open Sans', verdana, arial, sans-serif; font-size: 14px; fill: rgb(42, 63, 95); opacity: 1; font-weight: normal; white-space: pre;\">Total Amount Returned</text></g></g></svg>"
      ]
     },
     "metadata": {},
     "output_type": "display_data"
    }
   ],
   "source": [
    "fig = go.Figure(data=[\n",
    "    go.Bar(name='Customers With Min Total Purchase Amount', \n",
    "           x=retail_customers_asc['Customer ID'].astype(str), \n",
    "           y=retail_customers_asc['Total'],\n",
    "           marker_opacity=1,\n",
    "           hovertext=retail_customers_desc['Country'],\n",
    "           marker={'color': retail_customers_desc['Total'],\n",
    "                   'colorscale': 'Rainbow'}\n",
    "          )\n",
    "    ])\n",
    "fig.update_xaxes(side=\"top\")\n",
    "\n",
    "fig.update_traces(texttemplate='%{y:.3s}', textposition='inside')\n",
    "\n",
    "fig.update_layout(title='Customers With Min Total Purchase Amount',\n",
    "                  title_x=0.45,\n",
    "                  title_y=0.97,\n",
    "                  xaxis_title=\"Customer ID\",\n",
    "                  yaxis_title=\"Total Amount Returned\",\n",
    "                  plot_bgcolor='white')\n",
    "fig.show(\"svg\")"
   ]
  },
  {
   "cell_type": "markdown",
   "id": "5a43b715",
   "metadata": {
    "papermill": {
     "duration": 0.020637,
     "end_time": "2024-04-11T05:57:21.558266",
     "exception": false,
     "start_time": "2024-04-11T05:57:21.537629",
     "status": "completed"
    },
    "tags": []
   },
   "source": [
    "What have we learned from the charts?\n",
    "\n",
    "Customer with ID 18102 has spent most money in our online store during two years. He comes from United Kingdom, and has paid in total £598k. Another customer from Netherlands comes close to that number - he has spent £523k. In general the top 10 consists of customers from UK, EIRE, Netherlands and Australia - all countries with mature economies.\n",
    "\n",
    "On the chart showing customers who spent the least, we can see only negative numbers. From our dataset alone, it seems that those are returns. The largest total negative sum is £25k, and the customer with this returned amount comes from UK as well. It is curious that in general customers who have largest negative values here come from the same countries as customers who have paid most. "
   ]
  },
  {
   "cell_type": "markdown",
   "id": "9b6e40b1",
   "metadata": {
    "papermill": {
     "duration": 0.021496,
     "end_time": "2024-04-11T05:57:21.600337",
     "exception": false,
     "start_time": "2024-04-11T05:57:21.578841",
     "status": "completed"
    },
    "tags": []
   },
   "source": [
    "## Countries Analysis: Total Purchase Amount\n",
    "\n",
    "Here, I will find 10 countries, total sum of orders from which was the largest, and also 10 countries, where total purchases were minimal."
   ]
  },
  {
   "cell_type": "code",
   "execution_count": 53,
   "id": "c3a4e34d",
   "metadata": {
    "papermill": {
     "duration": 0.131204,
     "end_time": "2024-04-11T05:57:21.752038",
     "exception": false,
     "start_time": "2024-04-11T05:57:21.620834",
     "status": "completed"
    },
    "tags": []
   },
   "outputs": [],
   "source": [
    "retail_countries_purchase = retail.groupby(['Country'], as_index=False)['Total'].agg('sum')\n",
    "retail_countries_purchase_asc = retail_countries_purchase.sort_values('Total').head(10)\n",
    "retail_countries_purchase_desc = retail_countries_purchase.sort_values('Total', ascending=False).head(10)"
   ]
  },
  {
   "cell_type": "code",
   "execution_count": 54,
   "id": "92b21cb6",
   "metadata": {
    "papermill": {
     "duration": 0.047113,
     "end_time": "2024-04-11T05:57:21.819745",
     "exception": false,
     "start_time": "2024-04-11T05:57:21.772632",
     "status": "completed"
    },
    "tags": []
   },
   "outputs": [
    {
     "data": {
      "image/svg+xml": [
       "<svg class=\"main-svg\" xmlns=\"http://www.w3.org/2000/svg\" xmlns:xlink=\"http://www.w3.org/1999/xlink\" width=\"700\" height=\"500\" style=\"\" viewBox=\"0 0 700 500\"><rect x=\"0\" y=\"0\" width=\"700\" height=\"500\" style=\"fill: rgb(255, 255, 255); fill-opacity: 1;\"/><defs id=\"defs-e7ef9f\"><g class=\"clips\"><clipPath id=\"clipe7ef9fxyplot\" class=\"plotclip\"><rect width=\"540\" height=\"301\"/></clipPath><clipPath class=\"axesclip\" id=\"clipe7ef9fx\"><rect x=\"80\" y=\"0\" width=\"540\" height=\"500\"/></clipPath><clipPath class=\"axesclip\" id=\"clipe7ef9fy\"><rect x=\"0\" y=\"100\" width=\"700\" height=\"301\"/></clipPath><clipPath class=\"axesclip\" id=\"clipe7ef9fxy\"><rect x=\"80\" y=\"100\" width=\"540\" height=\"301\"/></clipPath></g><g class=\"gradients\"/><g class=\"patterns\"/></defs><g class=\"bglayer\"/><g class=\"layer-below\"><g class=\"imagelayer\"/><g class=\"shapelayer\"/></g><g class=\"cartesianlayer\"><g class=\"subplot xy\"><g class=\"layer-subplot\"><g class=\"shapelayer\"/><g class=\"imagelayer\"/></g><g class=\"minor-gridlayer\"><g class=\"x\"/><g class=\"y\"/></g><g class=\"gridlayer\"><g class=\"x\"/><g class=\"y\"><path class=\"ygrid crisp\" transform=\"translate(0,360.37)\" d=\"M80,0h540\" style=\"stroke: rgb(255, 255, 255); stroke-opacity: 1; stroke-width: 1px;\"/><path class=\"ygrid crisp\" transform=\"translate(0,319.75)\" d=\"M80,0h540\" style=\"stroke: rgb(255, 255, 255); stroke-opacity: 1; stroke-width: 1px;\"/><path class=\"ygrid crisp\" transform=\"translate(0,279.12)\" d=\"M80,0h540\" style=\"stroke: rgb(255, 255, 255); stroke-opacity: 1; stroke-width: 1px;\"/><path class=\"ygrid crisp\" transform=\"translate(0,238.49)\" d=\"M80,0h540\" style=\"stroke: rgb(255, 255, 255); stroke-opacity: 1; stroke-width: 1px;\"/><path class=\"ygrid crisp\" transform=\"translate(0,197.87)\" d=\"M80,0h540\" style=\"stroke: rgb(255, 255, 255); stroke-opacity: 1; stroke-width: 1px;\"/><path class=\"ygrid crisp\" transform=\"translate(0,157.24)\" d=\"M80,0h540\" style=\"stroke: rgb(255, 255, 255); stroke-opacity: 1; stroke-width: 1px;\"/><path class=\"ygrid crisp\" transform=\"translate(0,116.62)\" d=\"M80,0h540\" style=\"stroke: rgb(255, 255, 255); stroke-opacity: 1; stroke-width: 1px;\"/></g></g><g class=\"zerolinelayer\"><path class=\"yzl zl crisp\" transform=\"translate(0,401)\" d=\"M80,0h540\" style=\"stroke: rgb(255, 255, 255); stroke-opacity: 1; stroke-width: 2px;\"/></g><path class=\"xlines-below\"/><path class=\"ylines-below\"/><g class=\"overlines-below\"/><g class=\"xaxislayer-below\"/><g class=\"yaxislayer-below\"/><g class=\"overaxes-below\"/><g class=\"plot\" transform=\"translate(80,100)\" clip-path=\"url(#clipe7ef9fxyplot)\"><g class=\"barlayer mlayer\"><g class=\"trace bars\" style=\"opacity: 1;\"><g class=\"points\"><g class=\"point\"><path d=\"M5.4,301V15.05H48.6V301Z\" style=\"vector-effect: non-scaling-stroke; opacity: 1; stroke-width: 0.5px; fill: rgb(255, 0, 0); fill-opacity: 1; stroke: rgb(229, 236, 246); stroke-opacity: 1;\"/><text class=\"bartext bartext-outside\" text-anchor=\"middle\" data-notex=\"1\" x=\"0\" y=\"0\" style=\"font-family: 'Open Sans', verdana, arial, sans-serif; font-size: 12px; fill: rgb(42, 63, 95); fill-opacity: 1; white-space: pre;\" transform=\"translate(27,9.55)\">7.04M</text></g><g class=\"point\"><path d=\"M59.4,301V287.67H102.6V301Z\" style=\"vector-effect: non-scaling-stroke; opacity: 1; stroke-width: 0.5px; fill: rgb(99, 0, 127); fill-opacity: 1; stroke: rgb(229, 236, 246); stroke-opacity: 1;\"/><text class=\"bartext bartext-outside\" text-anchor=\"middle\" data-notex=\"1\" x=\"0\" y=\"0\" style=\"font-family: 'Open Sans', verdana, arial, sans-serif; font-size: 12px; fill: rgb(42, 63, 95); fill-opacity: 1; white-space: pre;\" transform=\"translate(81,282.17)\">328k</text></g><g class=\"point\"><path d=\"M113.4,301V290.28H156.6V301Z\" style=\"vector-effect: non-scaling-stroke; opacity: 1; stroke-width: 0.5px; fill: rgb(110, 0, 119); fill-opacity: 1; stroke: rgb(229, 236, 246); stroke-opacity: 1;\"/><text class=\"bartext bartext-outside\" text-anchor=\"middle\" data-notex=\"1\" x=\"0\" y=\"0\" style=\"font-family: 'Open Sans', verdana, arial, sans-serif; font-size: 12px; fill: rgb(42, 63, 95); fill-opacity: 1; white-space: pre;\" transform=\"translate(135,284.78)\">264k</text></g><g class=\"point\"><path d=\"M167.4,301V293.03H210.6V301Z\" style=\"vector-effect: non-scaling-stroke; opacity: 1; stroke-width: 0.5px; fill: rgb(122, 0, 111); fill-opacity: 1; stroke: rgb(229, 236, 246); stroke-opacity: 1;\"/><text class=\"bartext bartext-outside\" text-anchor=\"middle\" data-notex=\"1\" x=\"0\" y=\"0\" style=\"font-family: 'Open Sans', verdana, arial, sans-serif; font-size: 12px; fill: rgb(42, 63, 95); fill-opacity: 1; white-space: pre;\" transform=\"translate(189,287.53)\">196k</text></g><g class=\"point\"><path d=\"M221.4,301V295.73H264.6V301Z\" style=\"vector-effect: non-scaling-stroke; opacity: 1; stroke-width: 0.5px; fill: rgb(133, 0, 103); fill-opacity: 1; stroke: rgb(229, 236, 246); stroke-opacity: 1;\"/><text class=\"bartext bartext-outside\" text-anchor=\"middle\" data-notex=\"1\" x=\"0\" y=\"0\" style=\"font-family: 'Open Sans', verdana, arial, sans-serif; font-size: 12px; fill: rgb(42, 63, 95); fill-opacity: 1; white-space: pre;\" transform=\"translate(243,290.23)\">130k</text></g><g class=\"point\"><path d=\"M275.4,301V298.93H318.6V301Z\" style=\"vector-effect: non-scaling-stroke; opacity: 1; stroke-width: 0.5px; fill: rgb(146, 0, 93); fill-opacity: 1; stroke: rgb(229, 236, 246); stroke-opacity: 1;\"/><text class=\"bartext bartext-outside\" text-anchor=\"middle\" data-notex=\"1\" x=\"0\" y=\"0\" style=\"font-family: 'Open Sans', verdana, arial, sans-serif; font-size: 12px; fill: rgb(42, 63, 95); fill-opacity: 1; white-space: pre;\" transform=\"translate(297,293.43)\">50.9k</text></g><g class=\"point\"><path d=\"M329.4,301V299.09H372.6V301Z\" style=\"vector-effect: non-scaling-stroke; opacity: 1; stroke-width: 0.5px; fill: rgb(147, 0, 92); fill-opacity: 1; stroke: rgb(229, 236, 246); stroke-opacity: 1;\"/><text class=\"bartext bartext-outside\" text-anchor=\"middle\" data-notex=\"1\" x=\"0\" y=\"0\" style=\"font-family: 'Open Sans', verdana, arial, sans-serif; font-size: 12px; fill: rgb(42, 63, 95); fill-opacity: 1; white-space: pre;\" transform=\"translate(351,293.59)\">47.0k</text></g><g class=\"point\"><path d=\"M383.4,301V299.24H426.6V301Z\" style=\"vector-effect: non-scaling-stroke; opacity: 1; stroke-width: 0.5px; fill: rgb(148, 0, 92); fill-opacity: 1; stroke: rgb(229, 236, 246); stroke-opacity: 1;\"/><text class=\"bartext bartext-outside\" text-anchor=\"middle\" data-notex=\"1\" x=\"0\" y=\"0\" style=\"font-family: 'Open Sans', verdana, arial, sans-serif; font-size: 12px; fill: rgb(42, 63, 95); fill-opacity: 1; white-space: pre;\" transform=\"translate(405,293.74)\">43.3k</text></g><g class=\"point\"><path d=\"M437.4,301V299.49H480.6V301Z\" style=\"vector-effect: non-scaling-stroke; opacity: 1; stroke-width: 0.5px; fill: rgb(149, 0, 91); fill-opacity: 1; stroke: rgb(229, 236, 246); stroke-opacity: 1;\"/><text class=\"bartext bartext-outside\" text-anchor=\"middle\" data-notex=\"1\" x=\"0\" y=\"0\" style=\"font-family: 'Open Sans', verdana, arial, sans-serif; font-size: 12px; fill: rgb(42, 63, 95); fill-opacity: 1; white-space: pre;\" transform=\"translate(459,293.99)\">37.1k</text></g><g class=\"point\"><path d=\"M491.4,301V299.78H534.6V301Z\" style=\"vector-effect: non-scaling-stroke; opacity: 1; stroke-width: 0.5px; fill: rgb(150, 0, 90); fill-opacity: 1; stroke: rgb(229, 236, 246); stroke-opacity: 1;\"/><text class=\"bartext bartext-outside\" text-anchor=\"middle\" data-notex=\"1\" x=\"0\" y=\"0\" style=\"font-family: 'Open Sans', verdana, arial, sans-serif; font-size: 12px; fill: rgb(42, 63, 95); fill-opacity: 1; white-space: pre;\" transform=\"translate(513,294.28)\">30.1k</text></g></g></g></g></g><g class=\"overplot\"/><path class=\"xlines-above crisp\" d=\"M0,0\" style=\"fill: none;\"/><path class=\"ylines-above crisp\" d=\"M0,0\" style=\"fill: none;\"/><g class=\"overlines-above\"/><g class=\"xaxislayer-above\"><g class=\"xtick\"><text text-anchor=\"start\" x=\"0\" y=\"414\" transform=\"translate(107,0) rotate(30,0,408)\" style=\"font-family: 'Open Sans', verdana, arial, sans-serif; font-size: 12px; fill: rgb(42, 63, 95); fill-opacity: 1; white-space: pre; opacity: 1;\">United Kingdom</text></g><g class=\"xtick\"><text text-anchor=\"start\" x=\"0\" y=\"414\" transform=\"translate(161,0) rotate(30,0,408)\" style=\"font-family: 'Open Sans', verdana, arial, sans-serif; font-size: 12px; fill: rgb(42, 63, 95); fill-opacity: 1; white-space: pre; opacity: 1;\">EIRE</text></g><g class=\"xtick\"><text text-anchor=\"start\" x=\"0\" y=\"414\" transform=\"translate(215,0) rotate(30,0,408)\" style=\"font-family: 'Open Sans', verdana, arial, sans-serif; font-size: 12px; fill: rgb(42, 63, 95); fill-opacity: 1; white-space: pre; opacity: 1;\">Netherlands</text></g><g class=\"xtick\"><text text-anchor=\"start\" x=\"0\" y=\"414\" transform=\"translate(269,0) rotate(30,0,408)\" style=\"font-family: 'Open Sans', verdana, arial, sans-serif; font-size: 12px; fill: rgb(42, 63, 95); fill-opacity: 1; white-space: pre; opacity: 1;\">Germany</text></g><g class=\"xtick\"><text text-anchor=\"start\" x=\"0\" y=\"414\" transform=\"translate(323,0) rotate(30,0,408)\" style=\"font-family: 'Open Sans', verdana, arial, sans-serif; font-size: 12px; fill: rgb(42, 63, 95); fill-opacity: 1; white-space: pre; opacity: 1;\">France</text></g><g class=\"xtick\"><text text-anchor=\"start\" x=\"0\" y=\"414\" transform=\"translate(377,0) rotate(30,0,408)\" style=\"font-family: 'Open Sans', verdana, arial, sans-serif; font-size: 12px; fill: rgb(42, 63, 95); fill-opacity: 1; white-space: pre; opacity: 1;\">Sweden</text></g><g class=\"xtick\"><text text-anchor=\"start\" x=\"0\" y=\"414\" transform=\"translate(431,0) rotate(30,0,408)\" style=\"font-family: 'Open Sans', verdana, arial, sans-serif; font-size: 12px; fill: rgb(42, 63, 95); fill-opacity: 1; white-space: pre; opacity: 1;\">Denmark</text></g><g class=\"xtick\"><text text-anchor=\"start\" x=\"0\" y=\"414\" transform=\"translate(485,0) rotate(30,0,408)\" style=\"font-family: 'Open Sans', verdana, arial, sans-serif; font-size: 12px; fill: rgb(42, 63, 95); fill-opacity: 1; white-space: pre; opacity: 1;\">Switzerland</text></g><g class=\"xtick\"><text text-anchor=\"start\" x=\"0\" y=\"414\" transform=\"translate(539,0) rotate(30,0,408)\" style=\"font-family: 'Open Sans', verdana, arial, sans-serif; font-size: 12px; fill: rgb(42, 63, 95); fill-opacity: 1; white-space: pre; opacity: 1;\">Spain</text></g><g class=\"xtick\"><text text-anchor=\"start\" x=\"0\" y=\"414\" transform=\"translate(593,0) rotate(30,0,408)\" style=\"font-family: 'Open Sans', verdana, arial, sans-serif; font-size: 12px; fill: rgb(42, 63, 95); fill-opacity: 1; white-space: pre; opacity: 1;\">Australia</text></g></g><g class=\"yaxislayer-above\"><g class=\"ytick\"><text text-anchor=\"end\" x=\"79\" y=\"4.199999999999999\" transform=\"translate(0,401)\" style=\"font-family: 'Open Sans', verdana, arial, sans-serif; font-size: 12px; fill: rgb(42, 63, 95); fill-opacity: 1; white-space: pre; opacity: 1;\">0</text></g><g class=\"ytick\"><text text-anchor=\"end\" x=\"79\" y=\"4.199999999999999\" style=\"font-family: 'Open Sans', verdana, arial, sans-serif; font-size: 12px; fill: rgb(42, 63, 95); fill-opacity: 1; white-space: pre; opacity: 1;\" transform=\"translate(0,360.37)\">1M</text></g><g class=\"ytick\"><text text-anchor=\"end\" x=\"79\" y=\"4.199999999999999\" style=\"font-family: 'Open Sans', verdana, arial, sans-serif; font-size: 12px; fill: rgb(42, 63, 95); fill-opacity: 1; white-space: pre; opacity: 1;\" transform=\"translate(0,319.75)\">2M</text></g><g class=\"ytick\"><text text-anchor=\"end\" x=\"79\" y=\"4.199999999999999\" style=\"font-family: 'Open Sans', verdana, arial, sans-serif; font-size: 12px; fill: rgb(42, 63, 95); fill-opacity: 1; white-space: pre; opacity: 1;\" transform=\"translate(0,279.12)\">3M</text></g><g class=\"ytick\"><text text-anchor=\"end\" x=\"79\" y=\"4.199999999999999\" style=\"font-family: 'Open Sans', verdana, arial, sans-serif; font-size: 12px; fill: rgb(42, 63, 95); fill-opacity: 1; white-space: pre; opacity: 1;\" transform=\"translate(0,238.49)\">4M</text></g><g class=\"ytick\"><text text-anchor=\"end\" x=\"79\" y=\"4.199999999999999\" style=\"font-family: 'Open Sans', verdana, arial, sans-serif; font-size: 12px; fill: rgb(42, 63, 95); fill-opacity: 1; white-space: pre; opacity: 1;\" transform=\"translate(0,197.87)\">5M</text></g><g class=\"ytick\"><text text-anchor=\"end\" x=\"79\" y=\"4.199999999999999\" style=\"font-family: 'Open Sans', verdana, arial, sans-serif; font-size: 12px; fill: rgb(42, 63, 95); fill-opacity: 1; white-space: pre; opacity: 1;\" transform=\"translate(0,157.24)\">6M</text></g><g class=\"ytick\"><text text-anchor=\"end\" x=\"79\" y=\"4.199999999999999\" style=\"font-family: 'Open Sans', verdana, arial, sans-serif; font-size: 12px; fill: rgb(42, 63, 95); fill-opacity: 1; white-space: pre; opacity: 1;\" transform=\"translate(0,116.62)\">7M</text></g></g><g class=\"overaxes-above\"/></g></g><g class=\"polarlayer\"/><g class=\"smithlayer\"/><g class=\"ternarylayer\"/><g class=\"geolayer\"/><g class=\"funnelarealayer\"/><g class=\"pielayer\"/><g class=\"iciclelayer\"/><g class=\"treemaplayer\"/><g class=\"sunburstlayer\"/><g class=\"glimages\"/><defs id=\"topdefs-e7ef9f\"><g class=\"clips\"/></defs><g class=\"layer-above\"><g class=\"imagelayer\"/><g class=\"shapelayer\"/></g><g class=\"infolayer\"><g class=\"g-gtitle\"><text class=\"gtitle\" x=\"315\" y=\"50\" text-anchor=\"middle\" dy=\"0em\" style=\"font-family: 'Open Sans', verdana, arial, sans-serif; font-size: 17px; fill: rgb(42, 63, 95); opacity: 1; font-weight: normal; white-space: pre;\">Countries With Max Total Purchase Sum</text></g><g class=\"g-xtitle\"><text class=\"xtitle\" x=\"350\" y=\"488.341015625\" text-anchor=\"middle\" style=\"font-family: 'Open Sans', verdana, arial, sans-serif; font-size: 14px; fill: rgb(42, 63, 95); opacity: 1; font-weight: normal; white-space: pre;\">Countries</text></g><g class=\"g-ytitle\"><text class=\"ytitle\" transform=\"rotate(-90,36.45,250.5)\" x=\"36.45\" y=\"250.5\" text-anchor=\"middle\" style=\"font-family: 'Open Sans', verdana, arial, sans-serif; font-size: 14px; fill: rgb(42, 63, 95); opacity: 1; font-weight: normal; white-space: pre;\">Total Amount</text></g></g></svg>"
      ]
     },
     "metadata": {},
     "output_type": "display_data"
    }
   ],
   "source": [
    "fig = go.Figure(data=[\n",
    "    go.Bar(name='Countries With Max Total Purchase Amount', \n",
    "           x=retail_countries_purchase_desc['Country'].astype(str), \n",
    "           y=retail_countries_purchase_desc['Total'],\n",
    "           marker_opacity=1,\n",
    "           marker={'color': retail_countries_purchase_desc['Total'],\n",
    "                   'colorscale': 'Rainbow'})\n",
    "    ])\n",
    "\n",
    "fig.update_traces(texttemplate='%{y:.3s}', textposition='outside')\n",
    "\n",
    "fig.update_layout(title='Countries With Max Total Purchase Sum',\n",
    "                  title_x=0.45,\n",
    "                  xaxis_title=\"Countries\",\n",
    "                  yaxis_title=\"Total Amount\",\n",
    "                  plot_bgcolor='white')\n",
    "fig.show(\"svg\")"
   ]
  },
  {
   "cell_type": "code",
   "execution_count": 55,
   "id": "96ffe110",
   "metadata": {
    "papermill": {
     "duration": 0.048457,
     "end_time": "2024-04-11T05:57:21.889125",
     "exception": false,
     "start_time": "2024-04-11T05:57:21.840668",
     "status": "completed"
    },
    "tags": []
   },
   "outputs": [
    {
     "data": {
      "image/svg+xml": [
       "<svg class=\"main-svg\" xmlns=\"http://www.w3.org/2000/svg\" xmlns:xlink=\"http://www.w3.org/1999/xlink\" width=\"700\" height=\"500\" style=\"\" viewBox=\"0 0 700 500\"><rect x=\"0\" y=\"0\" width=\"700\" height=\"500\" style=\"fill: rgb(255, 255, 255); fill-opacity: 1;\"/><defs id=\"defs-2a1e95\"><g class=\"clips\"><clipPath id=\"clip2a1e95xyplot\" class=\"plotclip\"><rect width=\"540\" height=\"313\"/></clipPath><clipPath class=\"axesclip\" id=\"clip2a1e95x\"><rect x=\"80\" y=\"0\" width=\"540\" height=\"500\"/></clipPath><clipPath class=\"axesclip\" id=\"clip2a1e95y\"><rect x=\"0\" y=\"100\" width=\"700\" height=\"313\"/></clipPath><clipPath class=\"axesclip\" id=\"clip2a1e95xy\"><rect x=\"80\" y=\"100\" width=\"540\" height=\"313\"/></clipPath></g><g class=\"gradients\"/><g class=\"patterns\"/></defs><g class=\"bglayer\"/><g class=\"layer-below\"><g class=\"imagelayer\"/><g class=\"shapelayer\"/></g><g class=\"cartesianlayer\"><g class=\"subplot xy\"><g class=\"layer-subplot\"><g class=\"shapelayer\"/><g class=\"imagelayer\"/></g><g class=\"minor-gridlayer\"><g class=\"x\"/><g class=\"y\"/></g><g class=\"gridlayer\"><g class=\"x\"/><g class=\"y\"><path class=\"ygrid crisp\" transform=\"translate(0,364.58)\" d=\"M80,0h540\" style=\"stroke: rgb(255, 255, 255); stroke-opacity: 1; stroke-width: 1px;\"/><path class=\"ygrid crisp\" transform=\"translate(0,316.15999999999997)\" d=\"M80,0h540\" style=\"stroke: rgb(255, 255, 255); stroke-opacity: 1; stroke-width: 1px;\"/><path class=\"ygrid crisp\" transform=\"translate(0,267.74)\" d=\"M80,0h540\" style=\"stroke: rgb(255, 255, 255); stroke-opacity: 1; stroke-width: 1px;\"/><path class=\"ygrid crisp\" transform=\"translate(0,219.32)\" d=\"M80,0h540\" style=\"stroke: rgb(255, 255, 255); stroke-opacity: 1; stroke-width: 1px;\"/><path class=\"ygrid crisp\" transform=\"translate(0,170.9)\" d=\"M80,0h540\" style=\"stroke: rgb(255, 255, 255); stroke-opacity: 1; stroke-width: 1px;\"/><path class=\"ygrid crisp\" transform=\"translate(0,122.48)\" d=\"M80,0h540\" style=\"stroke: rgb(255, 255, 255); stroke-opacity: 1; stroke-width: 1px;\"/></g></g><g class=\"zerolinelayer\"><path class=\"yzl zl crisp\" transform=\"translate(0,413)\" d=\"M80,0h540\" style=\"stroke: rgb(255, 255, 255); stroke-opacity: 1; stroke-width: 2px;\"/></g><path class=\"xlines-below\"/><path class=\"ylines-below\"/><g class=\"overlines-below\"/><g class=\"xaxislayer-below\"/><g class=\"yaxislayer-below\"/><g class=\"overaxes-below\"/><g class=\"plot\" transform=\"translate(80,100)\" clip-path=\"url(#clip2a1e95xyplot)\"><g class=\"barlayer mlayer\"><g class=\"trace bars\" style=\"opacity: 1;\"><g class=\"points\"><g class=\"point\"><path d=\"M5.4,313V299.4H48.6V313Z\" style=\"vector-effect: non-scaling-stroke; opacity: 1; stroke-width: 0.5px; fill: rgb(255, 0, 0); fill-opacity: 1; stroke: rgb(229, 236, 246); stroke-opacity: 1;\"/><text class=\"bartext bartext-inside\" text-anchor=\"middle\" data-notex=\"1\" x=\"0\" y=\"0\" style=\"font-family: 'Open Sans', verdana, arial, sans-serif; font-size: 12px; fill: rgb(255, 255, 255); fill-opacity: 1; white-space: pre;\" transform=\"translate(27,308.6896551724138)scale(0.5241379310344844)\">140</text></g><g class=\"point\"><path d=\"M59.4,313V287.02H102.6V313Z\" style=\"vector-effect: non-scaling-stroke; opacity: 1; stroke-width: 0.5px; fill: rgb(99, 0, 127); fill-opacity: 1; stroke: rgb(229, 236, 246); stroke-opacity: 1;\"/><text class=\"bartext bartext-inside\" text-anchor=\"middle\" data-notex=\"1\" x=\"0\" y=\"0\" style=\"font-family: 'Open Sans', verdana, arial, sans-serif; font-size: 12px; fill: rgb(255, 255, 255); fill-opacity: 1; white-space: pre;\" transform=\"translate(81,302.02)\">268</text></g><g class=\"point\"><path d=\"M113.4,313V261.05H156.6V313Z\" style=\"vector-effect: non-scaling-stroke; opacity: 1; stroke-width: 0.5px; fill: rgb(110, 0, 119); fill-opacity: 1; stroke: rgb(229, 236, 246); stroke-opacity: 1;\"/><text class=\"bartext bartext-inside\" text-anchor=\"middle\" data-notex=\"1\" x=\"0\" y=\"0\" style=\"font-family: 'Open Sans', verdana, arial, sans-serif; font-size: 12px; fill: rgb(255, 255, 255); fill-opacity: 1; white-space: pre;\" transform=\"translate(135,276.05)\">536</text></g><g class=\"point\"><path d=\"M167.4,313V234.95H210.6V313Z\" style=\"vector-effect: non-scaling-stroke; opacity: 1; stroke-width: 0.5px; fill: rgb(122, 0, 111); fill-opacity: 1; stroke: rgb(229, 236, 246); stroke-opacity: 1;\"/><text class=\"bartext bartext-inside\" text-anchor=\"middle\" data-notex=\"1\" x=\"0\" y=\"0\" style=\"font-family: 'Open Sans', verdana, arial, sans-serif; font-size: 12px; fill: rgb(255, 255, 255); fill-opacity: 1; white-space: pre;\" transform=\"translate(189,249.95)\">806</text></g><g class=\"point\"><path d=\"M221.4,313V222.8H264.6V313Z\" style=\"vector-effect: non-scaling-stroke; opacity: 1; stroke-width: 0.5px; fill: rgb(133, 0, 103); fill-opacity: 1; stroke: rgb(229, 236, 246); stroke-opacity: 1;\"/><text class=\"bartext bartext-inside\" text-anchor=\"middle\" data-notex=\"1\" x=\"0\" y=\"0\" style=\"font-family: 'Open Sans', verdana, arial, sans-serif; font-size: 12px; fill: rgb(255, 255, 255); fill-opacity: 1; white-space: pre;\" transform=\"translate(243,237.8)\">931</text></g><g class=\"point\"><path d=\"M275.4,313V221.02H318.6V313Z\" style=\"vector-effect: non-scaling-stroke; opacity: 1; stroke-width: 0.5px; fill: rgb(146, 0, 93); fill-opacity: 1; stroke: rgb(229, 236, 246); stroke-opacity: 1;\"/><text class=\"bartext bartext-inside\" text-anchor=\"middle\" data-notex=\"1\" x=\"0\" y=\"0\" style=\"font-family: 'Open Sans', verdana, arial, sans-serif; font-size: 12px; fill: rgb(255, 255, 255); fill-opacity: 1; white-space: pre;\" transform=\"translate(297,236.02)\">950</text></g><g class=\"point\"><path d=\"M329.4,313V195.18H372.6V313Z\" style=\"vector-effect: non-scaling-stroke; opacity: 1; stroke-width: 0.5px; fill: rgb(147, 0, 92); fill-opacity: 1; stroke: rgb(229, 236, 246); stroke-opacity: 1;\"/><text class=\"bartext bartext-inside\" text-anchor=\"middle\" data-notex=\"1\" x=\"0\" y=\"0\" style=\"font-family: 'Open Sans', verdana, arial, sans-serif; font-size: 12px; fill: rgb(255, 255, 255); fill-opacity: 1; white-space: pre;\" transform=\"translate(351,210.18)\">1.22k</text></g><g class=\"point\"><path d=\"M383.4,313V184.85H426.6V313Z\" style=\"vector-effect: non-scaling-stroke; opacity: 1; stroke-width: 0.5px; fill: rgb(148, 0, 92); fill-opacity: 1; stroke: rgb(229, 236, 246); stroke-opacity: 1;\"/><text class=\"bartext bartext-inside\" text-anchor=\"middle\" data-notex=\"1\" x=\"0\" y=\"0\" style=\"font-family: 'Open Sans', verdana, arial, sans-serif; font-size: 12px; fill: rgb(255, 255, 255); fill-opacity: 1; white-space: pre;\" transform=\"translate(405,199.85)\">1.32k</text></g><g class=\"point\"><path d=\"M437.4,313V52.82H480.6V313Z\" style=\"vector-effect: non-scaling-stroke; opacity: 1; stroke-width: 0.5px; fill: rgb(149, 0, 91); fill-opacity: 1; stroke: rgb(229, 236, 246); stroke-opacity: 1;\"/><text class=\"bartext bartext-inside\" text-anchor=\"middle\" data-notex=\"1\" x=\"0\" y=\"0\" style=\"font-family: 'Open Sans', verdana, arial, sans-serif; font-size: 12px; fill: rgb(255, 255, 255); fill-opacity: 1; white-space: pre;\" transform=\"translate(459,67.82)\">2.69k</text></g><g class=\"point\"><path d=\"M491.4,313V15.65H534.6V313Z\" style=\"vector-effect: non-scaling-stroke; opacity: 1; stroke-width: 0.5px; fill: rgb(150, 0, 90); fill-opacity: 1; stroke: rgb(229, 236, 246); stroke-opacity: 1;\"/><text class=\"bartext bartext-inside\" text-anchor=\"middle\" data-notex=\"1\" x=\"0\" y=\"0\" style=\"font-family: 'Open Sans', verdana, arial, sans-serif; font-size: 12px; fill: rgb(255, 255, 255); fill-opacity: 1; white-space: pre;\" transform=\"translate(513,30.65)\">3.07k</text></g></g></g></g></g><g class=\"overplot\"/><path class=\"xlines-above crisp\" d=\"M0,0\" style=\"fill: none;\"/><path class=\"ylines-above crisp\" d=\"M0,0\" style=\"fill: none;\"/><g class=\"overlines-above\"/><g class=\"xaxislayer-above\"><g class=\"xtick\"><text text-anchor=\"start\" x=\"0\" y=\"426\" transform=\"translate(107,0) rotate(30,0,420)\" style=\"font-family: 'Open Sans', verdana, arial, sans-serif; font-size: 12px; fill: rgb(42, 63, 95); fill-opacity: 1; white-space: pre; opacity: 1;\">Nigeria</text></g><g class=\"xtick\"><text text-anchor=\"start\" x=\"0\" y=\"426\" transform=\"translate(161,0) rotate(30,0,420)\" style=\"font-family: 'Open Sans', verdana, arial, sans-serif; font-size: 12px; fill: rgb(42, 63, 95); fill-opacity: 1; white-space: pre; opacity: 1;\">Brazil</text></g><g class=\"xtick\"><text text-anchor=\"start\" x=\"0\" y=\"426\" transform=\"translate(215,0) rotate(30,0,420)\" style=\"font-family: 'Open Sans', verdana, arial, sans-serif; font-size: 12px; fill: rgb(42, 63, 95); fill-opacity: 1; white-space: pre; opacity: 1;\">West Indies</text></g><g class=\"xtick\"><text text-anchor=\"start\" x=\"0\" y=\"426\" transform=\"translate(269,0) rotate(30,0,420)\" style=\"font-family: 'Open Sans', verdana, arial, sans-serif; font-size: 12px; fill: rgb(42, 63, 95); fill-opacity: 1; white-space: pre; opacity: 1;\">Bahrain</text></g><g class=\"xtick\"><text text-anchor=\"start\" x=\"0\" y=\"426\" transform=\"translate(323,0) rotate(30,0,420)\" style=\"font-family: 'Open Sans', verdana, arial, sans-serif; font-size: 12px; fill: rgb(42, 63, 95); fill-opacity: 1; white-space: pre; opacity: 1;\">RSA</text></g><g class=\"xtick\"><text text-anchor=\"start\" x=\"0\" y=\"426\" transform=\"translate(377,0) rotate(30,0,420)\" style=\"font-family: 'Open Sans', verdana, arial, sans-serif; font-size: 12px; fill: rgb(42, 63, 95); fill-opacity: 1; white-space: pre; opacity: 1;\">Korea</text></g><g class=\"xtick\"><text text-anchor=\"start\" x=\"0\" y=\"426\" transform=\"translate(431,0) rotate(30,0,420)\" style=\"font-family: 'Open Sans', verdana, arial, sans-serif; font-size: 12px; fill: rgb(42, 63, 95); fill-opacity: 1; white-space: pre; opacity: 1;\">Canada</text></g><g class=\"xtick\"><text text-anchor=\"start\" x=\"0\" y=\"426\" transform=\"translate(485,0) rotate(30,0,420)\" style=\"font-family: 'Open Sans', verdana, arial, sans-serif; font-size: 12px; fill: rgb(42, 63, 95); fill-opacity: 1; white-space: pre; opacity: 1;\">Iceland</text></g><g class=\"xtick\"><text text-anchor=\"start\" x=\"0\" y=\"426\" transform=\"translate(539,0) rotate(30,0,420)\" style=\"font-family: 'Open Sans', verdana, arial, sans-serif; font-size: 12px; fill: rgb(42, 63, 95); fill-opacity: 1; white-space: pre; opacity: 1;\">Malta</text></g><g class=\"xtick\"><text text-anchor=\"start\" x=\"0\" y=\"426\" transform=\"translate(593,0) rotate(30,0,420)\" style=\"font-family: 'Open Sans', verdana, arial, sans-serif; font-size: 12px; fill: rgb(42, 63, 95); fill-opacity: 1; white-space: pre; opacity: 1;\">Thailand</text></g></g><g class=\"yaxislayer-above\"><g class=\"ytick\"><text text-anchor=\"end\" x=\"79\" y=\"4.199999999999999\" transform=\"translate(0,413)\" style=\"font-family: 'Open Sans', verdana, arial, sans-serif; font-size: 12px; fill: rgb(42, 63, 95); fill-opacity: 1; white-space: pre; opacity: 1;\">0</text></g><g class=\"ytick\"><text text-anchor=\"end\" x=\"79\" y=\"4.199999999999999\" style=\"font-family: 'Open Sans', verdana, arial, sans-serif; font-size: 12px; fill: rgb(42, 63, 95); fill-opacity: 1; white-space: pre; opacity: 1;\" transform=\"translate(0,364.58)\">500</text></g><g class=\"ytick\"><text text-anchor=\"end\" x=\"79\" y=\"4.199999999999999\" style=\"font-family: 'Open Sans', verdana, arial, sans-serif; font-size: 12px; fill: rgb(42, 63, 95); fill-opacity: 1; white-space: pre; opacity: 1;\" transform=\"translate(0,316.15999999999997)\">1000</text></g><g class=\"ytick\"><text text-anchor=\"end\" x=\"79\" y=\"4.199999999999999\" style=\"font-family: 'Open Sans', verdana, arial, sans-serif; font-size: 12px; fill: rgb(42, 63, 95); fill-opacity: 1; white-space: pre; opacity: 1;\" transform=\"translate(0,267.74)\">1500</text></g><g class=\"ytick\"><text text-anchor=\"end\" x=\"79\" y=\"4.199999999999999\" style=\"font-family: 'Open Sans', verdana, arial, sans-serif; font-size: 12px; fill: rgb(42, 63, 95); fill-opacity: 1; white-space: pre; opacity: 1;\" transform=\"translate(0,219.32)\">2000</text></g><g class=\"ytick\"><text text-anchor=\"end\" x=\"79\" y=\"4.199999999999999\" style=\"font-family: 'Open Sans', verdana, arial, sans-serif; font-size: 12px; fill: rgb(42, 63, 95); fill-opacity: 1; white-space: pre; opacity: 1;\" transform=\"translate(0,170.9)\">2500</text></g><g class=\"ytick\"><text text-anchor=\"end\" x=\"79\" y=\"4.199999999999999\" style=\"font-family: 'Open Sans', verdana, arial, sans-serif; font-size: 12px; fill: rgb(42, 63, 95); fill-opacity: 1; white-space: pre; opacity: 1;\" transform=\"translate(0,122.48)\">3000</text></g></g><g class=\"overaxes-above\"/></g></g><g class=\"polarlayer\"/><g class=\"smithlayer\"/><g class=\"ternarylayer\"/><g class=\"geolayer\"/><g class=\"funnelarealayer\"/><g class=\"pielayer\"/><g class=\"iciclelayer\"/><g class=\"treemaplayer\"/><g class=\"sunburstlayer\"/><g class=\"glimages\"/><defs id=\"topdefs-2a1e95\"><g class=\"clips\"/></defs><g class=\"layer-above\"><g class=\"imagelayer\"/><g class=\"shapelayer\"/></g><g class=\"infolayer\"><g class=\"g-gtitle\"><text class=\"gtitle\" x=\"315\" y=\"15\" text-anchor=\"middle\" dy=\"0.7em\" style=\"font-family: 'Open Sans', verdana, arial, sans-serif; font-size: 17px; fill: rgb(42, 63, 95); opacity: 1; font-weight: normal; white-space: pre;\">Countries With Min Total Purchase Amount</text></g><g class=\"g-xtitle\"><text class=\"xtitle\" x=\"350\" y=\"487.676953125\" text-anchor=\"middle\" style=\"font-family: 'Open Sans', verdana, arial, sans-serif; font-size: 14px; fill: rgb(42, 63, 95); opacity: 1; font-weight: normal; white-space: pre;\">Countries</text></g><g class=\"g-ytitle\"><text class=\"ytitle\" transform=\"rotate(-90,23.684375000000003,256.5)\" x=\"23.684375000000003\" y=\"256.5\" text-anchor=\"middle\" style=\"font-family: 'Open Sans', verdana, arial, sans-serif; font-size: 14px; fill: rgb(42, 63, 95); opacity: 1; font-weight: normal; white-space: pre;\">Total Amount</text></g></g></svg>"
      ]
     },
     "metadata": {},
     "output_type": "display_data"
    }
   ],
   "source": [
    "fig = go.Figure(data=[\n",
    "    go.Bar(name='Countries With Min Total Purchase Amount', \n",
    "           x=retail_countries_purchase_asc['Country'].astype(str), \n",
    "           y=retail_countries_purchase_asc['Total'],\n",
    "           marker_opacity=1,\n",
    "           marker={'color': retail_countries_purchase_desc['Total'],\n",
    "                   'colorscale': 'Rainbow'}\n",
    "          )\n",
    "    ])\n",
    "\n",
    "fig.update_traces(texttemplate='%{y:.3s}', textposition='inside')\n",
    "\n",
    "fig.update_layout(title='Countries With Min Total Purchase Amount',\n",
    "                  title_x=0.45,\n",
    "                  title_y=0.97,\n",
    "                  xaxis_title=\"Countries\",\n",
    "                  yaxis_title=\"Total Amount\",\n",
    "                  plot_bgcolor='white')\n",
    "fig.show(\"svg\")"
   ]
  },
  {
   "cell_type": "markdown",
   "id": "91d928b1",
   "metadata": {
    "papermill": {
     "duration": 0.020958,
     "end_time": "2024-04-11T05:57:21.932120",
     "exception": false,
     "start_time": "2024-04-11T05:57:21.911162",
     "status": "completed"
    },
    "tags": []
   },
   "source": [
    "If we look at the 10 countries, where maximal purchase totals originate from, it is very clear that United Kingdom is a leader with purchase amount of £13.8M. The closest amount to that is £579k - that much was purchased by EIRE customers. It is 23 times less! One other interesting insight is that all countries in the top ten are located in Europe.\n",
    "\n",
    "The country with the smallest purchase value is Saudi Arabia. Customers from Saudi Arabia have spent only £131 in the online shop in two years! While generally countries with smaller purchased amounts are situated outside of Europe, there is an interesting exception: Czech Republic. If I had more data, I would love to dig deeper into the reasons of this fact!"
   ]
  },
  {
   "cell_type": "markdown",
   "id": "fb600d38",
   "metadata": {
    "papermill": {
     "duration": 0.022315,
     "end_time": "2024-04-11T05:57:21.975529",
     "exception": false,
     "start_time": "2024-04-11T05:57:21.953214",
     "status": "completed"
    },
    "tags": []
   },
   "source": [
    "## Countries Analysis: Unique Customers Number\n",
    "\n",
    "Next, I'm interested in which 10 countries number of unique customers is largest, and in which it is small.\n"
   ]
  },
  {
   "cell_type": "code",
   "execution_count": 56,
   "id": "62878506",
   "metadata": {
    "papermill": {
     "duration": 0.194138,
     "end_time": "2024-04-11T05:57:22.192361",
     "exception": false,
     "start_time": "2024-04-11T05:57:21.998223",
     "status": "completed"
    },
    "tags": []
   },
   "outputs": [],
   "source": [
    "retail_countries_customers = retail.groupby(['Country'], as_index=False)['Customer ID'].agg({'Customer ID': 'nunique'})\n",
    "retail_countries_customers.rename(columns={'Customer ID': 'Customer Count'}, inplace=True)\n",
    "retail_countries_customers_asc = retail_countries_customers.sort_values('Customer Count').head(10)\n",
    "retail_countries_customers_desc = retail_countries_customers.sort_values('Customer Count', ascending=False).head(10)"
   ]
  },
  {
   "cell_type": "code",
   "execution_count": 57,
   "id": "84a90a82",
   "metadata": {
    "papermill": {
     "duration": 0.050192,
     "end_time": "2024-04-11T05:57:22.264250",
     "exception": false,
     "start_time": "2024-04-11T05:57:22.214058",
     "status": "completed"
    },
    "tags": []
   },
   "outputs": [
    {
     "data": {
      "image/svg+xml": [
       "<svg class=\"main-svg\" xmlns=\"http://www.w3.org/2000/svg\" xmlns:xlink=\"http://www.w3.org/1999/xlink\" width=\"700\" height=\"500\" style=\"\" viewBox=\"0 0 700 500\"><rect x=\"0\" y=\"0\" width=\"700\" height=\"500\" style=\"fill: rgb(255, 255, 255); fill-opacity: 1;\"/><defs id=\"defs-c6b7e8\"><g class=\"clips\"><clipPath id=\"clipc6b7e8xyplot\" class=\"plotclip\"><rect width=\"540\" height=\"301\"/></clipPath><clipPath class=\"axesclip\" id=\"clipc6b7e8x\"><rect x=\"80\" y=\"0\" width=\"540\" height=\"500\"/></clipPath><clipPath class=\"axesclip\" id=\"clipc6b7e8y\"><rect x=\"0\" y=\"100\" width=\"700\" height=\"301\"/></clipPath><clipPath class=\"axesclip\" id=\"clipc6b7e8xy\"><rect x=\"80\" y=\"100\" width=\"540\" height=\"301\"/></clipPath></g><g class=\"gradients\"/><g class=\"patterns\"/></defs><g class=\"bglayer\"/><g class=\"layer-below\"><g class=\"imagelayer\"/><g class=\"shapelayer\"/></g><g class=\"cartesianlayer\"><g class=\"subplot xy\"><g class=\"layer-subplot\"><g class=\"shapelayer\"/><g class=\"imagelayer\"/></g><g class=\"minor-gridlayer\"><g class=\"x\"/><g class=\"y\"/></g><g class=\"gridlayer\"><g class=\"x\"/><g class=\"y\"><path class=\"ygrid crisp\" transform=\"translate(0,365.57)\" d=\"M80,0h540\" style=\"stroke: rgb(255, 255, 255); stroke-opacity: 1; stroke-width: 1px;\"/><path class=\"ygrid crisp\" transform=\"translate(0,330.13)\" d=\"M80,0h540\" style=\"stroke: rgb(255, 255, 255); stroke-opacity: 1; stroke-width: 1px;\"/><path class=\"ygrid crisp\" transform=\"translate(0,294.7)\" d=\"M80,0h540\" style=\"stroke: rgb(255, 255, 255); stroke-opacity: 1; stroke-width: 1px;\"/><path class=\"ygrid crisp\" transform=\"translate(0,259.27)\" d=\"M80,0h540\" style=\"stroke: rgb(255, 255, 255); stroke-opacity: 1; stroke-width: 1px;\"/><path class=\"ygrid crisp\" transform=\"translate(0,223.82999999999998)\" d=\"M80,0h540\" style=\"stroke: rgb(255, 255, 255); stroke-opacity: 1; stroke-width: 1px;\"/><path class=\"ygrid crisp\" transform=\"translate(0,188.4)\" d=\"M80,0h540\" style=\"stroke: rgb(255, 255, 255); stroke-opacity: 1; stroke-width: 1px;\"/><path class=\"ygrid crisp\" transform=\"translate(0,152.96)\" d=\"M80,0h540\" style=\"stroke: rgb(255, 255, 255); stroke-opacity: 1; stroke-width: 1px;\"/><path class=\"ygrid crisp\" transform=\"translate(0,117.53)\" d=\"M80,0h540\" style=\"stroke: rgb(255, 255, 255); stroke-opacity: 1; stroke-width: 1px;\"/></g></g><g class=\"zerolinelayer\"><path class=\"yzl zl crisp\" transform=\"translate(0,401)\" d=\"M80,0h540\" style=\"stroke: rgb(255, 255, 255); stroke-opacity: 1; stroke-width: 2px;\"/></g><path class=\"xlines-below\"/><path class=\"ylines-below\"/><g class=\"overlines-below\"/><g class=\"xaxislayer-below\"/><g class=\"yaxislayer-below\"/><g class=\"overaxes-below\"/><g class=\"plot\" transform=\"translate(80,100)\" clip-path=\"url(#clipc6b7e8xyplot)\"><g class=\"barlayer mlayer\"><g class=\"trace bars\" style=\"opacity: 1;\"><g class=\"points\"><g class=\"point\"><path d=\"M5.4,301V15.05H48.6V301Z\" style=\"vector-effect: non-scaling-stroke; opacity: 1; stroke-width: 0.5px; fill: rgb(255, 0, 0); fill-opacity: 1; stroke: rgb(229, 236, 246); stroke-opacity: 1;\"/><text class=\"bartext bartext-outside\" text-anchor=\"middle\" data-notex=\"1\" x=\"0\" y=\"0\" style=\"font-family: 'Open Sans', verdana, arial, sans-serif; font-size: 12px; fill: rgb(42, 63, 95); fill-opacity: 1; white-space: pre;\" transform=\"translate(27,9.55)\">4.04k</text></g><g class=\"point\"><path d=\"M59.4,301V296.18H102.6V301Z\" style=\"vector-effect: non-scaling-stroke; opacity: 1; stroke-width: 0.5px; fill: rgb(134, 0, 102); fill-opacity: 1; stroke: rgb(229, 236, 246); stroke-opacity: 1;\"/><text class=\"bartext bartext-outside\" text-anchor=\"middle\" data-notex=\"1\" x=\"0\" y=\"0\" style=\"font-family: 'Open Sans', verdana, arial, sans-serif; font-size: 12px; fill: rgb(42, 63, 95); fill-opacity: 1; white-space: pre;\" transform=\"translate(81,290.68)\">68.0</text></g><g class=\"point\"><path d=\"M113.4,301V297.67H156.6V301Z\" style=\"vector-effect: non-scaling-stroke; opacity: 1; stroke-width: 0.5px; fill: rgb(140, 0, 97); fill-opacity: 1; stroke: rgb(229, 236, 246); stroke-opacity: 1;\"/><text class=\"bartext bartext-outside\" text-anchor=\"middle\" data-notex=\"1\" x=\"0\" y=\"0\" style=\"font-family: 'Open Sans', verdana, arial, sans-serif; font-size: 12px; fill: rgb(42, 63, 95); fill-opacity: 1; white-space: pre;\" transform=\"translate(135,292.17)\">47.0</text></g><g class=\"point\"><path d=\"M167.4,301V299.23H210.6V301Z\" style=\"vector-effect: non-scaling-stroke; opacity: 1; stroke-width: 0.5px; fill: rgb(147, 0, 92); fill-opacity: 1; stroke: rgb(229, 236, 246); stroke-opacity: 1;\"/><text class=\"bartext bartext-outside\" text-anchor=\"middle\" data-notex=\"1\" x=\"0\" y=\"0\" style=\"font-family: 'Open Sans', verdana, arial, sans-serif; font-size: 12px; fill: rgb(42, 63, 95); fill-opacity: 1; white-space: pre;\" transform=\"translate(189,293.73)\">25.0</text></g><g class=\"point\"><path d=\"M221.4,301V299.37H264.6V301Z\" style=\"vector-effect: non-scaling-stroke; opacity: 1; stroke-width: 0.5px; fill: rgb(147, 0, 92); fill-opacity: 1; stroke: rgb(229, 236, 246); stroke-opacity: 1;\"/><text class=\"bartext bartext-outside\" text-anchor=\"middle\" data-notex=\"1\" x=\"0\" y=\"0\" style=\"font-family: 'Open Sans', verdana, arial, sans-serif; font-size: 12px; fill: rgb(42, 63, 95); fill-opacity: 1; white-space: pre;\" transform=\"translate(243,293.87)\">23.0</text></g><g class=\"point\"><path d=\"M275.4,301V299.72H318.6V301Z\" style=\"vector-effect: non-scaling-stroke; opacity: 1; stroke-width: 0.5px; fill: rgb(149, 0, 91); fill-opacity: 1; stroke: rgb(229, 236, 246); stroke-opacity: 1;\"/><text class=\"bartext bartext-outside\" text-anchor=\"middle\" data-notex=\"1\" x=\"0\" y=\"0\" style=\"font-family: 'Open Sans', verdana, arial, sans-serif; font-size: 12px; fill: rgb(42, 63, 95); fill-opacity: 1; white-space: pre;\" transform=\"translate(297,294.22)\">18.0</text></g><g class=\"point\"><path d=\"M329.4,301V299.8H372.6V301Z\" style=\"vector-effect: non-scaling-stroke; opacity: 1; stroke-width: 0.5px; fill: rgb(149, 0, 91); fill-opacity: 1; stroke: rgb(229, 236, 246); stroke-opacity: 1;\"/><text class=\"bartext bartext-outside\" text-anchor=\"middle\" data-notex=\"1\" x=\"0\" y=\"0\" style=\"font-family: 'Open Sans', verdana, arial, sans-serif; font-size: 12px; fill: rgb(42, 63, 95); fill-opacity: 1; white-space: pre;\" transform=\"translate(351,294.3)\">17.0</text></g><g class=\"point\"><path d=\"M383.4,301V299.87H426.6V301Z\" style=\"vector-effect: non-scaling-stroke; opacity: 1; stroke-width: 0.5px; fill: rgb(149, 0, 90); fill-opacity: 1; stroke: rgb(229, 236, 246); stroke-opacity: 1;\"/><text class=\"bartext bartext-outside\" text-anchor=\"middle\" data-notex=\"1\" x=\"0\" y=\"0\" style=\"font-family: 'Open Sans', verdana, arial, sans-serif; font-size: 12px; fill: rgb(42, 63, 95); fill-opacity: 1; white-space: pre;\" transform=\"translate(405,294.37)\">16.0</text></g><g class=\"point\"><path d=\"M437.4,301V299.94H480.6V301Z\" style=\"vector-effect: non-scaling-stroke; opacity: 1; stroke-width: 0.5px; fill: rgb(150, 0, 90); fill-opacity: 1; stroke: rgb(229, 236, 246); stroke-opacity: 1;\"/><text class=\"bartext bartext-outside\" text-anchor=\"middle\" data-notex=\"1\" x=\"0\" y=\"0\" style=\"font-family: 'Open Sans', verdana, arial, sans-serif; font-size: 12px; fill: rgb(42, 63, 95); fill-opacity: 1; white-space: pre;\" transform=\"translate(459,294.44)\">15.0</text></g><g class=\"point\"><path d=\"M491.4,301V300.01H534.6V301Z\" style=\"vector-effect: non-scaling-stroke; opacity: 1; stroke-width: 0.5px; fill: rgb(150, 0, 90); fill-opacity: 1; stroke: rgb(229, 236, 246); stroke-opacity: 1;\"/><text class=\"bartext bartext-outside\" text-anchor=\"middle\" data-notex=\"1\" x=\"0\" y=\"0\" style=\"font-family: 'Open Sans', verdana, arial, sans-serif; font-size: 12px; fill: rgb(42, 63, 95); fill-opacity: 1; white-space: pre;\" transform=\"translate(513,294.51)\">14.0</text></g></g></g></g></g><g class=\"overplot\"/><path class=\"xlines-above crisp\" d=\"M0,0\" style=\"fill: none;\"/><path class=\"ylines-above crisp\" d=\"M0,0\" style=\"fill: none;\"/><g class=\"overlines-above\"/><g class=\"xaxislayer-above\"><g class=\"xtick\"><text text-anchor=\"start\" x=\"0\" y=\"414\" transform=\"translate(107,0) rotate(30,0,408)\" style=\"font-family: 'Open Sans', verdana, arial, sans-serif; font-size: 12px; fill: rgb(42, 63, 95); fill-opacity: 1; white-space: pre; opacity: 1;\">United Kingdom</text></g><g class=\"xtick\"><text text-anchor=\"start\" x=\"0\" y=\"414\" transform=\"translate(161,0) rotate(30,0,408)\" style=\"font-family: 'Open Sans', verdana, arial, sans-serif; font-size: 12px; fill: rgb(42, 63, 95); fill-opacity: 1; white-space: pre; opacity: 1;\">Germany</text></g><g class=\"xtick\"><text text-anchor=\"start\" x=\"0\" y=\"414\" transform=\"translate(215,0) rotate(30,0,408)\" style=\"font-family: 'Open Sans', verdana, arial, sans-serif; font-size: 12px; fill: rgb(42, 63, 95); fill-opacity: 1; white-space: pre; opacity: 1;\">France</text></g><g class=\"xtick\"><text text-anchor=\"start\" x=\"0\" y=\"414\" transform=\"translate(269,0) rotate(30,0,408)\" style=\"font-family: 'Open Sans', verdana, arial, sans-serif; font-size: 12px; fill: rgb(42, 63, 95); fill-opacity: 1; white-space: pre; opacity: 1;\">Spain</text></g><g class=\"xtick\"><text text-anchor=\"start\" x=\"0\" y=\"414\" transform=\"translate(323,0) rotate(30,0,408)\" style=\"font-family: 'Open Sans', verdana, arial, sans-serif; font-size: 12px; fill: rgb(42, 63, 95); fill-opacity: 1; white-space: pre; opacity: 1;\">Netherlands</text></g><g class=\"xtick\"><text text-anchor=\"start\" x=\"0\" y=\"414\" transform=\"translate(377,0) rotate(30,0,408)\" style=\"font-family: 'Open Sans', verdana, arial, sans-serif; font-size: 12px; fill: rgb(42, 63, 95); fill-opacity: 1; white-space: pre; opacity: 1;\">Portugal</text></g><g class=\"xtick\"><text text-anchor=\"start\" x=\"0\" y=\"414\" transform=\"translate(431,0) rotate(30,0,408)\" style=\"font-family: 'Open Sans', verdana, arial, sans-serif; font-size: 12px; fill: rgb(42, 63, 95); fill-opacity: 1; white-space: pre; opacity: 1;\">Belgium</text></g><g class=\"xtick\"><text text-anchor=\"start\" x=\"0\" y=\"414\" transform=\"translate(485,0) rotate(30,0,408)\" style=\"font-family: 'Open Sans', verdana, arial, sans-serif; font-size: 12px; fill: rgb(42, 63, 95); fill-opacity: 1; white-space: pre; opacity: 1;\">Sweden</text></g><g class=\"xtick\"><text text-anchor=\"start\" x=\"0\" y=\"414\" transform=\"translate(539,0) rotate(30,0,408)\" style=\"font-family: 'Open Sans', verdana, arial, sans-serif; font-size: 12px; fill: rgb(42, 63, 95); fill-opacity: 1; white-space: pre; opacity: 1;\">Australia</text></g><g class=\"xtick\"><text text-anchor=\"start\" x=\"0\" y=\"414\" transform=\"translate(593,0) rotate(30,0,408)\" style=\"font-family: 'Open Sans', verdana, arial, sans-serif; font-size: 12px; fill: rgb(42, 63, 95); fill-opacity: 1; white-space: pre; opacity: 1;\">Switzerland</text></g></g><g class=\"yaxislayer-above\"><g class=\"ytick\"><text text-anchor=\"end\" x=\"79\" y=\"4.199999999999999\" transform=\"translate(0,401)\" style=\"font-family: 'Open Sans', verdana, arial, sans-serif; font-size: 12px; fill: rgb(42, 63, 95); fill-opacity: 1; white-space: pre; opacity: 1;\">0</text></g><g class=\"ytick\"><text text-anchor=\"end\" x=\"79\" y=\"4.199999999999999\" style=\"font-family: 'Open Sans', verdana, arial, sans-serif; font-size: 12px; fill: rgb(42, 63, 95); fill-opacity: 1; white-space: pre; opacity: 1;\" transform=\"translate(0,365.57)\">500</text></g><g class=\"ytick\"><text text-anchor=\"end\" x=\"79\" y=\"4.199999999999999\" style=\"font-family: 'Open Sans', verdana, arial, sans-serif; font-size: 12px; fill: rgb(42, 63, 95); fill-opacity: 1; white-space: pre; opacity: 1;\" transform=\"translate(0,330.13)\">1000</text></g><g class=\"ytick\"><text text-anchor=\"end\" x=\"79\" y=\"4.199999999999999\" style=\"font-family: 'Open Sans', verdana, arial, sans-serif; font-size: 12px; fill: rgb(42, 63, 95); fill-opacity: 1; white-space: pre; opacity: 1;\" transform=\"translate(0,294.7)\">1500</text></g><g class=\"ytick\"><text text-anchor=\"end\" x=\"79\" y=\"4.199999999999999\" style=\"font-family: 'Open Sans', verdana, arial, sans-serif; font-size: 12px; fill: rgb(42, 63, 95); fill-opacity: 1; white-space: pre; opacity: 1;\" transform=\"translate(0,259.27)\">2000</text></g><g class=\"ytick\"><text text-anchor=\"end\" x=\"79\" y=\"4.199999999999999\" style=\"font-family: 'Open Sans', verdana, arial, sans-serif; font-size: 12px; fill: rgb(42, 63, 95); fill-opacity: 1; white-space: pre; opacity: 1;\" transform=\"translate(0,223.82999999999998)\">2500</text></g><g class=\"ytick\"><text text-anchor=\"end\" x=\"79\" y=\"4.199999999999999\" style=\"font-family: 'Open Sans', verdana, arial, sans-serif; font-size: 12px; fill: rgb(42, 63, 95); fill-opacity: 1; white-space: pre; opacity: 1;\" transform=\"translate(0,188.4)\">3000</text></g><g class=\"ytick\"><text text-anchor=\"end\" x=\"79\" y=\"4.199999999999999\" style=\"font-family: 'Open Sans', verdana, arial, sans-serif; font-size: 12px; fill: rgb(42, 63, 95); fill-opacity: 1; white-space: pre; opacity: 1;\" transform=\"translate(0,152.96)\">3500</text></g><g class=\"ytick\"><text text-anchor=\"end\" x=\"79\" y=\"4.199999999999999\" style=\"font-family: 'Open Sans', verdana, arial, sans-serif; font-size: 12px; fill: rgb(42, 63, 95); fill-opacity: 1; white-space: pre; opacity: 1;\" transform=\"translate(0,117.53)\">4000</text></g></g><g class=\"overaxes-above\"/></g></g><g class=\"polarlayer\"/><g class=\"smithlayer\"/><g class=\"ternarylayer\"/><g class=\"geolayer\"/><g class=\"funnelarealayer\"/><g class=\"pielayer\"/><g class=\"iciclelayer\"/><g class=\"treemaplayer\"/><g class=\"sunburstlayer\"/><g class=\"glimages\"/><defs id=\"topdefs-c6b7e8\"><g class=\"clips\"/></defs><g class=\"layer-above\"><g class=\"imagelayer\"/><g class=\"shapelayer\"/></g><g class=\"infolayer\"><g class=\"g-gtitle\"><text class=\"gtitle\" x=\"315\" y=\"50\" text-anchor=\"middle\" dy=\"0em\" style=\"font-family: 'Open Sans', verdana, arial, sans-serif; font-size: 17px; fill: rgb(42, 63, 95); opacity: 1; font-weight: normal; white-space: pre;\">Countries with Largest Number of Unique Customers</text></g><g class=\"g-xtitle\"><text class=\"xtitle\" x=\"350\" y=\"488.341015625\" text-anchor=\"middle\" style=\"font-family: 'Open Sans', verdana, arial, sans-serif; font-size: 14px; fill: rgb(42, 63, 95); opacity: 1; font-weight: normal; white-space: pre;\">Countries</text></g><g class=\"g-ytitle\"><text class=\"ytitle\" transform=\"rotate(-90,23.684375000000003,250.5)\" x=\"23.684375000000003\" y=\"250.5\" text-anchor=\"middle\" style=\"font-family: 'Open Sans', verdana, arial, sans-serif; font-size: 14px; fill: rgb(42, 63, 95); opacity: 1; font-weight: normal; white-space: pre;\">Number of Unique Customers</text></g></g></svg>"
      ]
     },
     "metadata": {},
     "output_type": "display_data"
    }
   ],
   "source": [
    "fig = go.Figure(data=[\n",
    "    go.Bar(name='Countries with Largest Number of Unique Customers', \n",
    "           x=retail_countries_customers_desc['Country'].astype(str), \n",
    "           y=retail_countries_customers_desc['Customer Count'],\n",
    "           marker_opacity=1,\n",
    "           marker={'color': retail_countries_customers_desc['Customer Count'],\n",
    "                   'colorscale': 'Rainbow'})\n",
    "    ])\n",
    "\n",
    "fig.update_traces(texttemplate='%{y:.3s}', textposition='outside')\n",
    "\n",
    "fig.update_layout(title='Countries with Largest Number of Unique Customers',\n",
    "                  title_x=0.45,\n",
    "                  xaxis_title=\"Countries\",\n",
    "                  yaxis_title=\"Number of Unique Customers\",\n",
    "                  plot_bgcolor='white')\n",
    "fig.show(\"svg\")"
   ]
  },
  {
   "cell_type": "code",
   "execution_count": 58,
   "id": "a35cc134",
   "metadata": {
    "papermill": {
     "duration": 0.050407,
     "end_time": "2024-04-11T05:57:22.336197",
     "exception": false,
     "start_time": "2024-04-11T05:57:22.285790",
     "status": "completed"
    },
    "tags": []
   },
   "outputs": [
    {
     "data": {
      "image/svg+xml": [
       "<svg class=\"main-svg\" xmlns=\"http://www.w3.org/2000/svg\" xmlns:xlink=\"http://www.w3.org/1999/xlink\" width=\"700\" height=\"500\" style=\"\" viewBox=\"0 0 700 500\"><rect x=\"0\" y=\"0\" width=\"700\" height=\"500\" style=\"fill: rgb(255, 255, 255); fill-opacity: 1;\"/><defs id=\"defs-58154f\"><g class=\"clips\"><clipPath id=\"clip58154fxyplot\" class=\"plotclip\"><rect width=\"540\" height=\"313\"/></clipPath><clipPath class=\"axesclip\" id=\"clip58154fx\"><rect x=\"80\" y=\"0\" width=\"540\" height=\"500\"/></clipPath><clipPath class=\"axesclip\" id=\"clip58154fy\"><rect x=\"0\" y=\"100\" width=\"700\" height=\"313\"/></clipPath><clipPath class=\"axesclip\" id=\"clip58154fxy\"><rect x=\"80\" y=\"100\" width=\"540\" height=\"313\"/></clipPath></g><g class=\"gradients\"/><g class=\"patterns\"/></defs><g class=\"bglayer\"/><g class=\"layer-below\"><g class=\"imagelayer\"/><g class=\"shapelayer\"/></g><g class=\"cartesianlayer\"><g class=\"subplot xy\"><g class=\"layer-subplot\"><g class=\"shapelayer\"/><g class=\"imagelayer\"/></g><g class=\"minor-gridlayer\"><g class=\"x\"/><g class=\"y\"/></g><g class=\"gridlayer\"><g class=\"x\"/><g class=\"y\"><path class=\"ygrid crisp\" transform=\"translate(0,353.53)\" d=\"M80,0h540\" style=\"stroke: rgb(255, 255, 255); stroke-opacity: 1; stroke-width: 1px;\"/><path class=\"ygrid crisp\" transform=\"translate(0,294.06)\" d=\"M80,0h540\" style=\"stroke: rgb(255, 255, 255); stroke-opacity: 1; stroke-width: 1px;\"/><path class=\"ygrid crisp\" transform=\"translate(0,234.59)\" d=\"M80,0h540\" style=\"stroke: rgb(255, 255, 255); stroke-opacity: 1; stroke-width: 1px;\"/><path class=\"ygrid crisp\" transform=\"translate(0,175.12)\" d=\"M80,0h540\" style=\"stroke: rgb(255, 255, 255); stroke-opacity: 1; stroke-width: 1px;\"/><path class=\"ygrid crisp\" transform=\"translate(0,115.65)\" d=\"M80,0h540\" style=\"stroke: rgb(255, 255, 255); stroke-opacity: 1; stroke-width: 1px;\"/></g></g><g class=\"zerolinelayer\"><path class=\"yzl zl crisp\" transform=\"translate(0,413)\" d=\"M80,0h540\" style=\"stroke: rgb(255, 255, 255); stroke-opacity: 1; stroke-width: 2px;\"/></g><path class=\"xlines-below\"/><path class=\"ylines-below\"/><g class=\"overlines-below\"/><g class=\"xaxislayer-below\"/><g class=\"yaxislayer-below\"/><g class=\"overaxes-below\"/><g class=\"plot\" transform=\"translate(80,100)\" clip-path=\"url(#clip58154fxyplot)\"><g class=\"barlayer mlayer\"><g class=\"trace bars\" style=\"opacity: 1;\"><g class=\"points\"><g class=\"point\"><path d=\"M5.4,313V15.65H48.6V313Z\" style=\"vector-effect: non-scaling-stroke; opacity: 1; stroke-width: 0.5px; fill: rgb(255, 0, 0); fill-opacity: 1; stroke: rgb(229, 236, 246); stroke-opacity: 1;\"/><text class=\"bartext bartext-outside\" text-anchor=\"middle\" data-notex=\"1\" x=\"0\" y=\"0\" style=\"font-family: 'Open Sans', verdana, arial, sans-serif; font-size: 12px; fill: rgb(42, 63, 95); fill-opacity: 1; white-space: pre;\" transform=\"translate(27,10.15)\">1.00</text></g><g class=\"point\"><path d=\"M59.4,313V15.65H102.6V313Z\" style=\"vector-effect: non-scaling-stroke; opacity: 1; stroke-width: 0.5px; fill: rgb(134, 0, 102); fill-opacity: 1; stroke: rgb(229, 236, 246); stroke-opacity: 1;\"/><text class=\"bartext bartext-outside\" text-anchor=\"middle\" data-notex=\"1\" x=\"0\" y=\"0\" style=\"font-family: 'Open Sans', verdana, arial, sans-serif; font-size: 12px; fill: rgb(42, 63, 95); fill-opacity: 1; white-space: pre;\" transform=\"translate(81,10.15)\">1.00</text></g><g class=\"point\"><path d=\"M113.4,313V15.65H156.6V313Z\" style=\"vector-effect: non-scaling-stroke; opacity: 1; stroke-width: 0.5px; fill: rgb(140, 0, 97); fill-opacity: 1; stroke: rgb(229, 236, 246); stroke-opacity: 1;\"/><text class=\"bartext bartext-outside\" text-anchor=\"middle\" data-notex=\"1\" x=\"0\" y=\"0\" style=\"font-family: 'Open Sans', verdana, arial, sans-serif; font-size: 12px; fill: rgb(42, 63, 95); fill-opacity: 1; white-space: pre;\" transform=\"translate(135,10.15)\">1.00</text></g><g class=\"point\"><path d=\"M167.4,313V15.65H210.6V313Z\" style=\"vector-effect: non-scaling-stroke; opacity: 1; stroke-width: 0.5px; fill: rgb(147, 0, 92); fill-opacity: 1; stroke: rgb(229, 236, 246); stroke-opacity: 1;\"/><text class=\"bartext bartext-outside\" text-anchor=\"middle\" data-notex=\"1\" x=\"0\" y=\"0\" style=\"font-family: 'Open Sans', verdana, arial, sans-serif; font-size: 12px; fill: rgb(42, 63, 95); fill-opacity: 1; white-space: pre;\" transform=\"translate(189,10.15)\">1.00</text></g><g class=\"point\"><path d=\"M221.4,313V15.65H264.6V313Z\" style=\"vector-effect: non-scaling-stroke; opacity: 1; stroke-width: 0.5px; fill: rgb(147, 0, 92); fill-opacity: 1; stroke: rgb(229, 236, 246); stroke-opacity: 1;\"/><text class=\"bartext bartext-outside\" text-anchor=\"middle\" data-notex=\"1\" x=\"0\" y=\"0\" style=\"font-family: 'Open Sans', verdana, arial, sans-serif; font-size: 12px; fill: rgb(42, 63, 95); fill-opacity: 1; white-space: pre;\" transform=\"translate(243,10.15)\">1.00</text></g><g class=\"point\"><path d=\"M275.4,313V15.65H318.6V313Z\" style=\"vector-effect: non-scaling-stroke; opacity: 1; stroke-width: 0.5px; fill: rgb(149, 0, 91); fill-opacity: 1; stroke: rgb(229, 236, 246); stroke-opacity: 1;\"/><text class=\"bartext bartext-outside\" text-anchor=\"middle\" data-notex=\"1\" x=\"0\" y=\"0\" style=\"font-family: 'Open Sans', verdana, arial, sans-serif; font-size: 12px; fill: rgb(42, 63, 95); fill-opacity: 1; white-space: pre;\" transform=\"translate(297,10.15)\">1.00</text></g><g class=\"point\"><path d=\"M329.4,313V15.65H372.6V313Z\" style=\"vector-effect: non-scaling-stroke; opacity: 1; stroke-width: 0.5px; fill: rgb(149, 0, 91); fill-opacity: 1; stroke: rgb(229, 236, 246); stroke-opacity: 1;\"/><text class=\"bartext bartext-outside\" text-anchor=\"middle\" data-notex=\"1\" x=\"0\" y=\"0\" style=\"font-family: 'Open Sans', verdana, arial, sans-serif; font-size: 12px; fill: rgb(42, 63, 95); fill-opacity: 1; white-space: pre;\" transform=\"translate(351,10.15)\">1.00</text></g><g class=\"point\"><path d=\"M383.4,313V15.65H426.6V313Z\" style=\"vector-effect: non-scaling-stroke; opacity: 1; stroke-width: 0.5px; fill: rgb(149, 0, 90); fill-opacity: 1; stroke: rgb(229, 236, 246); stroke-opacity: 1;\"/><text class=\"bartext bartext-outside\" text-anchor=\"middle\" data-notex=\"1\" x=\"0\" y=\"0\" style=\"font-family: 'Open Sans', verdana, arial, sans-serif; font-size: 12px; fill: rgb(42, 63, 95); fill-opacity: 1; white-space: pre;\" transform=\"translate(405,10.15)\">1.00</text></g><g class=\"point\"><path d=\"M437.4,313V15.65H480.6V313Z\" style=\"vector-effect: non-scaling-stroke; opacity: 1; stroke-width: 0.5px; fill: rgb(150, 0, 90); fill-opacity: 1; stroke: rgb(229, 236, 246); stroke-opacity: 1;\"/><text class=\"bartext bartext-outside\" text-anchor=\"middle\" data-notex=\"1\" x=\"0\" y=\"0\" style=\"font-family: 'Open Sans', verdana, arial, sans-serif; font-size: 12px; fill: rgb(42, 63, 95); fill-opacity: 1; white-space: pre;\" transform=\"translate(459,10.15)\">1.00</text></g><g class=\"point\"><path d=\"M491.4,313V15.65H534.6V313Z\" style=\"vector-effect: non-scaling-stroke; opacity: 1; stroke-width: 0.5px; fill: rgb(150, 0, 90); fill-opacity: 1; stroke: rgb(229, 236, 246); stroke-opacity: 1;\"/><text class=\"bartext bartext-outside\" text-anchor=\"middle\" data-notex=\"1\" x=\"0\" y=\"0\" style=\"font-family: 'Open Sans', verdana, arial, sans-serif; font-size: 12px; fill: rgb(42, 63, 95); fill-opacity: 1; white-space: pre;\" transform=\"translate(513,10.15)\">1.00</text></g></g></g></g></g><g class=\"overplot\"/><path class=\"xlines-above crisp\" d=\"M0,0\" style=\"fill: none;\"/><path class=\"ylines-above crisp\" d=\"M0,0\" style=\"fill: none;\"/><g class=\"overlines-above\"/><g class=\"xaxislayer-above\"><g class=\"xtick\"><text text-anchor=\"start\" x=\"0\" y=\"426\" transform=\"translate(107,0) rotate(30,0,420)\" style=\"font-family: 'Open Sans', verdana, arial, sans-serif; font-size: 12px; fill: rgb(42, 63, 95); fill-opacity: 1; white-space: pre; opacity: 1;\">West Indies</text></g><g class=\"xtick\"><text text-anchor=\"start\" x=\"0\" y=\"426\" transform=\"translate(161,0) rotate(30,0,420)\" style=\"font-family: 'Open Sans', verdana, arial, sans-serif; font-size: 12px; fill: rgb(42, 63, 95); fill-opacity: 1; white-space: pre; opacity: 1;\">Thailand</text></g><g class=\"xtick\"><text text-anchor=\"start\" x=\"0\" y=\"426\" transform=\"translate(215,0) rotate(30,0,420)\" style=\"font-family: 'Open Sans', verdana, arial, sans-serif; font-size: 12px; fill: rgb(42, 63, 95); fill-opacity: 1; white-space: pre; opacity: 1;\">Singapore</text></g><g class=\"xtick\"><text text-anchor=\"start\" x=\"0\" y=\"426\" transform=\"translate(269,0) rotate(30,0,420)\" style=\"font-family: 'Open Sans', verdana, arial, sans-serif; font-size: 12px; fill: rgb(42, 63, 95); fill-opacity: 1; white-space: pre; opacity: 1;\">RSA</text></g><g class=\"xtick\"><text text-anchor=\"start\" x=\"0\" y=\"426\" transform=\"translate(323,0) rotate(30,0,420)\" style=\"font-family: 'Open Sans', verdana, arial, sans-serif; font-size: 12px; fill: rgb(42, 63, 95); fill-opacity: 1; white-space: pre; opacity: 1;\">Brazil</text></g><g class=\"xtick\"><text text-anchor=\"start\" x=\"0\" y=\"426\" transform=\"translate(377,0) rotate(30,0,420)\" style=\"font-family: 'Open Sans', verdana, arial, sans-serif; font-size: 12px; fill: rgb(42, 63, 95); fill-opacity: 1; white-space: pre; opacity: 1;\">Canada</text></g><g class=\"xtick\"><text text-anchor=\"start\" x=\"0\" y=\"426\" transform=\"translate(431,0) rotate(30,0,420)\" style=\"font-family: 'Open Sans', verdana, arial, sans-serif; font-size: 12px; fill: rgb(42, 63, 95); fill-opacity: 1; white-space: pre; opacity: 1;\">Nigeria</text></g><g class=\"xtick\"><text text-anchor=\"start\" x=\"0\" y=\"426\" transform=\"translate(485,0) rotate(30,0,420)\" style=\"font-family: 'Open Sans', verdana, arial, sans-serif; font-size: 12px; fill: rgb(42, 63, 95); fill-opacity: 1; white-space: pre; opacity: 1;\">Malta</text></g><g class=\"xtick\"><text text-anchor=\"start\" x=\"0\" y=\"426\" transform=\"translate(539,0) rotate(30,0,420)\" style=\"font-family: 'Open Sans', verdana, arial, sans-serif; font-size: 12px; fill: rgb(42, 63, 95); fill-opacity: 1; white-space: pre; opacity: 1;\">Lithuania</text></g><g class=\"xtick\"><text text-anchor=\"start\" x=\"0\" y=\"426\" transform=\"translate(593,0) rotate(30,0,420)\" style=\"font-family: 'Open Sans', verdana, arial, sans-serif; font-size: 12px; fill: rgb(42, 63, 95); fill-opacity: 1; white-space: pre; opacity: 1;\">Iceland</text></g></g><g class=\"yaxislayer-above\"><g class=\"ytick\"><text text-anchor=\"end\" x=\"79\" y=\"4.199999999999999\" transform=\"translate(0,413)\" style=\"font-family: 'Open Sans', verdana, arial, sans-serif; font-size: 12px; fill: rgb(42, 63, 95); fill-opacity: 1; white-space: pre; opacity: 1;\">0</text></g><g class=\"ytick\"><text text-anchor=\"end\" x=\"79\" y=\"4.199999999999999\" style=\"font-family: 'Open Sans', verdana, arial, sans-serif; font-size: 12px; fill: rgb(42, 63, 95); fill-opacity: 1; white-space: pre; opacity: 1;\" transform=\"translate(0,353.53)\">0.2</text></g><g class=\"ytick\"><text text-anchor=\"end\" x=\"79\" y=\"4.199999999999999\" style=\"font-family: 'Open Sans', verdana, arial, sans-serif; font-size: 12px; fill: rgb(42, 63, 95); fill-opacity: 1; white-space: pre; opacity: 1;\" transform=\"translate(0,294.06)\">0.4</text></g><g class=\"ytick\"><text text-anchor=\"end\" x=\"79\" y=\"4.199999999999999\" style=\"font-family: 'Open Sans', verdana, arial, sans-serif; font-size: 12px; fill: rgb(42, 63, 95); fill-opacity: 1; white-space: pre; opacity: 1;\" transform=\"translate(0,234.59)\">0.6</text></g><g class=\"ytick\"><text text-anchor=\"end\" x=\"79\" y=\"4.199999999999999\" style=\"font-family: 'Open Sans', verdana, arial, sans-serif; font-size: 12px; fill: rgb(42, 63, 95); fill-opacity: 1; white-space: pre; opacity: 1;\" transform=\"translate(0,175.12)\">0.8</text></g><g class=\"ytick\"><text text-anchor=\"end\" x=\"79\" y=\"4.199999999999999\" style=\"font-family: 'Open Sans', verdana, arial, sans-serif; font-size: 12px; fill: rgb(42, 63, 95); fill-opacity: 1; white-space: pre; opacity: 1;\" transform=\"translate(0,115.65)\">1</text></g></g><g class=\"overaxes-above\"/></g></g><g class=\"polarlayer\"/><g class=\"smithlayer\"/><g class=\"ternarylayer\"/><g class=\"geolayer\"/><g class=\"funnelarealayer\"/><g class=\"pielayer\"/><g class=\"iciclelayer\"/><g class=\"treemaplayer\"/><g class=\"sunburstlayer\"/><g class=\"glimages\"/><defs id=\"topdefs-58154f\"><g class=\"clips\"/></defs><g class=\"layer-above\"><g class=\"imagelayer\"/><g class=\"shapelayer\"/></g><g class=\"infolayer\"><g class=\"g-gtitle\"><text class=\"gtitle\" x=\"315\" y=\"15\" text-anchor=\"middle\" dy=\"0.7em\" style=\"font-family: 'Open Sans', verdana, arial, sans-serif; font-size: 17px; fill: rgb(42, 63, 95); opacity: 1; font-weight: normal; white-space: pre;\">Countries with Smallest Number of Unique Customers</text></g><g class=\"g-xtitle\"><text class=\"xtitle\" x=\"350\" y=\"487.676953125\" text-anchor=\"middle\" style=\"font-family: 'Open Sans', verdana, arial, sans-serif; font-size: 14px; fill: rgb(42, 63, 95); opacity: 1; font-weight: normal; white-space: pre;\">Countries</text></g><g class=\"g-ytitle\"><text class=\"ytitle\" transform=\"rotate(-90,34.575,256.5)\" x=\"34.575\" y=\"256.5\" text-anchor=\"middle\" style=\"font-family: 'Open Sans', verdana, arial, sans-serif; font-size: 14px; fill: rgb(42, 63, 95); opacity: 1; font-weight: normal; white-space: pre;\">Number of Unique Customers</text></g></g></svg>"
      ]
     },
     "metadata": {},
     "output_type": "display_data"
    }
   ],
   "source": [
    "fig = go.Figure(data=[\n",
    "    go.Bar(name='Countries with Smallest Number of Unique Customers', \n",
    "           x=retail_countries_customers_asc['Country'].astype(str), \n",
    "           y=retail_countries_customers_asc['Customer Count'],\n",
    "           marker_opacity=1,\n",
    "           marker={'color': retail_countries_customers_desc['Customer Count'],\n",
    "                   'colorscale': 'Rainbow'}\n",
    "          )\n",
    "    ])\n",
    "\n",
    "fig.update_traces(texttemplate='%{y:.3s}', textposition='outside')\n",
    "\n",
    "fig.update_layout(title='Countries with Smallest Number of Unique Customers',\n",
    "                  title_x=0.45,\n",
    "                  title_y=0.97,\n",
    "                  xaxis_title=\"Countries\",\n",
    "                  yaxis_title=\"Number of Unique Customers\",\n",
    "                  plot_bgcolor='white')\n",
    "fig.show(\"svg\")"
   ]
  },
  {
   "cell_type": "markdown",
   "id": "c1016530",
   "metadata": {
    "papermill": {
     "duration": 0.022359,
     "end_time": "2024-04-11T05:57:22.380487",
     "exception": false,
     "start_time": "2024-04-11T05:57:22.358128",
     "status": "completed"
    },
    "tags": []
   },
   "source": [
    "In UK, 5.41k of unique customers have made purchases in two years, while Germany and France follow up with only  107 customers and 95 customers correspondingly. The difference between top position and the followers is indeed huge. Note that we have spotted the same while analysing purchases for each country.  \n",
    "Also there are many countries with a single unique customer, such as Thailand, Nigeria, Iceland, Saudi Arabia etc. Here, Czech Republic is again an outlier in the list of Asian, South American and African countries, but now we see that also Lithuania and Iceland have only one customer. While Iceland has a relatively small population, it would be interesting to investigate and compare the reasons for Czech Republic and Lithuania. "
   ]
  },
  {
   "cell_type": "markdown",
   "id": "1bed3d90",
   "metadata": {
    "papermill": {
     "duration": 0.023261,
     "end_time": "2024-04-11T05:57:22.425973",
     "exception": false,
     "start_time": "2024-04-11T05:57:22.402712",
     "status": "completed"
    },
    "tags": []
   },
   "source": [
    "## Products Analysis: Quantity \n",
    "\n",
    "Next, I will find 10 bestselling products and 10 products which have top number of returns.\n",
    "\n",
    "I will remove products with description 'Discount' and 'CRUK Commission' to concentrate on the representative data."
   ]
  },
  {
   "cell_type": "code",
   "execution_count": 59,
   "id": "0a59648f",
   "metadata": {
    "papermill": {
     "duration": 0.193745,
     "end_time": "2024-04-11T05:57:22.642148",
     "exception": false,
     "start_time": "2024-04-11T05:57:22.448403",
     "status": "completed"
    },
    "tags": []
   },
   "outputs": [],
   "source": [
    "retail_products = retail.groupby(['Description'], as_index=False)['Quantity'].agg('sum')\n",
    "retail_products = retail_products.loc[~retail_products['Description'].isin(['CRUK Commission', 'Discount'])]\n",
    "retail_products_asc = retail_products.sort_values('Quantity').head(10)\n",
    "retail_products_asc['Quantity'] = retail_products_asc['Quantity'] * (-1)\n",
    "retail_products_desc = retail_products.sort_values('Quantity', ascending=False).head(10)"
   ]
  },
  {
   "cell_type": "code",
   "execution_count": 60,
   "id": "04d8207e",
   "metadata": {
    "papermill": {
     "duration": 0.056775,
     "end_time": "2024-04-11T05:57:22.721015",
     "exception": false,
     "start_time": "2024-04-11T05:57:22.664240",
     "status": "completed"
    },
    "tags": []
   },
   "outputs": [
    {
     "data": {
      "image/svg+xml": [
       "<svg class=\"main-svg\" xmlns=\"http://www.w3.org/2000/svg\" xmlns:xlink=\"http://www.w3.org/1999/xlink\" width=\"700\" height=\"500\" style=\"\" viewBox=\"0 0 700 500\"><rect x=\"0\" y=\"0\" width=\"700\" height=\"500\" style=\"fill: rgb(255, 255, 255); fill-opacity: 1;\"/><defs id=\"defs-b41cf8\"><g class=\"clips\"><clipPath id=\"clipb41cf8xyplot\" class=\"plotclip\"><rect width=\"451\" height=\"220\"/></clipPath><clipPath class=\"axesclip\" id=\"clipb41cf8x\"><rect x=\"80\" y=\"0\" width=\"451\" height=\"500\"/></clipPath><clipPath class=\"axesclip\" id=\"clipb41cf8y\"><rect x=\"0\" y=\"100\" width=\"700\" height=\"220\"/></clipPath><clipPath class=\"axesclip\" id=\"clipb41cf8xy\"><rect x=\"80\" y=\"100\" width=\"451\" height=\"220\"/></clipPath></g><g class=\"gradients\"/><g class=\"patterns\"/></defs><g class=\"bglayer\"/><g class=\"layer-below\"><g class=\"imagelayer\"/><g class=\"shapelayer\"/></g><g class=\"cartesianlayer\"><g class=\"subplot xy\"><g class=\"layer-subplot\"><g class=\"shapelayer\"/><g class=\"imagelayer\"/></g><g class=\"minor-gridlayer\"><g class=\"x\"/><g class=\"y\"/></g><g class=\"gridlayer\"><g class=\"x\"/><g class=\"y\"><path class=\"ygrid crisp\" transform=\"translate(0,282.59000000000003)\" d=\"M80,0h451\" style=\"stroke: rgb(255, 255, 255); stroke-opacity: 1; stroke-width: 1px;\"/><path class=\"ygrid crisp\" transform=\"translate(0,245.17)\" d=\"M80,0h451\" style=\"stroke: rgb(255, 255, 255); stroke-opacity: 1; stroke-width: 1px;\"/><path class=\"ygrid crisp\" transform=\"translate(0,207.76)\" d=\"M80,0h451\" style=\"stroke: rgb(255, 255, 255); stroke-opacity: 1; stroke-width: 1px;\"/><path class=\"ygrid crisp\" transform=\"translate(0,170.34)\" d=\"M80,0h451\" style=\"stroke: rgb(255, 255, 255); stroke-opacity: 1; stroke-width: 1px;\"/><path class=\"ygrid crisp\" transform=\"translate(0,132.93)\" d=\"M80,0h451\" style=\"stroke: rgb(255, 255, 255); stroke-opacity: 1; stroke-width: 1px;\"/></g></g><g class=\"zerolinelayer\"><path class=\"yzl zl crisp\" transform=\"translate(0,320)\" d=\"M80,0h451\" style=\"stroke: rgb(255, 255, 255); stroke-opacity: 1; stroke-width: 2px;\"/></g><path class=\"xlines-below\"/><path class=\"ylines-below\"/><g class=\"overlines-below\"/><g class=\"xaxislayer-below\"/><g class=\"yaxislayer-below\"/><g class=\"overaxes-below\"/><g class=\"plot\" transform=\"translate(80,100)\" clip-path=\"url(#clipb41cf8xyplot)\"><g class=\"barlayer mlayer\"><g class=\"trace bars\" style=\"opacity: 1;\"><g class=\"points\"><g class=\"point\"><path d=\"M4.51,220V11H40.59V220Z\" style=\"vector-effect: non-scaling-stroke; opacity: 1; stroke-width: 0.5px; fill: rgb(255, 0, 0); fill-opacity: 1; stroke: rgb(229, 236, 246); stroke-opacity: 1;\"/><text class=\"bartext bartext-outside\" text-anchor=\"middle\" data-notex=\"1\" x=\"0\" y=\"0\" style=\"font-family: 'Open Sans', verdana, arial, sans-serif; font-size: 12px; fill: rgb(42, 63, 95); fill-opacity: 1; white-space: pre;\" transform=\"translate(22.55,5.5)\">55.9k</text></g><g class=\"point\"><path d=\"M49.61,220V16.94H85.69V220Z\" style=\"vector-effect: non-scaling-stroke; opacity: 1; stroke-width: 0.5px; fill: rgb(255, 46, 0); fill-opacity: 1; stroke: rgb(229, 236, 246); stroke-opacity: 1;\"/><text class=\"bartext bartext-outside\" text-anchor=\"middle\" data-notex=\"1\" x=\"0\" y=\"0\" style=\"font-family: 'Open Sans', verdana, arial, sans-serif; font-size: 12px; fill: rgb(42, 63, 95); fill-opacity: 1; white-space: pre;\" transform=\"translate(67.65,11.440000000000001)\">54.3k</text></g><g class=\"point\"><path d=\"M94.71,220V42.54H130.79V220Z\" style=\"vector-effect: non-scaling-stroke; opacity: 1; stroke-width: 0.5px; fill: rgb(233, 238, 0); fill-opacity: 1; stroke: rgb(229, 236, 246); stroke-opacity: 1;\"/><text class=\"bartext bartext-outside\" text-anchor=\"middle\" data-notex=\"1\" x=\"0\" y=\"0\" style=\"font-family: 'Open Sans', verdana, arial, sans-serif; font-size: 12px; fill: rgb(42, 63, 95); fill-opacity: 1; white-space: pre;\" transform=\"translate(112.75,37.04)\">47.4k</text></g><g class=\"point\"><path d=\"M139.81,220V53.48H175.89V220Z\" style=\"vector-effect: non-scaling-stroke; opacity: 1; stroke-width: 0.5px; fill: rgb(153, 255, 0); fill-opacity: 1; stroke: rgb(229, 236, 246); stroke-opacity: 1;\"/><text class=\"bartext bartext-outside\" text-anchor=\"middle\" data-notex=\"1\" x=\"0\" y=\"0\" style=\"font-family: 'Open Sans', verdana, arial, sans-serif; font-size: 12px; fill: rgb(42, 63, 95); fill-opacity: 1; white-space: pre;\" transform=\"translate(157.85,47.98)\">44.5k</text></g><g class=\"point\"><path d=\"M184.91,220V54.93H220.99V220Z\" style=\"vector-effect: non-scaling-stroke; opacity: 1; stroke-width: 0.5px; fill: rgb(142, 255, 12); fill-opacity: 1; stroke: rgb(229, 236, 246); stroke-opacity: 1;\"/><text class=\"bartext bartext-outside\" text-anchor=\"middle\" data-notex=\"1\" x=\"0\" y=\"0\" style=\"font-family: 'Open Sans', verdana, arial, sans-serif; font-size: 12px; fill: rgb(42, 63, 95); fill-opacity: 1; white-space: pre;\" transform=\"translate(202.95,49.43)\">44.1k</text></g><g class=\"point\"><path d=\"M230.01,220V86.69H266.09V220Z\" style=\"vector-effect: non-scaling-stroke; opacity: 1; stroke-width: 0.5px; fill: rgb(0, 112, 255); fill-opacity: 1; stroke: rgb(229, 236, 246); stroke-opacity: 1;\"/><text class=\"bartext bartext-outside\" text-anchor=\"middle\" data-notex=\"1\" x=\"0\" y=\"0\" style=\"font-family: 'Open Sans', verdana, arial, sans-serif; font-size: 12px; fill: rgb(42, 63, 95); fill-opacity: 1; white-space: pre;\" transform=\"translate(248.04999999999998,81.19)\">35.6k</text></g><g class=\"point\"><path d=\"M275.11,220V104.43H311.19V220Z\" style=\"vector-effect: non-scaling-stroke; opacity: 1; stroke-width: 0.5px; fill: rgb(0, 11, 224); fill-opacity: 1; stroke: rgb(229, 236, 246); stroke-opacity: 1;\"/><text class=\"bartext bartext-outside\" text-anchor=\"middle\" data-notex=\"1\" x=\"0\" y=\"0\" style=\"font-family: 'Open Sans', verdana, arial, sans-serif; font-size: 12px; fill: rgb(42, 63, 95); fill-opacity: 1; white-space: pre;\" transform=\"translate(293.15,98.93)\">30.9k</text></g><g class=\"point\"><path d=\"M320.21,220V109.64H356.29V220Z\" style=\"vector-effect: non-scaling-stroke; opacity: 1; stroke-width: 0.5px; fill: rgb(0, 2, 204); fill-opacity: 1; stroke: rgb(229, 236, 246); stroke-opacity: 1;\"/><text class=\"bartext bartext-outside\" text-anchor=\"middle\" data-notex=\"1\" x=\"0\" y=\"0\" style=\"font-family: 'Open Sans', verdana, arial, sans-serif; font-size: 12px; fill: rgb(42, 63, 95); fill-opacity: 1; white-space: pre;\" transform=\"translate(338.25,104.14)\">29.5k</text></g><g class=\"point\"><path d=\"M365.31,220V123.92H401.39V220Z\" style=\"vector-effect: non-scaling-stroke; opacity: 1; stroke-width: 0.5px; fill: rgb(139, 0, 98); fill-opacity: 1; stroke: rgb(229, 236, 246); stroke-opacity: 1;\"/><text class=\"bartext bartext-outside\" text-anchor=\"middle\" data-notex=\"1\" x=\"0\" y=\"0\" style=\"font-family: 'Open Sans', verdana, arial, sans-serif; font-size: 12px; fill: rgb(42, 63, 95); fill-opacity: 1; white-space: pre;\" transform=\"translate(383.35,118.42)\">25.7k</text></g><g class=\"point\"><path d=\"M410.41,220V124.99H446.49V220Z\" style=\"vector-effect: non-scaling-stroke; opacity: 1; stroke-width: 0.5px; fill: rgb(150, 0, 90); fill-opacity: 1; stroke: rgb(229, 236, 246); stroke-opacity: 1;\"/><text class=\"bartext bartext-outside\" text-anchor=\"middle\" data-notex=\"1\" x=\"0\" y=\"0\" style=\"font-family: 'Open Sans', verdana, arial, sans-serif; font-size: 12px; fill: rgb(42, 63, 95); fill-opacity: 1; white-space: pre;\" transform=\"translate(428.45000000000005,119.49)\">25.4k</text></g></g></g></g></g><g class=\"overplot\"/><path class=\"xlines-above crisp\" d=\"M0,0\" style=\"fill: none;\"/><path class=\"ylines-above crisp\" d=\"M0,0\" style=\"fill: none;\"/><g class=\"overlines-above\"/><g class=\"xaxislayer-above\"><g class=\"xtick\"><text text-anchor=\"start\" x=\"0\" y=\"333\" transform=\"translate(102.55,0) rotate(30,0,327)\" style=\"font-family: 'Open Sans', verdana, arial, sans-serif; font-size: 12px; fill: rgb(42, 63, 95); fill-opacity: 1; white-space: pre; opacity: 1;\">WHITE HANGING HEART T-LIGHT HOLDER</text></g><g class=\"xtick\"><text text-anchor=\"start\" x=\"0\" y=\"333\" transform=\"translate(147.65,0) rotate(30,0,327)\" style=\"font-family: 'Open Sans', verdana, arial, sans-serif; font-size: 12px; fill: rgb(42, 63, 95); fill-opacity: 1; white-space: pre; opacity: 1;\">WORLD WAR 2 GLIDERS ASSTD DESIGNS</text></g><g class=\"xtick\"><text text-anchor=\"start\" x=\"0\" y=\"333\" transform=\"translate(192.75,0) rotate(30,0,327)\" style=\"font-family: 'Open Sans', verdana, arial, sans-serif; font-size: 12px; fill: rgb(42, 63, 95); fill-opacity: 1; white-space: pre; opacity: 1;\">BROCADE RING PURSE </text></g><g class=\"xtick\"><text text-anchor=\"start\" x=\"0\" y=\"333\" transform=\"translate(237.85,0) rotate(30,0,327)\" style=\"font-family: 'Open Sans', verdana, arial, sans-serif; font-size: 12px; fill: rgb(42, 63, 95); fill-opacity: 1; white-space: pre; opacity: 1;\">PACK OF 72 RETRO SPOT CAKE CASES</text></g><g class=\"xtick\"><text text-anchor=\"start\" x=\"0\" y=\"333\" transform=\"translate(282.95,0) rotate(30,0,327)\" style=\"font-family: 'Open Sans', verdana, arial, sans-serif; font-size: 12px; fill: rgb(42, 63, 95); fill-opacity: 1; white-space: pre; opacity: 1;\">ASSORTED COLOUR BIRD ORNAMENT</text></g><g class=\"xtick\"><text text-anchor=\"start\" x=\"0\" y=\"333\" transform=\"translate(328.05,0) rotate(30,0,327)\" style=\"font-family: 'Open Sans', verdana, arial, sans-serif; font-size: 12px; fill: rgb(42, 63, 95); fill-opacity: 1; white-space: pre; opacity: 1;\">60 TEATIME FAIRY CAKE CASES</text></g><g class=\"xtick\"><text text-anchor=\"start\" x=\"0\" y=\"333\" transform=\"translate(373.15,0) rotate(30,0,327)\" style=\"font-family: 'Open Sans', verdana, arial, sans-serif; font-size: 12px; fill: rgb(42, 63, 95); fill-opacity: 1; white-space: pre; opacity: 1;\">PACK OF 60 PINK PAISLEY CAKE CASES</text></g><g class=\"xtick\"><text text-anchor=\"start\" x=\"0\" y=\"333\" transform=\"translate(418.25,0) rotate(30,0,327)\" style=\"font-family: 'Open Sans', verdana, arial, sans-serif; font-size: 12px; fill: rgb(42, 63, 95); fill-opacity: 1; white-space: pre; opacity: 1;\">JUMBO BAG RED RETROSPOT</text></g><g class=\"xtick\"><text text-anchor=\"start\" x=\"0\" y=\"333\" transform=\"translate(463.35,0) rotate(30,0,327)\" style=\"font-family: 'Open Sans', verdana, arial, sans-serif; font-size: 12px; fill: rgb(42, 63, 95); fill-opacity: 1; white-space: pre; opacity: 1;\">BLACK AND WHITE PAISLEY FLOWER MUG</text></g><g class=\"xtick\"><text text-anchor=\"start\" x=\"0\" y=\"333\" transform=\"translate(508.45,0) rotate(30,0,327)\" style=\"font-family: 'Open Sans', verdana, arial, sans-serif; font-size: 12px; fill: rgb(42, 63, 95); fill-opacity: 1; white-space: pre; opacity: 1;\">SMALL POPCORN HOLDER</text></g></g><g class=\"yaxislayer-above\"><g class=\"ytick\"><text text-anchor=\"end\" x=\"79\" y=\"4.199999999999999\" transform=\"translate(0,320)\" style=\"font-family: 'Open Sans', verdana, arial, sans-serif; font-size: 12px; fill: rgb(42, 63, 95); fill-opacity: 1; white-space: pre; opacity: 1;\">0</text></g><g class=\"ytick\"><text text-anchor=\"end\" x=\"79\" y=\"4.199999999999999\" style=\"font-family: 'Open Sans', verdana, arial, sans-serif; font-size: 12px; fill: rgb(42, 63, 95); fill-opacity: 1; white-space: pre; opacity: 1;\" transform=\"translate(0,282.59000000000003)\">10k</text></g><g class=\"ytick\"><text text-anchor=\"end\" x=\"79\" y=\"4.199999999999999\" style=\"font-family: 'Open Sans', verdana, arial, sans-serif; font-size: 12px; fill: rgb(42, 63, 95); fill-opacity: 1; white-space: pre; opacity: 1;\" transform=\"translate(0,245.17)\">20k</text></g><g class=\"ytick\"><text text-anchor=\"end\" x=\"79\" y=\"4.199999999999999\" style=\"font-family: 'Open Sans', verdana, arial, sans-serif; font-size: 12px; fill: rgb(42, 63, 95); fill-opacity: 1; white-space: pre; opacity: 1;\" transform=\"translate(0,207.76)\">30k</text></g><g class=\"ytick\"><text text-anchor=\"end\" x=\"79\" y=\"4.199999999999999\" style=\"font-family: 'Open Sans', verdana, arial, sans-serif; font-size: 12px; fill: rgb(42, 63, 95); fill-opacity: 1; white-space: pre; opacity: 1;\" transform=\"translate(0,170.34)\">40k</text></g><g class=\"ytick\"><text text-anchor=\"end\" x=\"79\" y=\"4.199999999999999\" style=\"font-family: 'Open Sans', verdana, arial, sans-serif; font-size: 12px; fill: rgb(42, 63, 95); fill-opacity: 1; white-space: pre; opacity: 1;\" transform=\"translate(0,132.93)\">50k</text></g></g><g class=\"overaxes-above\"/></g></g><g class=\"polarlayer\"/><g class=\"smithlayer\"/><g class=\"ternarylayer\"/><g class=\"geolayer\"/><g class=\"funnelarealayer\"/><g class=\"pielayer\"/><g class=\"iciclelayer\"/><g class=\"treemaplayer\"/><g class=\"sunburstlayer\"/><g class=\"glimages\"/><defs id=\"topdefs-b41cf8\"><g class=\"clips\"/></defs><g class=\"layer-above\"><g class=\"imagelayer\"/><g class=\"shapelayer\"/></g><g class=\"infolayer\"><g class=\"g-gtitle\"><text class=\"gtitle\" x=\"315\" y=\"50\" text-anchor=\"middle\" dy=\"0em\" style=\"font-family: 'Open Sans', verdana, arial, sans-serif; font-size: 17px; fill: rgb(42, 63, 95); opacity: 1; font-weight: normal; white-space: pre;\">10 Bestselling Products</text></g><g class=\"g-xtitle\"><text class=\"xtitle\" x=\"305.5\" y=\"488.083203125\" text-anchor=\"middle\" style=\"font-family: 'Open Sans', verdana, arial, sans-serif; font-size: 14px; fill: rgb(42, 63, 95); opacity: 1; font-weight: normal; white-space: pre;\">Products</text></g><g class=\"g-ytitle\"><text class=\"ytitle\" transform=\"rotate(-90,31.840625000000003,210)\" x=\"31.840625000000003\" y=\"210\" text-anchor=\"middle\" style=\"font-family: 'Open Sans', verdana, arial, sans-serif; font-size: 14px; fill: rgb(42, 63, 95); opacity: 1; font-weight: normal; white-space: pre;\">Total Quantity Sold</text></g></g></svg>"
      ]
     },
     "metadata": {},
     "output_type": "display_data"
    }
   ],
   "source": [
    "fig = go.Figure(data=[\n",
    "    go.Bar(name='10 Bestselling Products', \n",
    "           x=retail_products_desc['Description'].astype(str), \n",
    "           y=retail_products_desc['Quantity'],\n",
    "           marker_opacity=1,\n",
    "           marker={'color': retail_products_desc['Quantity'],\n",
    "                   'colorscale': 'Rainbow'})\n",
    "    ])\n",
    "\n",
    "fig.update_traces(texttemplate='%{y:.3s}', textposition='outside')\n",
    "fig.update_layout(barmode='group', showlegend=False)\n",
    "\n",
    "fig.update_layout(title='10 Bestselling Products',\n",
    "                  title_x=0.45,\n",
    "                  xaxis_title=\"Products\",\n",
    "                  yaxis_title=\"Total Quantity Sold\",\n",
    "                  plot_bgcolor='white')\n",
    "fig.show(\"svg\")"
   ]
  },
  {
   "cell_type": "code",
   "execution_count": 61,
   "id": "768f2800",
   "metadata": {
    "papermill": {
     "duration": 0.051953,
     "end_time": "2024-04-11T05:57:22.795494",
     "exception": false,
     "start_time": "2024-04-11T05:57:22.743541",
     "status": "completed"
    },
    "tags": []
   },
   "outputs": [
    {
     "data": {
      "image/svg+xml": [
       "<svg class=\"main-svg\" xmlns=\"http://www.w3.org/2000/svg\" xmlns:xlink=\"http://www.w3.org/1999/xlink\" width=\"700\" height=\"500\" style=\"\" viewBox=\"0 0 700 500\"><rect x=\"0\" y=\"0\" width=\"700\" height=\"500\" style=\"fill: rgb(255, 255, 255); fill-opacity: 1;\"/><defs id=\"defs-f0851b\"><g class=\"clips\"><clipPath id=\"clipf0851bxyplot\" class=\"plotclip\"><rect width=\"455\" height=\"217\"/></clipPath><clipPath class=\"axesclip\" id=\"clipf0851bx\"><rect x=\"80\" y=\"0\" width=\"455\" height=\"500\"/></clipPath><clipPath class=\"axesclip\" id=\"clipf0851by\"><rect x=\"0\" y=\"100\" width=\"700\" height=\"217\"/></clipPath><clipPath class=\"axesclip\" id=\"clipf0851bxy\"><rect x=\"80\" y=\"100\" width=\"455\" height=\"217\"/></clipPath></g><g class=\"gradients\"/><g class=\"patterns\"/></defs><g class=\"bglayer\"/><g class=\"layer-below\"><g class=\"imagelayer\"/><g class=\"shapelayer\"/></g><g class=\"cartesianlayer\"><g class=\"subplot xy\"><g class=\"layer-subplot\"><g class=\"shapelayer\"/><g class=\"imagelayer\"/></g><g class=\"minor-gridlayer\"><g class=\"x\"/><g class=\"y\"/></g><g class=\"gridlayer\"><g class=\"x\"/><g class=\"y\"><path class=\"ygrid crisp\" transform=\"translate(0,274.49)\" d=\"M80,0h455\" style=\"stroke: rgb(255, 255, 255); stroke-opacity: 1; stroke-width: 1px;\"/><path class=\"ygrid crisp\" transform=\"translate(0,231.99)\" d=\"M80,0h455\" style=\"stroke: rgb(255, 255, 255); stroke-opacity: 1; stroke-width: 1px;\"/><path class=\"ygrid crisp\" transform=\"translate(0,189.48000000000002)\" d=\"M80,0h455\" style=\"stroke: rgb(255, 255, 255); stroke-opacity: 1; stroke-width: 1px;\"/><path class=\"ygrid crisp\" transform=\"translate(0,146.98)\" d=\"M80,0h455\" style=\"stroke: rgb(255, 255, 255); stroke-opacity: 1; stroke-width: 1px;\"/><path class=\"ygrid crisp\" transform=\"translate(0,104.47)\" d=\"M80,0h455\" style=\"stroke: rgb(255, 255, 255); stroke-opacity: 1; stroke-width: 1px;\"/></g></g><g class=\"zerolinelayer\"><path class=\"yzl zl crisp\" transform=\"translate(0,317)\" d=\"M80,0h455\" style=\"stroke: rgb(255, 255, 255); stroke-opacity: 1; stroke-width: 2px;\"/></g><path class=\"xlines-below\"/><path class=\"ylines-below\"/><g class=\"overlines-below\"/><g class=\"xaxislayer-below\"/><g class=\"yaxislayer-below\"/><g class=\"overaxes-below\"/><g class=\"plot\" transform=\"translate(80,100)\" clip-path=\"url(#clipf0851bxyplot)\"><g class=\"barlayer mlayer\"><g class=\"trace bars\" style=\"opacity: 1;\"><g class=\"points\"><g class=\"point\"><path d=\"M4.55,217V10.85H40.95V217Z\" style=\"vector-effect: non-scaling-stroke; opacity: 1; stroke-width: 0.5px; fill: rgb(255, 0, 0); fill-opacity: 1; stroke: rgb(229, 236, 246); stroke-opacity: 1;\"/><text class=\"bartext bartext-outside\" text-anchor=\"middle\" data-notex=\"1\" x=\"0\" y=\"0\" style=\"font-family: 'Open Sans', verdana, arial, sans-serif; font-size: 12px; fill: rgb(42, 63, 95); fill-opacity: 1; white-space: pre;\" transform=\"translate(22.75,5.35)\">97.0</text></g><g class=\"point\"><path d=\"M50.05,217V12.98H86.45V217Z\" style=\"vector-effect: non-scaling-stroke; opacity: 1; stroke-width: 0.5px; fill: rgb(255, 46, 0); fill-opacity: 1; stroke: rgb(229, 236, 246); stroke-opacity: 1;\"/><text class=\"bartext bartext-outside\" text-anchor=\"middle\" data-notex=\"1\" x=\"0\" y=\"0\" style=\"font-family: 'Open Sans', verdana, arial, sans-serif; font-size: 12px; fill: rgb(42, 63, 95); fill-opacity: 1; white-space: pre;\" transform=\"translate(68.25,7.48)\">96.0</text></g><g class=\"point\"><path d=\"M95.55,217V80.98H131.95V217Z\" style=\"vector-effect: non-scaling-stroke; opacity: 1; stroke-width: 0.5px; fill: rgb(233, 238, 0); fill-opacity: 1; stroke: rgb(229, 236, 246); stroke-opacity: 1;\"/><text class=\"bartext bartext-outside\" text-anchor=\"middle\" data-notex=\"1\" x=\"0\" y=\"0\" style=\"font-family: 'Open Sans', verdana, arial, sans-serif; font-size: 12px; fill: rgb(42, 63, 95); fill-opacity: 1; white-space: pre;\" transform=\"translate(113.75,75.48)\">64.0</text></g><g class=\"point\"><path d=\"M141.05,217V144.74H177.45V217Z\" style=\"vector-effect: non-scaling-stroke; opacity: 1; stroke-width: 0.5px; fill: rgb(153, 255, 0); fill-opacity: 1; stroke: rgb(229, 236, 246); stroke-opacity: 1;\"/><text class=\"bartext bartext-outside\" text-anchor=\"middle\" data-notex=\"1\" x=\"0\" y=\"0\" style=\"font-family: 'Open Sans', verdana, arial, sans-serif; font-size: 12px; fill: rgb(42, 63, 95); fill-opacity: 1; white-space: pre;\" transform=\"translate(159.25,139.24)\">34.0</text></g><g class=\"point\"><path d=\"M186.55,217V191.5H222.95V217Z\" style=\"vector-effect: non-scaling-stroke; opacity: 1; stroke-width: 0.5px; fill: rgb(142, 255, 12); fill-opacity: 1; stroke: rgb(229, 236, 246); stroke-opacity: 1;\"/><text class=\"bartext bartext-outside\" text-anchor=\"middle\" data-notex=\"1\" x=\"0\" y=\"0\" style=\"font-family: 'Open Sans', verdana, arial, sans-serif; font-size: 12px; fill: rgb(42, 63, 95); fill-opacity: 1; white-space: pre;\" transform=\"translate(204.75,186)\">12.0</text></g><g class=\"point\"><path d=\"M232.05,217V193.62H268.45V217Z\" style=\"vector-effect: non-scaling-stroke; opacity: 1; stroke-width: 0.5px; fill: rgb(0, 112, 255); fill-opacity: 1; stroke: rgb(229, 236, 246); stroke-opacity: 1;\"/><text class=\"bartext bartext-outside\" text-anchor=\"middle\" data-notex=\"1\" x=\"0\" y=\"0\" style=\"font-family: 'Open Sans', verdana, arial, sans-serif; font-size: 12px; fill: rgb(42, 63, 95); fill-opacity: 1; white-space: pre;\" transform=\"translate(250.25,188.12)\">11.0</text></g><g class=\"point\"><path d=\"M277.55,217V195.75H313.95V217Z\" style=\"vector-effect: non-scaling-stroke; opacity: 1; stroke-width: 0.5px; fill: rgb(0, 11, 224); fill-opacity: 1; stroke: rgb(229, 236, 246); stroke-opacity: 1;\"/><text class=\"bartext bartext-outside\" text-anchor=\"middle\" data-notex=\"1\" x=\"0\" y=\"0\" style=\"font-family: 'Open Sans', verdana, arial, sans-serif; font-size: 12px; fill: rgb(42, 63, 95); fill-opacity: 1; white-space: pre;\" transform=\"translate(295.75,190.25)\">10.0</text></g><g class=\"point\"><path d=\"M323.05,217V200H359.45V217Z\" style=\"vector-effect: non-scaling-stroke; opacity: 1; stroke-width: 0.5px; fill: rgb(0, 2, 204); fill-opacity: 1; stroke: rgb(229, 236, 246); stroke-opacity: 1;\"/><text class=\"bartext bartext-outside\" text-anchor=\"middle\" data-notex=\"1\" x=\"0\" y=\"0\" style=\"font-family: 'Open Sans', verdana, arial, sans-serif; font-size: 12px; fill: rgb(42, 63, 95); fill-opacity: 1; white-space: pre;\" transform=\"translate(341.25,194.5)\">8.00</text></g><g class=\"point\"><path d=\"M368.55,217V200H404.95V217Z\" style=\"vector-effect: non-scaling-stroke; opacity: 1; stroke-width: 0.5px; fill: rgb(139, 0, 98); fill-opacity: 1; stroke: rgb(229, 236, 246); stroke-opacity: 1;\"/><text class=\"bartext bartext-outside\" text-anchor=\"middle\" data-notex=\"1\" x=\"0\" y=\"0\" style=\"font-family: 'Open Sans', verdana, arial, sans-serif; font-size: 12px; fill: rgb(42, 63, 95); fill-opacity: 1; white-space: pre;\" transform=\"translate(386.75,194.5)\">8.00</text></g><g class=\"point\"><path d=\"M414.05,217V204.25H450.45V217Z\" style=\"vector-effect: non-scaling-stroke; opacity: 1; stroke-width: 0.5px; fill: rgb(150, 0, 90); fill-opacity: 1; stroke: rgb(229, 236, 246); stroke-opacity: 1;\"/><text class=\"bartext bartext-outside\" text-anchor=\"middle\" data-notex=\"1\" x=\"0\" y=\"0\" style=\"font-family: 'Open Sans', verdana, arial, sans-serif; font-size: 12px; fill: rgb(42, 63, 95); fill-opacity: 1; white-space: pre;\" transform=\"translate(432.25,198.75)\">6.00</text></g></g></g></g></g><g class=\"overplot\"/><path class=\"xlines-above crisp\" d=\"M0,0\" style=\"fill: none;\"/><path class=\"ylines-above crisp\" d=\"M0,0\" style=\"fill: none;\"/><g class=\"overlines-above\"/><g class=\"xaxislayer-above\"><g class=\"xtick\"><text text-anchor=\"start\" x=\"0\" y=\"330\" transform=\"translate(102.75,0) rotate(30,0,324)\" style=\"font-family: 'Open Sans', verdana, arial, sans-serif; font-size: 12px; fill: rgb(42, 63, 95); fill-opacity: 1; white-space: pre; opacity: 1;\">WHITE CHERRY LIGHTS</text></g><g class=\"xtick\"><text text-anchor=\"start\" x=\"0\" y=\"330\" transform=\"translate(148.25,0) rotate(30,0,324)\" style=\"font-family: 'Open Sans', verdana, arial, sans-serif; font-size: 12px; fill: rgb(42, 63, 95); fill-opacity: 1; white-space: pre; opacity: 1;\">SILVER CHERRY LIGHTS</text></g><g class=\"xtick\"><text text-anchor=\"start\" x=\"0\" y=\"330\" transform=\"translate(193.75,0) rotate(30,0,324)\" style=\"font-family: 'Open Sans', verdana, arial, sans-serif; font-size: 12px; fill: rgb(42, 63, 95); fill-opacity: 1; white-space: pre; opacity: 1;\">LARGE RED RETROSPOT WINDMILL</text></g><g class=\"xtick\"><text text-anchor=\"start\" x=\"0\" y=\"330\" transform=\"translate(239.25,0) rotate(30,0,324)\" style=\"font-family: 'Open Sans', verdana, arial, sans-serif; font-size: 12px; fill: rgb(42, 63, 95); fill-opacity: 1; white-space: pre; opacity: 1;\">TREE OF NOAH FESTIVE SCENTED CANDLE</text></g><g class=\"xtick\"><text text-anchor=\"start\" x=\"0\" y=\"330\" transform=\"translate(284.75,0) rotate(30,0,324)\" style=\"font-family: 'Open Sans', verdana, arial, sans-serif; font-size: 12px; fill: rgb(42, 63, 95); fill-opacity: 1; white-space: pre; opacity: 1;\">SET 6 MINI SUSHI SET FRIDGE MAGNETS</text></g><g class=\"xtick\"><text text-anchor=\"start\" x=\"0\" y=\"330\" transform=\"translate(330.25,0) rotate(30,0,324)\" style=\"font-family: 'Open Sans', verdana, arial, sans-serif; font-size: 12px; fill: rgb(42, 63, 95); fill-opacity: 1; white-space: pre; opacity: 1;\">WHITE SCANDINAVIAN HEART CHRISTMAS</text></g><g class=\"xtick\"><text text-anchor=\"start\" x=\"0\" y=\"330\" transform=\"translate(375.75,0) rotate(30,0,324)\" style=\"font-family: 'Open Sans', verdana, arial, sans-serif; font-size: 12px; fill: rgb(42, 63, 95); fill-opacity: 1; white-space: pre; opacity: 1;\">VINTAGE BLUE VACUUM FLASK 0.5L </text></g><g class=\"xtick\"><text text-anchor=\"start\" x=\"0\" y=\"330\" transform=\"translate(421.25,0) rotate(30,0,324)\" style=\"font-family: 'Open Sans', verdana, arial, sans-serif; font-size: 12px; fill: rgb(42, 63, 95); fill-opacity: 1; white-space: pre; opacity: 1;\">FEATHER HEART LIGHTS</text></g><g class=\"xtick\"><text text-anchor=\"start\" x=\"0\" y=\"330\" transform=\"translate(466.75,0) rotate(30,0,324)\" style=\"font-family: 'Open Sans', verdana, arial, sans-serif; font-size: 12px; fill: rgb(42, 63, 95); fill-opacity: 1; white-space: pre; opacity: 1;\">BLACK CHERRY LIGHTS</text></g><g class=\"xtick\"><text text-anchor=\"start\" x=\"0\" y=\"330\" transform=\"translate(512.25,0) rotate(30,0,324)\" style=\"font-family: 'Open Sans', verdana, arial, sans-serif; font-size: 12px; fill: rgb(42, 63, 95); fill-opacity: 1; white-space: pre; opacity: 1;\">WHITE ORCHID FLOWER LIGHTS</text></g></g><g class=\"yaxislayer-above\"><g class=\"ytick\"><text text-anchor=\"end\" x=\"79\" y=\"4.199999999999999\" transform=\"translate(0,317)\" style=\"font-family: 'Open Sans', verdana, arial, sans-serif; font-size: 12px; fill: rgb(42, 63, 95); fill-opacity: 1; white-space: pre; opacity: 1;\">0</text></g><g class=\"ytick\"><text text-anchor=\"end\" x=\"79\" y=\"4.199999999999999\" style=\"font-family: 'Open Sans', verdana, arial, sans-serif; font-size: 12px; fill: rgb(42, 63, 95); fill-opacity: 1; white-space: pre; opacity: 1;\" transform=\"translate(0,274.49)\">20</text></g><g class=\"ytick\"><text text-anchor=\"end\" x=\"79\" y=\"4.199999999999999\" style=\"font-family: 'Open Sans', verdana, arial, sans-serif; font-size: 12px; fill: rgb(42, 63, 95); fill-opacity: 1; white-space: pre; opacity: 1;\" transform=\"translate(0,231.99)\">40</text></g><g class=\"ytick\"><text text-anchor=\"end\" x=\"79\" y=\"4.199999999999999\" style=\"font-family: 'Open Sans', verdana, arial, sans-serif; font-size: 12px; fill: rgb(42, 63, 95); fill-opacity: 1; white-space: pre; opacity: 1;\" transform=\"translate(0,189.48000000000002)\">60</text></g><g class=\"ytick\"><text text-anchor=\"end\" x=\"79\" y=\"4.199999999999999\" style=\"font-family: 'Open Sans', verdana, arial, sans-serif; font-size: 12px; fill: rgb(42, 63, 95); fill-opacity: 1; white-space: pre; opacity: 1;\" transform=\"translate(0,146.98)\">80</text></g><g class=\"ytick\"><text text-anchor=\"end\" x=\"79\" y=\"4.199999999999999\" style=\"font-family: 'Open Sans', verdana, arial, sans-serif; font-size: 12px; fill: rgb(42, 63, 95); fill-opacity: 1; white-space: pre; opacity: 1;\" transform=\"translate(0,104.47)\">100</text></g></g><g class=\"overaxes-above\"/></g></g><g class=\"polarlayer\"/><g class=\"smithlayer\"/><g class=\"ternarylayer\"/><g class=\"geolayer\"/><g class=\"funnelarealayer\"/><g class=\"pielayer\"/><g class=\"iciclelayer\"/><g class=\"treemaplayer\"/><g class=\"sunburstlayer\"/><g class=\"glimages\"/><defs id=\"topdefs-f0851b\"><g class=\"clips\"/></defs><g class=\"layer-above\"><g class=\"imagelayer\"/><g class=\"shapelayer\"/></g><g class=\"infolayer\"><g class=\"g-gtitle\"><text class=\"gtitle\" x=\"315\" y=\"15\" text-anchor=\"middle\" dy=\"0.7em\" style=\"font-family: 'Open Sans', verdana, arial, sans-serif; font-size: 17px; fill: rgb(42, 63, 95); opacity: 1; font-weight: normal; white-space: pre;\">10 Products With Most Returns</text></g><g class=\"g-xtitle\"><text class=\"xtitle\" x=\"307.5\" y=\"487.512890625\" text-anchor=\"middle\" style=\"font-family: 'Open Sans', verdana, arial, sans-serif; font-size: 14px; fill: rgb(42, 63, 95); opacity: 1; font-weight: normal; white-space: pre;\">Products</text></g><g class=\"g-ytitle\"><text class=\"ytitle\" transform=\"rotate(-90,31.309375000000003,208.5)\" x=\"31.309375000000003\" y=\"208.5\" text-anchor=\"middle\" style=\"font-family: 'Open Sans', verdana, arial, sans-serif; font-size: 14px; fill: rgb(42, 63, 95); opacity: 1; font-weight: normal; white-space: pre;\">Total Quantity Returned</text></g></g></svg>"
      ]
     },
     "metadata": {},
     "output_type": "display_data"
    }
   ],
   "source": [
    "fig = go.Figure(data=[\n",
    "    go.Bar(name='10 Products With Most Returns', \n",
    "           x=retail_products_asc['Description'].astype(str), \n",
    "           y=retail_products_asc['Quantity'],\n",
    "           marker_opacity=1,\n",
    "           marker={'color': retail_products_desc['Quantity'],\n",
    "                   'colorscale': 'Rainbow'}\n",
    "          )\n",
    "    ])\n",
    "\n",
    "fig.update_traces(texttemplate='%{y:.3s}', textposition='outside')\n",
    "fig.update_layout(barmode='group', showlegend=False)\n",
    "\n",
    "fig.update_layout(title='10 Products With Most Returns',\n",
    "                  title_x=0.45,\n",
    "                  title_y=0.97,\n",
    "                  xaxis_title=\"Products\",\n",
    "                  yaxis_title=\"Total Quantity Returned\",\n",
    "                  plot_bgcolor='white')\n",
    "fig.show(\"svg\")"
   ]
  },
  {
   "cell_type": "markdown",
   "id": "c95d7e7c",
   "metadata": {
    "papermill": {
     "duration": 0.022013,
     "end_time": "2024-04-11T05:57:22.840411",
     "exception": false,
     "start_time": "2024-04-11T05:57:22.818398",
     "status": "completed"
    },
    "tags": []
   },
   "source": [
    "We can see that **World War II Gliders** are clear bestsellers (the store has sold 107k of them in two years). However quite utilitary things also sell pretty well: mostly in the top ten different holders and cake cases prevail. Also a purse and a jumbo bag can be found there.\n",
    "\n",
    "The product with most returns is **White Cherry Lights** (105 of them were returned in two years). It is intereting that many decor items and gifts have made it to this list: various candles, flasks, pots, magnets and lights are here. "
   ]
  },
  {
   "cell_type": "markdown",
   "id": "fc714e60",
   "metadata": {
    "papermill": {
     "duration": 0.022577,
     "end_time": "2024-04-11T05:57:22.885540",
     "exception": false,
     "start_time": "2024-04-11T05:57:22.862963",
     "status": "completed"
    },
    "tags": []
   },
   "source": [
    "## Cohort Analysis\n",
    "\n",
    "Cohort analysis is generally used to show behavious of users, or in our case, customers, over time. It is an incredibly useful instrument to find some insights about customer experiences, and to understand how to improve that.\n",
    "\n",
    "I will use cohort analysis to investigate retention rate and average amount of products sold, and choose to use quarters of the year to define my cohorts. \n",
    "I will start by slightly transforming my data.\n",
    "\n",
    "Our dataset covers a timeframe of two years (2010-2011) and additionally December 2009. As December 2009 does not give us a full picture about the quarter, I will remove it.\n",
    "\n",
    "In order to make calculations easily, each quarter is mapped to an ID. \n",
    "\n",
    "I also define my cohort quarter, and calculate cohort index as a difference (number of quarters) between each quarter and the first quarter (having ID 0)."
   ]
  },
  {
   "cell_type": "code",
   "execution_count": 62,
   "id": "c6b45abf",
   "metadata": {
    "papermill": {
     "duration": 2.851598,
     "end_time": "2024-04-11T05:57:25.759522",
     "exception": false,
     "start_time": "2024-04-11T05:57:22.907924",
     "status": "completed"
    },
    "tags": []
   },
   "outputs": [],
   "source": [
    "retail = retail[retail['InvoiceDate_DT'].dt.year != 2009]\n",
    "retail['InvoiceQuarter'] = ('Q' + retail['InvoiceDate_DT'].dt.quarter.astype(str) + \n",
    "                            '/' + retail['InvoiceDate_DT'].dt.year.astype(str))\n",
    "quarters_map = dict(zip(retail['InvoiceQuarter'].unique(), \n",
    "                        range(len(retail['InvoiceQuarter'].unique()))))\n",
    "retail['InvoiceQuarterID'] = retail['InvoiceQuarter'].map(quarters_map)\n",
    "retail['CohortQuarterID'] = retail.groupby('Customer ID')['InvoiceQuarterID'].transform('min')\n",
    "retail['CohortQuarter'] = retail['CohortQuarterID'].map(dict(zip(quarters_map.values(), quarters_map.keys())))\n",
    "retail['CohortIndex'] = retail['InvoiceQuarterID'] - retail['CohortQuarterID']"
   ]
  },
  {
   "cell_type": "markdown",
   "id": "ed717fbe",
   "metadata": {
    "papermill": {
     "duration": 0.022528,
     "end_time": "2024-04-11T05:57:25.805601",
     "exception": false,
     "start_time": "2024-04-11T05:57:25.783073",
     "status": "completed"
    },
    "tags": []
   },
   "source": [
    "### Retention Cohort Analysis\n",
    "\n",
    "First, I will perform retention analysis and investigate the number of active users.\n",
    "For that, I will group the data, build a pivot table and calculate retention rate in %. Finally, I will plot the triangle chart with Plotly heatmap."
   ]
  },
  {
   "cell_type": "code",
   "execution_count": 63,
   "id": "5a45403c",
   "metadata": {
    "papermill": {
     "duration": 0.168633,
     "end_time": "2024-04-11T05:57:25.996410",
     "exception": false,
     "start_time": "2024-04-11T05:57:25.827777",
     "status": "completed"
    },
    "tags": []
   },
   "outputs": [],
   "source": [
    "cohort_retention = retail.groupby(['CohortQuarterID', 'CohortIndex'])['Customer ID'].apply(pd.Series.nunique).reset_index()\n",
    "cohort_retention.rename(columns={'Customer ID': 'Customer Count'}, inplace=True)\n",
    "cohort_retention_count = cohort_retention.pivot_table(index='CohortQuarterID', \n",
    "                                                      columns='CohortIndex', \n",
    "                                                      values='Customer Count')\n",
    "cohort_retention_count['CohortQuarter'] = cohort_retention_count.index.map(dict(zip(quarters_map.values(), \n",
    "                                                                                    quarters_map.keys())))\n",
    "cohort_retention_count = cohort_retention_count.set_index('CohortQuarter')\n",
    "cohort_size = cohort_retention_count.iloc[:, 0]\n",
    "retention = cohort_retention_count.divide(cohort_size, axis = 0)\n",
    "retention = (retention*100).round(2)\n",
    "retention = retention.iloc[::-1]"
   ]
  },
  {
   "cell_type": "code",
   "execution_count": 83,
   "id": "e49ba5ea",
   "metadata": {
    "papermill": {
     "duration": 0.084315,
     "end_time": "2024-04-11T05:57:26.103562",
     "exception": false,
     "start_time": "2024-04-11T05:57:26.019247",
     "status": "completed"
    },
    "tags": []
   },
   "outputs": [
    {
     "data": {
      "image/png": "[encoded data removed]"
     },
     "metadata": {},
     "output_type": "display_data"
    }
   ],
   "source": [
    "fig = go.Figure(data=go.Heatmap(\n",
    "                    z=retention,\n",
    "                    y=retention.index,\n",
    "                    colorscale='Greens',\n",
    "                    text=retention,\n",
    "                    texttemplate = \"%{text}%\",\n",
    "                    colorbar_title='Retention Rate, %',\n",
    "                    xgap=3,\n",
    "                    ygap=3))\n",
    "\n",
    "fig.update_xaxes(side=\"top\")\n",
    "\n",
    "fig.update_layout(title=\"Cohort Analysis: Retention Rate\",\n",
    "                  xaxis_title=\"Cohorts\",\n",
    "                  yaxis_title=\"Quarters\",\n",
    "                  \n",
    "                  title_x=0.5,\n",
    "                  title_y=0.99,\n",
    "                  plot_bgcolor='white')\n",
    "fig.show(\"png\")"
   ]
  },
  {
   "cell_type": "markdown",
   "id": "d931422b",
   "metadata": {
    "papermill": {
     "duration": 0.022243,
     "end_time": "2024-04-11T05:57:26.148821",
     "exception": false,
     "start_time": "2024-04-11T05:57:26.126578",
     "status": "completed"
    },
    "tags": []
   },
   "source": [
    "The results are quite interesting. Have you noticed how retention drops in 2010? An it seems that the store has implemented some measures to improve the situation in 2011, so more customers returned to shop here agein."
   ]
  },
  {
   "cell_type": "markdown",
   "id": "38fa1b83",
   "metadata": {
    "papermill": {
     "duration": 0.022789,
     "end_time": "2024-04-11T05:57:26.194286",
     "exception": false,
     "start_time": "2024-04-11T05:57:26.171497",
     "status": "completed"
    },
    "tags": []
   },
   "source": [
    "### Average Quantity Cohort Analysis\n",
    "\n",
    "One more dimension I am interested is how many products are sold on average, and how this changes with time.\n",
    "\n",
    "Here, I will use the same method, but group my data using mean() function.\n"
   ]
  },
  {
   "cell_type": "code",
   "execution_count": 65,
   "id": "214ebdb6",
   "metadata": {
    "papermill": {
     "duration": 0.096108,
     "end_time": "2024-04-11T05:57:26.314163",
     "exception": false,
     "start_time": "2024-04-11T05:57:26.218055",
     "status": "completed"
    },
    "tags": []
   },
   "outputs": [],
   "source": [
    "cohort_quantity = retail.groupby(['CohortQuarterID', 'CohortIndex'])['Quantity'].mean().reset_index()\n",
    "cohort_quantity.rename(columns={'Quantity': 'Average Quantity'}, inplace=True)\n",
    "average_quantity  = cohort_quantity.pivot_table(index = 'CohortQuarterID',\n",
    "                                                columns = 'CohortIndex',\n",
    "                                                values = 'Average Quantity').round(1)\n",
    "average_quantity['CohortQuarter'] = average_quantity.index.map(dict(zip(quarters_map.values(), \n",
    "                                                                        quarters_map.keys())))\n",
    "average_quantity = average_quantity.set_index('CohortQuarter')\n",
    "average_quantity = average_quantity.iloc[::-1]\n"
   ]
  },
  {
   "cell_type": "code",
   "execution_count": 82,
   "id": "9171381e",
   "metadata": {
    "papermill": {
     "duration": 0.053508,
     "end_time": "2024-04-11T05:57:26.390720",
     "exception": false,
     "start_time": "2024-04-11T05:57:26.337212",
     "status": "completed"
    },
    "tags": []
   },
   "outputs": [
    {
     "data": {
      "image/png": "[encoded data removed]"
     },
     "metadata": {},
     "output_type": "display_data"
    }
   ],
   "source": [
    "fig = go.Figure(data=go.Heatmap(\n",
    "                    z=average_quantity,\n",
    "                    y=average_quantity.index,\n",
    "                    colorscale='Blues',\n",
    "                    text=average_quantity,\n",
    "                    texttemplate = \"%{text}\",\n",
    "                    colorbar_title='Average Quantity',\n",
    "                    xgap=3,\n",
    "                    ygap=3))\n",
    "\n",
    "fig.update_xaxes(side=\"top\")\n",
    "\n",
    "fig.update_layout(title=\"Cohort Analysis: Average Quantity\",\n",
    "                  xaxis_title=\"Cohorts\",\n",
    "                  yaxis_title=\"Quarters\",\n",
    "                  \n",
    "                  title_x=0.5,\n",
    "                  title_y=0.99,\n",
    "                  plot_bgcolor='white')\n",
    "fig.show(\"png\")"
   ]
  },
  {
   "cell_type": "markdown",
   "id": "ce8a72b3",
   "metadata": {
    "papermill": {
     "duration": 0.023203,
     "end_time": "2024-04-11T05:57:26.437279",
     "exception": false,
     "start_time": "2024-04-11T05:57:26.414076",
     "status": "completed"
    },
    "tags": []
   },
   "source": [
    "Here as well, a drop in the average sold quantity of products can be noticed in 2010. In 2011 things started to improve but then dropped back; however it may mean that more expensive products are now sold in smaller amounts."
   ]
  },
  {
   "cell_type": "markdown",
   "id": "17c29519",
   "metadata": {
    "papermill": {
     "duration": 0.025027,
     "end_time": "2024-04-11T05:57:26.486680",
     "exception": false,
     "start_time": "2024-04-11T05:57:26.461653",
     "status": "completed"
    },
    "tags": []
   },
   "source": [
    "## Online Sales on Timeline\n",
    "\n",
    "Finally, I will built two more charts to show how the sales amount was changing with time. I will break down data by quarters and by months."
   ]
  },
  {
   "cell_type": "markdown",
   "id": "7ef2b97f",
   "metadata": {
    "papermill": {
     "duration": 0.025469,
     "end_time": "2024-04-11T05:57:26.537716",
     "exception": false,
     "start_time": "2024-04-11T05:57:26.512247",
     "status": "completed"
    },
    "tags": []
   },
   "source": [
    "### Quarterly Sales\n",
    "\n"
   ]
  },
  {
   "cell_type": "code",
   "execution_count": 67,
   "id": "e48c48e5",
   "metadata": {
    "papermill": {
     "duration": 0.339765,
     "end_time": "2024-04-11T05:57:26.903886",
     "exception": false,
     "start_time": "2024-04-11T05:57:26.564121",
     "status": "completed"
    },
    "tags": []
   },
   "outputs": [],
   "source": [
    "retail_quarters_by_sales = retail.groupby(['InvoiceQuarterID'], as_index=False)['Total'].agg('sum')\n",
    "retail_quarters_by_sales['InvoiceQuarter'] = retail_quarters_by_sales['InvoiceQuarterID'].map(dict(zip(quarters_map.values(), \n",
    "                                                                                                               quarters_map.keys())))"
   ]
  },
  {
   "cell_type": "code",
   "execution_count": 84,
   "id": "69bff43f",
   "metadata": {
    "papermill": {
     "duration": 0.054988,
     "end_time": "2024-04-11T05:57:26.982189",
     "exception": false,
     "start_time": "2024-04-11T05:57:26.927201",
     "status": "completed"
    },
    "tags": []
   },
   "outputs": [
    {
     "data": {
      "image/svg+xml": [
       "<svg class=\"main-svg\" xmlns=\"http://www.w3.org/2000/svg\" xmlns:xlink=\"http://www.w3.org/1999/xlink\" width=\"700\" height=\"500\" style=\"\" viewBox=\"0 0 700 500\"><rect x=\"0\" y=\"0\" width=\"700\" height=\"500\" style=\"fill: rgb(255, 255, 255); fill-opacity: 1;\"/><defs id=\"defs-050265\"><g class=\"clips\"><clipPath id=\"clip050265xyplot\" class=\"plotclip\"><rect width=\"540\" height=\"320\"/></clipPath><clipPath class=\"axesclip\" id=\"clip050265x\"><rect x=\"80\" y=\"0\" width=\"540\" height=\"500\"/></clipPath><clipPath class=\"axesclip\" id=\"clip050265y\"><rect x=\"0\" y=\"100\" width=\"700\" height=\"320\"/></clipPath><clipPath class=\"axesclip\" id=\"clip050265xy\"><rect x=\"80\" y=\"100\" width=\"540\" height=\"320\"/></clipPath></g><g class=\"gradients\"/><g class=\"patterns\"/></defs><g class=\"bglayer\"/><g class=\"layer-below\"><g class=\"imagelayer\"/><g class=\"shapelayer\"/></g><g class=\"cartesianlayer\"><g class=\"subplot xy\"><g class=\"layer-subplot\"><g class=\"shapelayer\"/><g class=\"imagelayer\"/></g><g class=\"minor-gridlayer\"><g class=\"x\"/><g class=\"y\"/></g><g class=\"gridlayer\"><g class=\"x\"/><g class=\"y\"><path class=\"ygrid crisp\" transform=\"translate(0,356.78)\" d=\"M80,0h540\" style=\"stroke: rgb(255, 255, 255); stroke-opacity: 1; stroke-width: 1px;\"/><path class=\"ygrid crisp\" transform=\"translate(0,293.57)\" d=\"M80,0h540\" style=\"stroke: rgb(255, 255, 255); stroke-opacity: 1; stroke-width: 1px;\"/><path class=\"ygrid crisp\" transform=\"translate(0,230.35)\" d=\"M80,0h540\" style=\"stroke: rgb(255, 255, 255); stroke-opacity: 1; stroke-width: 1px;\"/><path class=\"ygrid crisp\" transform=\"translate(0,167.14)\" d=\"M80,0h540\" style=\"stroke: rgb(255, 255, 255); stroke-opacity: 1; stroke-width: 1px;\"/><path class=\"ygrid crisp\" transform=\"translate(0,103.92)\" d=\"M80,0h540\" style=\"stroke: rgb(255, 255, 255); stroke-opacity: 1; stroke-width: 1px;\"/></g></g><g class=\"zerolinelayer\"><path class=\"yzl zl crisp\" transform=\"translate(0,420)\" d=\"M80,0h540\" style=\"stroke: rgb(255, 255, 255); stroke-opacity: 1; stroke-width: 2px;\"/></g><path class=\"xlines-below\"/><path class=\"ylines-below\"/><g class=\"overlines-below\"/><g class=\"xaxislayer-below\"/><g class=\"yaxislayer-below\"/><g class=\"overaxes-below\"/><g class=\"plot\" transform=\"translate(80,100)\" clip-path=\"url(#clip050265xyplot)\"><g class=\"barlayer mlayer\"><g class=\"trace bars\" style=\"opacity: 1;\"><g class=\"points\"><g class=\"point\"><path d=\"M13.5,320V110.46H121.5V320Z\" style=\"vector-effect: non-scaling-stroke; opacity: 1; stroke-width: 0.5px; fill: rgb(12, 51, 131); fill-opacity: 1; stroke: rgb(229, 236, 246); stroke-opacity: 1;\"/><text class=\"bartext bartext-outside\" text-anchor=\"middle\" data-notex=\"1\" x=\"0\" y=\"0\" style=\"font-family: 'Open Sans', verdana, arial, sans-serif; font-size: 12px; fill: rgb(42, 63, 95); fill-opacity: 1; white-space: pre;\" transform=\"translate(67.5,104.96)\">Total: £1.66M</text></g><g class=\"point\"><path d=\"M148.5,320V106.08H256.5V320Z\" style=\"vector-effect: non-scaling-stroke; opacity: 1; stroke-width: 0.5px; fill: rgb(12, 67, 141); fill-opacity: 1; stroke: rgb(229, 236, 246); stroke-opacity: 1;\"/><text class=\"bartext bartext-outside\" text-anchor=\"middle\" data-notex=\"1\" x=\"0\" y=\"0\" style=\"font-family: 'Open Sans', verdana, arial, sans-serif; font-size: 12px; fill: rgb(42, 63, 95); fill-opacity: 1; white-space: pre;\" transform=\"translate(202.5,100.58)\">Total: £1.69M</text></g><g class=\"point\"><path d=\"M283.5,320V75.85H391.5V320Z\" style=\"vector-effect: non-scaling-stroke; opacity: 1; stroke-width: 0.5px; fill: rgb(118, 171, 125); fill-opacity: 1; stroke: rgb(229, 236, 246); stroke-opacity: 1;\"/><text class=\"bartext bartext-outside\" text-anchor=\"middle\" data-notex=\"1\" x=\"0\" y=\"0\" style=\"font-family: 'Open Sans', verdana, arial, sans-serif; font-size: 12px; fill: rgb(42, 63, 95); fill-opacity: 1; white-space: pre;\" transform=\"translate(337.5,70.35)\">Total: £1.93M</text></g><g class=\"point\"><path d=\"M418.5,320V16H526.5V320Z\" style=\"vector-effect: non-scaling-stroke; opacity: 1; stroke-width: 0.5px; fill: rgb(217, 30, 30); fill-opacity: 1; stroke: rgb(229, 236, 246); stroke-opacity: 1;\"/><text class=\"bartext bartext-outside\" text-anchor=\"middle\" data-notex=\"1\" x=\"0\" y=\"0\" style=\"font-family: 'Open Sans', verdana, arial, sans-serif; font-size: 12px; fill: rgb(42, 63, 95); fill-opacity: 1; white-space: pre;\" transform=\"translate(472.5,10.5)\">Total: £2.40M</text></g></g></g></g></g><g class=\"overplot\"/><path class=\"xlines-above crisp\" d=\"M0,0\" style=\"fill: none;\"/><path class=\"ylines-above crisp\" d=\"M0,0\" style=\"fill: none;\"/><g class=\"overlines-above\"/><g class=\"xaxislayer-above\"><g class=\"xtick\"><text text-anchor=\"middle\" x=\"0\" y=\"433\" transform=\"translate(147.5,0)\" style=\"font-family: 'Open Sans', verdana, arial, sans-serif; font-size: 12px; fill: rgb(42, 63, 95); fill-opacity: 1; white-space: pre; opacity: 1;\">Q1/2010</text></g><g class=\"xtick\"><text text-anchor=\"middle\" x=\"0\" y=\"433\" transform=\"translate(282.5,0)\" style=\"font-family: 'Open Sans', verdana, arial, sans-serif; font-size: 12px; fill: rgb(42, 63, 95); fill-opacity: 1; white-space: pre; opacity: 1;\">Q2/2010</text></g><g class=\"xtick\"><text text-anchor=\"middle\" x=\"0\" y=\"433\" transform=\"translate(417.5,0)\" style=\"font-family: 'Open Sans', verdana, arial, sans-serif; font-size: 12px; fill: rgb(42, 63, 95); fill-opacity: 1; white-space: pre; opacity: 1;\">Q3/2010</text></g><g class=\"xtick\"><text text-anchor=\"middle\" x=\"0\" y=\"433\" transform=\"translate(552.5,0)\" style=\"font-family: 'Open Sans', verdana, arial, sans-serif; font-size: 12px; fill: rgb(42, 63, 95); fill-opacity: 1; white-space: pre; opacity: 1;\">Q4/2010</text></g></g><g class=\"yaxislayer-above\"><g class=\"ytick\"><text text-anchor=\"end\" x=\"79\" y=\"4.199999999999999\" transform=\"translate(0,420)\" style=\"font-family: 'Open Sans', verdana, arial, sans-serif; font-size: 12px; fill: rgb(42, 63, 95); fill-opacity: 1; white-space: pre; opacity: 1;\">0</text></g><g class=\"ytick\"><text text-anchor=\"end\" x=\"79\" y=\"4.199999999999999\" style=\"font-family: 'Open Sans', verdana, arial, sans-serif; font-size: 12px; fill: rgb(42, 63, 95); fill-opacity: 1; white-space: pre; opacity: 1;\" transform=\"translate(0,356.78)\">0.5M</text></g><g class=\"ytick\"><text text-anchor=\"end\" x=\"79\" y=\"4.199999999999999\" style=\"font-family: 'Open Sans', verdana, arial, sans-serif; font-size: 12px; fill: rgb(42, 63, 95); fill-opacity: 1; white-space: pre; opacity: 1;\" transform=\"translate(0,293.57)\">1M</text></g><g class=\"ytick\"><text text-anchor=\"end\" x=\"79\" y=\"4.199999999999999\" style=\"font-family: 'Open Sans', verdana, arial, sans-serif; font-size: 12px; fill: rgb(42, 63, 95); fill-opacity: 1; white-space: pre; opacity: 1;\" transform=\"translate(0,230.35)\">1.5M</text></g><g class=\"ytick\"><text text-anchor=\"end\" x=\"79\" y=\"4.199999999999999\" style=\"font-family: 'Open Sans', verdana, arial, sans-serif; font-size: 12px; fill: rgb(42, 63, 95); fill-opacity: 1; white-space: pre; opacity: 1;\" transform=\"translate(0,167.14)\">2M</text></g><g class=\"ytick\"><text text-anchor=\"end\" x=\"79\" y=\"4.199999999999999\" style=\"font-family: 'Open Sans', verdana, arial, sans-serif; font-size: 12px; fill: rgb(42, 63, 95); fill-opacity: 1; white-space: pre; opacity: 1;\" transform=\"translate(0,103.92)\">2.5M</text></g></g><g class=\"overaxes-above\"/></g></g><g class=\"polarlayer\"/><g class=\"smithlayer\"/><g class=\"ternarylayer\"/><g class=\"geolayer\"/><g class=\"funnelarealayer\"/><g class=\"pielayer\"/><g class=\"iciclelayer\"/><g class=\"treemaplayer\"/><g class=\"sunburstlayer\"/><g class=\"glimages\"/><defs id=\"topdefs-050265\"><g class=\"clips\"/></defs><g class=\"layer-above\"><g class=\"imagelayer\"/><g class=\"shapelayer\"/></g><g class=\"infolayer\"><g class=\"g-gtitle\"><text class=\"gtitle\" x=\"315\" y=\"50\" text-anchor=\"middle\" dy=\"0em\" style=\"font-family: 'Open Sans', verdana, arial, sans-serif; font-size: 17px; fill: rgb(42, 63, 95); opacity: 1; font-weight: normal; white-space: pre;\">Quarterly Sales</text></g><g class=\"g-xtitle\"><text class=\"xtitle\" x=\"350\" y=\"460.3\" text-anchor=\"middle\" style=\"font-family: 'Open Sans', verdana, arial, sans-serif; font-size: 14px; fill: rgb(42, 63, 95); opacity: 1; font-weight: normal; white-space: pre;\">Quarters</text></g><g class=\"g-ytitle\"><text class=\"ytitle\" transform=\"rotate(-90,24.450000000000003,260)\" x=\"24.450000000000003\" y=\"260\" text-anchor=\"middle\" style=\"font-family: 'Open Sans', verdana, arial, sans-serif; font-size: 14px; fill: rgb(42, 63, 95); opacity: 1; font-weight: normal; white-space: pre;\">Total Amount</text></g></g></svg>"
      ]
     },
     "metadata": {},
     "output_type": "display_data"
    }
   ],
   "source": [
    "fig = go.Figure(data=[\n",
    "    go.Bar(name='Quarterly Sales', \n",
    "           x=retail_quarters_by_sales['InvoiceQuarter'],\n",
    "           y=retail_quarters_by_sales['Total'],\n",
    "           marker_opacity=1,\n",
    "           text='Total',\n",
    "           marker={'color': retail_quarters_by_sales['Total'],\n",
    "                   'colorscale': 'Portland'}\n",
    "          )\n",
    "    ])\n",
    "\n",
    "fig.update_traces(texttemplate='%{text}: £%{y:.3s}', textposition='outside')\n",
    "fig.update_layout(barmode='group', showlegend=False)\n",
    "\n",
    "fig.update_layout(title=\"Quarterly Sales\",\n",
    "                  title_x = 0.45,\n",
    "                  xaxis_title=\"Quarters\",\n",
    "                  yaxis_title=\"Total Amount\",\n",
    "                  plot_bgcolor='white')\n",
    "fig.show(\"svg\")"
   ]
  },
  {
   "cell_type": "markdown",
   "id": "39b83a29",
   "metadata": {
    "papermill": {
     "duration": 0.022982,
     "end_time": "2024-04-11T05:57:27.028534",
     "exception": false,
     "start_time": "2024-04-11T05:57:27.005552",
     "status": "completed"
    },
    "tags": []
   },
   "source": [
    "We can easily notice the seasonal fluctuations here: people tend to buy a lot before Christmas, and afterwards, a significant drop happens."
   ]
  },
  {
   "cell_type": "markdown",
   "id": "4c824234",
   "metadata": {
    "papermill": {
     "duration": 0.023487,
     "end_time": "2024-04-11T05:57:27.075429",
     "exception": false,
     "start_time": "2024-04-11T05:57:27.051942",
     "status": "completed"
    },
    "tags": []
   },
   "source": [
    "### Monthly Sales"
   ]
  },
  {
   "cell_type": "code",
   "execution_count": 69,
   "id": "5ae19d7d",
   "metadata": {
    "papermill": {
     "duration": 0.186284,
     "end_time": "2024-04-11T05:57:27.287990",
     "exception": false,
     "start_time": "2024-04-11T05:57:27.101706",
     "status": "completed"
    },
    "tags": []
   },
   "outputs": [],
   "source": [
    "retail_monthly = retail.copy()\n",
    "retail_monthly['InvoiceMonth'] = retail_monthly['InvoiceDate_DT'].dt.to_period('M')\n",
    "retail_monthly_by_sales = retail_monthly.groupby(['InvoiceMonth'], as_index=False)['Total'].agg('sum')"
   ]
  },
  {
   "cell_type": "code",
   "execution_count": 85,
   "id": "4484d57d",
   "metadata": {
    "papermill": {
     "duration": 0.051225,
     "end_time": "2024-04-11T05:57:27.362608",
     "exception": false,
     "start_time": "2024-04-11T05:57:27.311383",
     "status": "completed"
    },
    "tags": []
   },
   "outputs": [
    {
     "data": {
      "image/svg+xml": [
       "<svg class=\"main-svg\" xmlns=\"http://www.w3.org/2000/svg\" xmlns:xlink=\"http://www.w3.org/1999/xlink\" width=\"700\" height=\"500\" style=\"\" viewBox=\"0 0 700 500\"><rect x=\"0\" y=\"0\" width=\"700\" height=\"500\" style=\"fill: rgb(255, 255, 255); fill-opacity: 1;\"/><defs id=\"defs-5c5e52\"><g class=\"clips\"><clipPath id=\"clip5c5e52xyplot\" class=\"plotclip\"><rect width=\"540\" height=\"320\"/></clipPath><clipPath class=\"axesclip\" id=\"clip5c5e52x\"><rect x=\"80\" y=\"0\" width=\"540\" height=\"500\"/></clipPath><clipPath class=\"axesclip\" id=\"clip5c5e52y\"><rect x=\"0\" y=\"100\" width=\"700\" height=\"320\"/></clipPath><clipPath class=\"axesclip\" id=\"clip5c5e52xy\"><rect x=\"80\" y=\"100\" width=\"540\" height=\"320\"/></clipPath></g><g class=\"gradients\"/><g class=\"patterns\"/></defs><g class=\"bglayer\"/><g class=\"layer-below\"><g class=\"imagelayer\"/><g class=\"shapelayer\"/></g><g class=\"cartesianlayer\"><g class=\"subplot xy\"><g class=\"layer-subplot\"><g class=\"shapelayer\"/><g class=\"imagelayer\"/></g><g class=\"minor-gridlayer\"><g class=\"x\"/><g class=\"y\"/></g><g class=\"gridlayer\"><g class=\"x\"/><g class=\"y\"><path class=\"ygrid crisp\" transform=\"translate(0,366.43)\" d=\"M80,0h540\" style=\"stroke: rgb(255, 255, 255); stroke-opacity: 1; stroke-width: 1px;\"/><path class=\"ygrid crisp\" transform=\"translate(0,312.85)\" d=\"M80,0h540\" style=\"stroke: rgb(255, 255, 255); stroke-opacity: 1; stroke-width: 1px;\"/><path class=\"ygrid crisp\" transform=\"translate(0,259.28)\" d=\"M80,0h540\" style=\"stroke: rgb(255, 255, 255); stroke-opacity: 1; stroke-width: 1px;\"/><path class=\"ygrid crisp\" transform=\"translate(0,205.7)\" d=\"M80,0h540\" style=\"stroke: rgb(255, 255, 255); stroke-opacity: 1; stroke-width: 1px;\"/><path class=\"ygrid crisp\" transform=\"translate(0,152.13)\" d=\"M80,0h540\" style=\"stroke: rgb(255, 255, 255); stroke-opacity: 1; stroke-width: 1px;\"/></g></g><g class=\"zerolinelayer\"><path class=\"yzl zl crisp\" transform=\"translate(0,420)\" d=\"M80,0h540\" style=\"stroke: rgb(255, 255, 255); stroke-opacity: 1; stroke-width: 2px;\"/></g><path class=\"xlines-below\"/><path class=\"ylines-below\"/><g class=\"overlines-below\"/><g class=\"xaxislayer-below\"/><g class=\"yaxislayer-below\"/><g class=\"overaxes-below\"/><g class=\"plot\" transform=\"translate(80,100)\" clip-path=\"url(#clip5c5e52xyplot)\"><g class=\"barlayer mlayer\"><g class=\"trace bars\" style=\"opacity: 1;\"><g class=\"points\"><g class=\"point\"><path d=\"M4.18,320V177.51H37.59V320Z\" style=\"vector-effect: non-scaling-stroke; opacity: 1; stroke-width: 0.5px; fill: rgb(32, 143, 174); fill-opacity: 1; stroke: rgb(229, 236, 246); stroke-opacity: 1;\"/></g><g class=\"point\"><path d=\"M50.42,320V188.9H83.83V320Z\" style=\"vector-effect: non-scaling-stroke; opacity: 1; stroke-width: 0.5px; fill: rgb(10, 127, 180); fill-opacity: 1; stroke: rgb(229, 236, 246); stroke-opacity: 1;\"/></g><g class=\"point\"><path d=\"M92.19,320V149.64H125.6V320Z\" style=\"vector-effect: non-scaling-stroke; opacity: 1; stroke-width: 0.5px; fill: rgb(148, 181, 108); fill-opacity: 1; stroke: rgb(229, 236, 246); stroke-opacity: 1;\"/></g><g class=\"point\"><path d=\"M138.43,320V169.82H171.85V320Z\" style=\"vector-effect: non-scaling-stroke; opacity: 1; stroke-width: 0.5px; fill: rgb(64, 154, 156); fill-opacity: 1; stroke: rgb(229, 236, 246); stroke-opacity: 1;\"/></g><g class=\"point\"><path d=\"M183.18,320V170.01H216.6V320Z\" style=\"vector-effect: non-scaling-stroke; opacity: 1; stroke-width: 0.5px; fill: rgb(63, 153, 156); fill-opacity: 1; stroke: rgb(229, 236, 246); stroke-opacity: 1;\"/></g><g class=\"point\"><path d=\"M229.43,320V166.92H262.84V320Z\" style=\"vector-effect: non-scaling-stroke; opacity: 1; stroke-width: 0.5px; fill: rgb(76, 157, 149); fill-opacity: 1; stroke: rgb(229, 236, 246); stroke-opacity: 1;\"/></g><g class=\"point\"><path d=\"M274.18,320V169.25H307.59V320Z\" style=\"vector-effect: non-scaling-stroke; opacity: 1; stroke-width: 0.5px; fill: rgb(67, 154, 154); fill-opacity: 1; stroke: rgb(229, 236, 246); stroke-opacity: 1;\"/></g><g class=\"point\"><path d=\"M320.42,320V162.69H353.83V320Z\" style=\"vector-effect: non-scaling-stroke; opacity: 1; stroke-width: 0.5px; fill: rgb(94, 163, 139); fill-opacity: 1; stroke: rgb(229, 236, 246); stroke-opacity: 1;\"/></g><g class=\"point\"><path d=\"M366.66,320V110.78H400.08V320Z\" style=\"vector-effect: non-scaling-stroke; opacity: 1; stroke-width: 0.5px; fill: rgb(242, 191, 56); fill-opacity: 1; stroke: rgb(229, 236, 246); stroke-opacity: 1;\"/></g><g class=\"point\"><path d=\"M411.41,320V61.51H444.83V320Z\" style=\"vector-effect: non-scaling-stroke; opacity: 1; stroke-width: 0.5px; fill: rgb(237, 122, 51); fill-opacity: 1; stroke: rgb(229, 236, 246); stroke-opacity: 1;\"/></g><g class=\"point\"><path d=\"M457.66,320V16H491.07V320Z\" style=\"vector-effect: non-scaling-stroke; opacity: 1; stroke-width: 0.5px; fill: rgb(217, 30, 30); fill-opacity: 1; stroke: rgb(229, 236, 246); stroke-opacity: 1;\"/></g><g class=\"point\"><path d=\"M502.41,320V238.4H535.82V320Z\" style=\"vector-effect: non-scaling-stroke; opacity: 1; stroke-width: 0.5px; fill: rgb(12, 51, 131); fill-opacity: 1; stroke: rgb(229, 236, 246); stroke-opacity: 1;\"/></g></g></g></g></g><g class=\"overplot\"/><path class=\"xlines-above crisp\" d=\"M0,0\" style=\"fill: none;\"/><path class=\"ylines-above crisp\" d=\"M0,0\" style=\"fill: none;\"/><g class=\"overlines-above\"/><g class=\"xaxislayer-above\"><g class=\"xtick\"><text text-anchor=\"middle\" x=\"0\" y=\"433\" transform=\"translate(100.88,0)\" style=\"font-family: 'Open Sans', verdana, arial, sans-serif; font-size: 12px; fill: rgb(42, 63, 95); fill-opacity: 1; white-space: pre; opacity: 1;\">Jan 2010</text></g><g class=\"xtick\"><text text-anchor=\"middle\" x=\"0\" y=\"433\" style=\"font-family: 'Open Sans', verdana, arial, sans-serif; font-size: 12px; fill: rgb(42, 63, 95); fill-opacity: 1; white-space: pre; opacity: 1;\" transform=\"translate(188.9,0)\">Mar 2010</text></g><g class=\"xtick\"><text text-anchor=\"middle\" x=\"0\" y=\"433\" style=\"font-family: 'Open Sans', verdana, arial, sans-serif; font-size: 12px; fill: rgb(42, 63, 95); fill-opacity: 1; white-space: pre; opacity: 1;\" transform=\"translate(279.89,0)\">May 2010</text></g><g class=\"xtick\"><text text-anchor=\"middle\" x=\"0\" y=\"433\" style=\"font-family: 'Open Sans', verdana, arial, sans-serif; font-size: 12px; fill: rgb(42, 63, 95); fill-opacity: 1; white-space: pre; opacity: 1;\" transform=\"translate(370.88,0)\">Jul 2010</text></g><g class=\"xtick\"><text text-anchor=\"middle\" x=\"0\" y=\"433\" style=\"font-family: 'Open Sans', verdana, arial, sans-serif; font-size: 12px; fill: rgb(42, 63, 95); fill-opacity: 1; white-space: pre; opacity: 1;\" transform=\"translate(463.37,0)\">Sep 2010</text></g><g class=\"xtick\"><text text-anchor=\"middle\" x=\"0\" y=\"433\" style=\"font-family: 'Open Sans', verdana, arial, sans-serif; font-size: 12px; fill: rgb(42, 63, 95); fill-opacity: 1; white-space: pre; opacity: 1;\" transform=\"translate(554.36,0)\">Nov 2010</text></g></g><g class=\"yaxislayer-above\"><g class=\"ytick\"><text text-anchor=\"end\" x=\"79\" y=\"4.199999999999999\" transform=\"translate(0,420)\" style=\"font-family: 'Open Sans', verdana, arial, sans-serif; font-size: 12px; fill: rgb(42, 63, 95); fill-opacity: 1; white-space: pre; opacity: 1;\">0</text></g><g class=\"ytick\"><text text-anchor=\"end\" x=\"79\" y=\"4.199999999999999\" style=\"font-family: 'Open Sans', verdana, arial, sans-serif; font-size: 12px; fill: rgb(42, 63, 95); fill-opacity: 1; white-space: pre; opacity: 1;\" transform=\"translate(0,366.43)\">0.2M</text></g><g class=\"ytick\"><text text-anchor=\"end\" x=\"79\" y=\"4.199999999999999\" style=\"font-family: 'Open Sans', verdana, arial, sans-serif; font-size: 12px; fill: rgb(42, 63, 95); fill-opacity: 1; white-space: pre; opacity: 1;\" transform=\"translate(0,312.85)\">0.4M</text></g><g class=\"ytick\"><text text-anchor=\"end\" x=\"79\" y=\"4.199999999999999\" style=\"font-family: 'Open Sans', verdana, arial, sans-serif; font-size: 12px; fill: rgb(42, 63, 95); fill-opacity: 1; white-space: pre; opacity: 1;\" transform=\"translate(0,259.28)\">0.6M</text></g><g class=\"ytick\"><text text-anchor=\"end\" x=\"79\" y=\"4.199999999999999\" style=\"font-family: 'Open Sans', verdana, arial, sans-serif; font-size: 12px; fill: rgb(42, 63, 95); fill-opacity: 1; white-space: pre; opacity: 1;\" transform=\"translate(0,205.7)\">0.8M</text></g><g class=\"ytick\"><text text-anchor=\"end\" x=\"79\" y=\"4.199999999999999\" style=\"font-family: 'Open Sans', verdana, arial, sans-serif; font-size: 12px; fill: rgb(42, 63, 95); fill-opacity: 1; white-space: pre; opacity: 1;\" transform=\"translate(0,152.13)\">1M</text></g></g><g class=\"overaxes-above\"/></g></g><g class=\"polarlayer\"/><g class=\"smithlayer\"/><g class=\"ternarylayer\"/><g class=\"geolayer\"/><g class=\"funnelarealayer\"/><g class=\"pielayer\"/><g class=\"iciclelayer\"/><g class=\"treemaplayer\"/><g class=\"sunburstlayer\"/><g class=\"glimages\"/><defs id=\"topdefs-5c5e52\"><g class=\"clips\"/></defs><g class=\"layer-above\"><g class=\"imagelayer\"/><g class=\"shapelayer\"/></g><g class=\"infolayer\"><g class=\"g-gtitle\"><text class=\"gtitle\" x=\"315\" y=\"50\" text-anchor=\"middle\" dy=\"0em\" style=\"font-family: 'Open Sans', verdana, arial, sans-serif; font-size: 17px; fill: rgb(42, 63, 95); opacity: 1; font-weight: normal; white-space: pre;\">Monthly Sales</text></g><g class=\"g-xtitle\"><text class=\"xtitle\" x=\"350\" y=\"460.3\" text-anchor=\"middle\" style=\"font-family: 'Open Sans', verdana, arial, sans-serif; font-size: 14px; fill: rgb(42, 63, 95); opacity: 1; font-weight: normal; white-space: pre;\">Months</text></g><g class=\"g-ytitle\"><text class=\"ytitle\" transform=\"rotate(-90,24.450000000000003,260)\" x=\"24.450000000000003\" y=\"260\" text-anchor=\"middle\" style=\"font-family: 'Open Sans', verdana, arial, sans-serif; font-size: 14px; fill: rgb(42, 63, 95); opacity: 1; font-weight: normal; white-space: pre;\">Total Amount</text></g></g></svg>"
      ]
     },
     "metadata": {},
     "output_type": "display_data"
    }
   ],
   "source": [
    "fig = go.Figure(data=[\n",
    "    go.Bar(name='Monthly Sales', \n",
    "           x=retail_monthly_by_sales['InvoiceMonth'].astype(str),\n",
    "           y=retail_monthly_by_sales['Total'],\n",
    "           marker_opacity=1,\n",
    "           marker={'color': retail_monthly_by_sales['Total'],\n",
    "                   'colorscale': 'Portland'}\n",
    "          )\n",
    "    ])\n",
    "\n",
    "fig.update_layout(barmode='group', showlegend=False)\n",
    "\n",
    "fig.update_layout(title=\"Monthly Sales\",\n",
    "                  title_x = 0.45,\n",
    "                  xaxis_title=\"Months\",\n",
    "                  yaxis_title=\"Total Amount\",\n",
    "                  plot_bgcolor='white')\n",
    "fig.show(\"svg\")"
   ]
  },
  {
   "cell_type": "markdown",
   "id": "3402f1e1",
   "metadata": {
    "papermill": {
     "duration": 0.023285,
     "end_time": "2024-04-11T05:57:27.410459",
     "exception": false,
     "start_time": "2024-04-11T05:57:27.387174",
     "status": "completed"
    },
    "tags": []
   },
   "source": [
    "Also with a more precise breakdown you can easily detect the Christams peaks. Note, however, how different December 2011 is from December 2010! December sales have dropped more than twice!"
   ]
  },
  {
   "attachments": {},
   "cell_type": "markdown",
   "id": "f1daa7ff",
   "metadata": {
    "papermill": {
     "duration": 0.025012,
     "end_time": "2024-04-11T05:57:27.459341",
     "exception": false,
     "start_time": "2024-04-11T05:57:27.434329",
     "status": "completed"
    },
    "tags": []
   },
   "source": [
    "## Conclusion from the EDA\n",
    "\n",
    "We've learned quite a lot here, and I would like to take a momemnt to summarize the most impactful insights:\n",
    "\n",
    "- The most expensive product costs **£38970**, while the cheapest one is priced at **£0.001**.\n",
    "- Customer with ID 18102, who lives in the UK, has purchased different goods for the total value of **£598k** in the last two years, which makes him the most valuable client. Another customer from the UK has returned goods for **£25k** during the same time slot, which is the lowest purchase amount (negative).\n",
    "- **United Kingdom** is leading in purchases with amount of **£13.8M** and has the largest number of unique customers, while the country with the smallest purchase value is **Saudi Arabia**. Interestingly, customers from Czech Republic tend to buy very little from the store, unlike other European countries. This might be valuable for the marketing team!\n",
    "- Generally, utilitary items like holders and cases prevail among bestsellers. However the winner is **'World War II Gliders'** - maybe airplane models? Also, different decor items tend to be returned most.\n",
    "- Retention rate has dropped significantly in **2010**, matching the drop in average sold products, but has raised again in **2011**. It would be indeed great to dig into the reasons, if we had more data to explore.\n",
    "- Store sales are prominently **seasonal**, however, with **December 2011** being twice less good in terms of income compared to December 2010. This would make also a great starting point for a deeper analysis.\n"
   ]
  },
  {
   "cell_type": "markdown",
   "id": "0c21ec49-fc33-4604-ad3c-8a08666d696a",
   "metadata": {},
   "source": [
    "## KMeans Clusterring"
   ]
  },
  {
   "cell_type": "code",
   "execution_count": 71,
   "id": "19af08e0-4677-48a5-855c-0efa713705e7",
   "metadata": {},
   "outputs": [],
   "source": [
    "df = pd.read_excel('online_retail_II.xlsx')\n",
    "df['date'] = pd.to_datetime(df['InvoiceDate']).dt.date"
   ]
  },
  {
   "cell_type": "markdown",
   "id": "18a4b1d3-4195-405f-bf75-522626c760c5",
   "metadata": {},
   "source": [
    "#### Doing RFM Analysis"
   ]
  },
  {
   "cell_type": "code",
   "execution_count": 72,
   "id": "5a768be8-2bf7-4653-b5a7-db042f4e8609",
   "metadata": {},
   "outputs": [],
   "source": [
    "unique_cid = list(df['Customer ID'].unique())"
   ]
  },
  {
   "cell_type": "markdown",
   "id": "b6aa402e-454a-48a0-aa44-370fd853cc92",
   "metadata": {},
   "source": [
    "#### Calculating Recency"
   ]
  },
  {
   "cell_type": "code",
   "execution_count": 73,
   "id": "064f98e0-e65b-4910-91d6-472da515dc8d",
   "metadata": {},
   "outputs": [],
   "source": [
    "today = pd.to_datetime(date.today())\n",
    "recency = []\n",
    "for i in unique_cid:\n",
    "    df1 = df[df['Customer ID'] == i]\n",
    "    if not df1.empty:\n",
    "        last_purchase_date = df1['date'].iloc[-1]\n",
    "        last_purchase_date = pd.to_datetime(last_purchase_date)\n",
    "        diff = today - last_purchase_date\n",
    "        recency.append(diff.days)\n",
    "    else:\n",
    "        recency.append(None) \n",
    "\n"
   ]
  },
  {
   "cell_type": "markdown",
   "id": "68f48368-a6b3-4cd2-8dc7-7400af942d67",
   "metadata": {},
   "source": [
    "#### Calculating Frequency"
   ]
  },
  {
   "cell_type": "code",
   "execution_count": 74,
   "id": "e8b24981-f4d8-419b-880e-bd2dd6f5be04",
   "metadata": {},
   "outputs": [],
   "source": [
    "freq=[]\n",
    "for i in unique_cid:\n",
    "    df1=df[df['Customer ID']==i]\n",
    "    freq.append(len(df1))"
   ]
  },
  {
   "cell_type": "markdown",
   "id": "4ef73094-de9c-4916-a7fd-60df5d9a5e27",
   "metadata": {},
   "source": [
    "#### Calculating Monetory Value"
   ]
  },
  {
   "cell_type": "code",
   "execution_count": 75,
   "id": "d4edd78c-2af7-4e6f-8bd1-1fee23002fc2",
   "metadata": {},
   "outputs": [],
   "source": [
    "Money=[]\n",
    "for i in unique_cid:\n",
    "    df1=df[df['Customer ID']==i]\n",
    "    df1['Prod']=df1['Quantity'] * df1['Price']\n",
    "    Money.append(sum(df1['Prod']))\n",
    "    "
   ]
  },
  {
   "cell_type": "code",
   "execution_count": 76,
   "id": "83e24431-9f21-4eb8-8b1f-347a2e3d4425",
   "metadata": {},
   "outputs": [],
   "source": [
    "dff_new={}\n",
    "dff_new['Recency']=recency\n",
    "dff_new['Frequency']=freq\n",
    "dff_new['Money Spent']=Money\n",
    "df_new=pd.DataFrame(dff_new)\n",
    "df_new = df_new.dropna()"
   ]
  },
  {
   "cell_type": "code",
   "execution_count": 77,
   "id": "96831dd9-2904-468d-b302-fc4b513ab41b",
   "metadata": {},
   "outputs": [],
   "source": [
    "scaler = StandardScaler()\n",
    "df_new.iloc[:,1:4]= scaler.fit_transform(df_new.iloc[:,1:4])"
   ]
  },
  {
   "cell_type": "markdown",
   "id": "b92e5b85-5942-4319-b1a8-ddf6259e4530",
   "metadata": {},
   "source": [
    "#### Finding the optimal K"
   ]
  },
  {
   "cell_type": "code",
   "execution_count": 78,
   "id": "9b57df2c-9d41-43d7-b2c3-95aa063a62ba",
   "metadata": {},
   "outputs": [],
   "source": [
    "silhouetteScoreDict={}\n",
    "for k in range(2,8):\n",
    "    kMeansModel = KMeans(n_clusters=k)\n",
    "    kMeansModel = kMeansModel.fit(df_new)\n",
    "    clusterIndex = kMeansModel.labels_\n",
    "    silhouetteScore = silhouette_score(df_new, clusterIndex)\n",
    "    silhouetteScoreDict[k] = silhouetteScore\n",
    "sortedScores = sorted(silhouetteScoreDict.items(), key=operator.itemgetter(1), reverse=True)\n",
    "bestCluster = sortedScores[0][0]"
   ]
  },
  {
   "cell_type": "markdown",
   "id": "d37a5071-fd54-4086-9c1f-8db21898c75f",
   "metadata": {},
   "source": [
    "#### Building the Clusteriing model with the best K"
   ]
  },
  {
   "cell_type": "code",
   "execution_count": 79,
   "id": "58cf0be2-65ac-4121-9888-1e32d566f315",
   "metadata": {},
   "outputs": [],
   "source": [
    "kmeans = KMeans(n_clusters=bestCluster, random_state=0)\n",
    "df_new['Cluster'] = kmeans.fit_predict(df_new)\n"
   ]
  },
  {
   "cell_type": "markdown",
   "id": "872f9ba0-5c4c-4d7f-9cc8-aba9fc50d590",
   "metadata": {},
   "source": [
    "#### Analyzing and Interpretting the Clusters"
   ]
  },
  {
   "cell_type": "code",
   "execution_count": 80,
   "id": "5f3a284a-d5cf-4193-9161-8d24e437c85a",
   "metadata": {},
   "outputs": [
    {
     "name": "stdout",
     "output_type": "stream",
     "text": [
      "Centroids of the clusters:\n",
      "[[ 5.11625281e+03 -3.23304262e-01 -1.74355276e-01]\n",
      " [ 4.91282745e+03  1.04159563e-01  5.61723785e-02]]\n",
      "             Recency  Frequency  Money Spent\n",
      "Cluster                                     \n",
      "0        5116.252809  -0.323304    -0.174355\n",
      "1        4912.827451   0.104160     0.056172\n",
      "Cluster\n",
      "1    3315\n",
      "0    1068\n",
      "Name: count, dtype: int64\n"
     ]
    }
   ],
   "source": [
    "print(\"Centroids of the clusters:\")\n",
    "print(kmeans.cluster_centers_)\n",
    "\n",
    "cluster_summary = df_new.groupby('Cluster').mean()\n",
    "print(cluster_summary)\n",
    "\n",
    "print(df_new['Cluster'].value_counts())\n"
   ]
  },
  {
   "cell_type": "markdown",
   "id": "4b4f6c2e-932a-4120-9105-95de283f3923",
   "metadata": {},
   "source": [
    "#### Plotting the clusters in 2D space\n"
   ]
  },
  {
   "cell_type": "code",
   "execution_count": 81,
   "id": "30d931f8-33fa-45e4-8362-c2d3d814e33b",
   "metadata": {},
   "outputs": [
    {
     "data": {
      "image/png": "[encoded data removed]",
      "text/plain": [
       "<Figure size 1000x800 with 2 Axes>"
      ]
     },
     "metadata": {},
     "output_type": "display_data"
    }
   ],
   "source": [
    "pca = PCA(n_components=2)\n",
    "principal_components = pca.fit_transform(df_new)\n",
    "plt.figure(figsize=(10, 8))\n",
    "plt.scatter(principal_components[:, 0], principal_components[:, 1], c=df_new['Cluster'])\n",
    "plt.xlabel('Principal Component 1')\n",
    "plt.ylabel('Principal Component 2')\n",
    "plt.title('2D Visualization of Customer Clusters')\n",
    "plt.colorbar()\n",
    "plt.show()\n"
   ]
  }
 ],
 "metadata": {
  "kernelspec": {
   "display_name": "Python 3 (ipykernel)",
   "language": "python",
   "name": "python3"
  },
  "language_info": {
   "codemirror_mode": {
    "name": "ipython",
    "version": 3
   },
   "file_extension": ".py",
   "mimetype": "text/x-python",
   "name": "python",
   "nbconvert_exporter": "python",
   "pygments_lexer": "ipython3",
   "version": "3.11.7"
  },
  "papermill": {
   "default_parameters": {},
   "duration": 26.376654,
   "end_time": "2024-04-11T05:57:28.660974",
   "environment_variables": {},
   "exception": null,
   "input_path": "__notebook__.ipynb",
   "output_path": "__notebook__.ipynb",
   "parameters": {},
   "start_time": "2024-04-11T05:57:02.284320",
   "version": "2.3.4"
  }
 },
 "nbformat": 4,
 "nbformat_minor": 5
}
